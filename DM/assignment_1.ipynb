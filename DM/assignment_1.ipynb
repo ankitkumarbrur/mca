{
 "metadata": {
  "language_info": {
   "codemirror_mode": {
    "name": "ipython",
    "version": 3
   },
   "file_extension": ".py",
   "mimetype": "text/x-python",
   "name": "python",
   "nbconvert_exporter": "python",
   "pygments_lexer": "ipython3",
   "version": "3.8.1-final"
  },
  "orig_nbformat": 2,
  "kernelspec": {
   "name": "python3",
   "display_name": "Python 3",
   "language": "python"
  }
 },
 "nbformat": 4,
 "nbformat_minor": 2,
 "cells": [
  {
   "source": [
    "# Assignment 1\n",
    "\n",
    "## Course: Master of Computer Application (MCA)\n",
    "## Subject: Discrete Mathematics Last Date of Submission: 31/01/2021\n",
    "1. Write a program to implement Binary search (Recursive and Iterative).\n",
    "2. Write a program to implement tower of Hanoi (Recursive and Iterative).\n",
    "3. Write a program to generate a Pascal’s triangle.\n",
    "4. Write a program to implement the following laws:\n",
    "    * Identity laws\n",
    "    * Domination laws\n",
    "    * Double negation laws\n",
    "    * Demorgan’s laws\n",
    "    * Associative laws\n",
    "5. Write a program to implement the tautology, Contradiction/Absurdity and Contingency.\n",
    "6. Write a program to implement Modus ponens and Modus Tollens.\n",
    "7. Write a program to implement ~$\\forall$xP(x) = $\\exists$x~P(x).\n",
    "8. Write a program to find the Union and Intersection of two sets.\n",
    "9. Write a program to find the power set of the given set.\n",
    "10. Write a program to find the permutation of the given set."
   ],
   "cell_type": "markdown",
   "metadata": {}
  },
  {
   "source": [
    "# Functions"
   ],
   "cell_type": "markdown",
   "metadata": {}
  },
  {
   "cell_type": "code",
   "execution_count": null,
   "metadata": {},
   "outputs": [],
   "source": [
    "def binary_search_r(arr, first, last, ele): \n",
    "\n",
    "    if last >= first:\n",
    "        mid = (last + first) // 2\n",
    "        if arr[mid] == ele:\n",
    "            return mid\n",
    "        elif arr[mid] > ele:\n",
    "            return binary_search_r(arr, first, mid - 1, ele)\n",
    "        else:\n",
    "            return binary_search_r(arr, mid + 1, last, ele)\n",
    "\n",
    "    else: \n",
    "        return -1"
   ]
  },
  {
   "cell_type": "code",
   "execution_count": null,
   "metadata": {},
   "outputs": [],
   "source": [
    "def binary_search_i(arr, ele): \n",
    "    first = 0\n",
    "    last = len(arr) - 1\n",
    "    mid = 0\n",
    "  \n",
    "    while first <= last: \n",
    "  \n",
    "        mid = (last + first) // 2\n",
    "        if arr[mid] < ele: \n",
    "            first = mid + 1\n",
    "        elif arr[mid] > ele: \n",
    "            last = mid - 1\n",
    "        else: \n",
    "            return mid \n",
    "    return -1"
   ]
  },
  {
   "cell_type": "code",
   "execution_count": null,
   "metadata": {},
   "outputs": [],
   "source": [
    "def towerOfHanoi(n, src='A', des='B', aux='C'):\n",
    "    if n == 1:\n",
    "        print(\"Move disk 1 from rod\", src, \"to rod\", des)\n",
    "        return\n",
    "    towerOfHanoi(n-1, src, aux, des)\n",
    "    print(\"Move disk\", n, \"from rod\", src, \"to rod\", des)\n",
    "    towerOfHanoi(n-1, aux, des, src)"
   ]
  },
  {
   "cell_type": "code",
   "execution_count": null,
   "metadata": {},
   "outputs": [],
   "source": [
    "rod={0:'A',1:'B',2:'C'}\n",
    "\n",
    "def hanoi(n):\n",
    "\tfor i in range(2**n-1):\n",
    "\t\tstart = (i & i+1) % 3\n",
    "\t\tend = ((i | i+1)+1) % 3\n",
    "\t\tmove_disk(start, end)\n",
    "\n",
    "def move_disk(start, end):\n",
    "\tprint(\"Move topmost disk from rod {} to rod {}\".format(rod[start], rod[end]))"
   ]
  },
  {
   "cell_type": "code",
   "execution_count": null,
   "metadata": {},
   "outputs": [],
   "source": [
    "def pascal(n):\n",
    "\n",
    "    for line in range(1, n + 1):\n",
    "        C = 1;\n",
    "        print(' '*(n-line),end=\"\")\n",
    "        for i in range(1, line + 1):\n",
    "            print(C, end = \" \");\n",
    "            C = C * (line - i) // i;\n",
    "        print(\"\");"
   ]
  },
  {
   "cell_type": "code",
   "execution_count": null,
   "metadata": {},
   "outputs": [],
   "source": [
    "def powerset(s):\n",
    "    pSet = list({i,} for i in s)\n",
    "    for i in s:\n",
    "        for j in range(len(pSet)):\n",
    "            if pSet[j].union({i}) not in pSet: pSet.append(pSet[j].union({i}))\n",
    "            \n",
    "    return pSet"
   ]
  },
  {
   "cell_type": "code",
   "execution_count": null,
   "metadata": {},
   "outputs": [],
   "source": [
    "def powerset(s):\n",
    "    if not s:\n",
    "        return list()\n",
    "    ele = s.pop()\n",
    "    pSet = powerset(s)\n",
    "    for i in range(len(pSet)):\n",
    "        pSet.append((*pSet[i],ele))\n",
    "    pSet.append((ele,))\n",
    "    return pSet\n",
    "            "
   ]
  },
  {
   "cell_type": "code",
   "execution_count": null,
   "metadata": {},
   "outputs": [],
   "source": [
    "def union(s1,s2):\n",
    "    return s1 | s2"
   ]
  },
  {
   "cell_type": "code",
   "execution_count": null,
   "metadata": {},
   "outputs": [],
   "source": [
    "def intersection(s1,s2):\n",
    "    return s1 & s2"
   ]
  },
  {
   "cell_type": "code",
   "execution_count": null,
   "metadata": {},
   "outputs": [],
   "source": [
    "def permutation(s):\n",
    "    if not isinstance(s,list):\n",
    "        s = list(s)\n",
    "        \n",
    "    if len(s)<2:\n",
    "        return [s]\n",
    "    \n",
    "    per_list = []\n",
    "\n",
    "    for i in range(len(s)):\n",
    "        list(per_list.append(p+[s[i]]) for p in permutation(s[:i]+s[i+1:]))           \n",
    "\n",
    "    return per_list"
   ]
  },
  {
   "source": [
    "# RUN"
   ],
   "cell_type": "markdown",
   "metadata": {}
  },
  {
   "source": [
    "## laws"
   ],
   "cell_type": "markdown",
   "metadata": {}
  },
  {
   "cell_type": "code",
   "execution_count": 30,
   "metadata": {},
   "outputs": [],
   "source": [
    "p = [True, True, False, False]\n",
    "t = [True, False, True, False]\n",
    "a = [False, False, False, False, True, True, True, True]\n",
    "b = [False, False, True, True, False, False, True, True]\n",
    "c = [False, True, False, True, False, True, False, True]"
   ]
  },
  {
   "cell_type": "code",
   "execution_count": 48,
   "metadata": {},
   "outputs": [
    {
     "output_type": "stream",
     "name": "stdout",
     "text": [
      "\nIDENTITY LAWS\n----------------------------------------\n1. P^T = P\n\nP\t^\tT\tResult\n\nTrue\t^\tTrue\tTrue\n\nTrue\t^\tTrue\tTrue\n\nFalse\t^\tTrue\tFalse\n\nFalse\t^\tTrue\tFalse\n\n2. PvF = P\n\nP\tv\tF\tResult\n\nTrue\tv\tFalse\tTrue\n\nTrue\tv\tFalse\tTrue\n\nFalse\tv\tFalse\tFalse\n\nFalse\tv\tFalse\tFalse\n"
     ]
    }
   ],
   "source": [
    "print(\"\\nIDENTITY LAWS\")\n",
    "print('-'*40)\n",
    "print(\"1. P^T = P\")\n",
    "print(\"\\nP\\t^\\tT\\tResult\")\n",
    "for i in p:\n",
    "    print(f\"\\n{i}\\t^\\t{True}\\t{i&True}\")\n",
    "print(\"\\n2. PvF = P\")\n",
    "print(\"\\nP\\tv\\tF\\tResult\")\n",
    "for i in p:\n",
    "    print(f\"\\n{i}\\tv\\t{False}\\t{i|False}\")"
   ]
  },
  {
   "cell_type": "code",
   "execution_count": 13,
   "metadata": {},
   "outputs": [
    {
     "output_type": "stream",
     "name": "stdout",
     "text": [
      "\nDOMINATION LAWS\n----------------------------------------\n1. PvT = T\n\nP\tv\tT\tResult\n\nTrue\tv\tTrue\tTrue\n\nTrue\tv\tTrue\tTrue\n\nFalse\tv\tTrue\tTrue\n\nFalse\tv\tTrue\tTrue\n\n2. P^F = F\n\nP\t^\tF\tResult\n\nTrue\t^\tFalse\tFalse\n\nTrue\t^\tFalse\tFalse\n\nFalse\t^\tFalse\tFalse\n\nFalse\t^\tFalse\tFalse\n"
     ]
    }
   ],
   "source": [
    "print(\"\\nDOMINATION LAWS\")\n",
    "print('-'*40)\n",
    "print(\"1. PvT = T\")\n",
    "print(\"\\nP\\tv\\tT\\tResult\")\n",
    "for i in p:\n",
    "    print(f\"\\n{i}\\tv\\t{True}\\t{i|True}\")\n",
    "print(\"\\n2. P^F = F\")\n",
    "print(\"\\nP\\t^\\tF\\tResult\")\n",
    "for i in p:\n",
    "    print(f\"\\n{i}\\t^\\t{False}\\t{i&False}\")"
   ]
  },
  {
   "cell_type": "code",
   "execution_count": 15,
   "metadata": {},
   "outputs": [
    {
     "output_type": "stream",
     "name": "stdout",
     "text": [
      "\nDOUBLE NEGAION LAW\n----------------------------------------\n~(~P) = P\n\nP\t~P\t~(~P)\n\nTrue\tFalse\tTrue\n\nTrue\tFalse\tTrue\n\nFalse\tTrue\tFalse\n\nFalse\tTrue\tFalse\n"
     ]
    }
   ],
   "source": [
    "print(\"\\nDOUBLE NEGAION LAW\")\n",
    "print('-'*40)\n",
    "print(\"~(~P) = P\")\n",
    "print(\"\\nP\\t~P\\t~(~P)\")\n",
    "for i in p:\n",
    "    print(f\"\\n{i}\\t{not i}\\t{not(not i)}\")"
   ]
  },
  {
   "cell_type": "code",
   "execution_count": 26,
   "metadata": {},
   "outputs": [
    {
     "output_type": "stream",
     "name": "stdout",
     "text": [
      "\nDemogan's LAWS\n----------------------------------------\n1. (P^T)' = P'vT'\n\nP\tT\t(P^T)\tP'\tT'\t(P^T)'\tP'vT'\n\nTrue\tTrue\tTrue\tFalse\tFalse\tFalse\tFalse\n\nTrue\tFalse\tFalse\tFalse\tTrue\tTrue\tTrue\n\nFalse\tTrue\tFalse\tTrue\tFalse\tTrue\tTrue\n\nFalse\tFalse\tFalse\tTrue\tTrue\tTrue\tTrue\n\n1. (PvT)' = P'^T'\n\nP\tT\t(PvT)\tP'\tT'\t(P^T)'\tP'^T'\n\nTrue\tTrue\tTrue\tFalse\tFalse\tFalse\tFalse\n\nTrue\tFalse\tTrue\tFalse\tTrue\tFalse\tFalse\n\nFalse\tTrue\tTrue\tTrue\tFalse\tFalse\tFalse\n\nFalse\tFalse\tFalse\tTrue\tTrue\tTrue\tTrue\n"
     ]
    }
   ],
   "source": [
    "print(\"\\nDemogan's LAWS\")\n",
    "print('-'*40)\n",
    "print(\"1. (P^T)' = P'vT'\")\n",
    "print(\"\\nP\\tT\\t(P^T)\\tP'\\tT'\\t(P^T)'\\tP'vT'\")\n",
    "for i,j in zip(p,t):\n",
    "    print(f\"\\n{i}\\t{j}\\t{i&j}\\t{not i}\\t{not j}\\t{not (i&j)}\\t{not i or not j}\")\n",
    "print(\"\\n1. (PvT)' = P'^T'\")\n",
    "print(\"\\nP\\tT\\t(PvT)\\tP'\\tT'\\t(P^T)'\\tP'^T'\")\n",
    "for i,j in zip(p,t):\n",
    "    print(f\"\\n{i}\\t{j}\\t{i|j}\\t{not i}\\t{not j}\\t{not (i|j)}\\t{not i and not j}\")"
   ]
  },
  {
   "cell_type": "code",
   "execution_count": 31,
   "metadata": {},
   "outputs": [
    {
     "output_type": "stream",
     "name": "stdout",
     "text": [
      "\nAssociative LAWS\n----------------------------------------\n1. (A^B)^C = A^(B^C)\n\nA\tB\tC\t(A^B)\t(B^C)\t(A^B)^C\tA^(B^C)\n\nFalse\tFalse\tFalse\tFalse\tFalse\tFalse\tFalse\n\nFalse\tFalse\tTrue\tFalse\tFalse\tFalse\tFalse\n\nFalse\tTrue\tFalse\tFalse\tFalse\tFalse\tFalse\n\nFalse\tTrue\tTrue\tFalse\tTrue\tFalse\tFalse\n\nTrue\tFalse\tFalse\tFalse\tFalse\tFalse\tFalse\n\nTrue\tFalse\tTrue\tFalse\tFalse\tFalse\tFalse\n\nTrue\tTrue\tFalse\tTrue\tFalse\tFalse\tFalse\n\nTrue\tTrue\tTrue\tTrue\tTrue\tTrue\tTrue\n\n1. (AvB)vC = Av(BvC)\n\nA\tB\tC\t(AvB)\t(BvC)\t(AvB)vC\tAv(BvC)\n\nFalse\tFalse\tFalse\tFalse\tFalse\tFalse\tFalse\n\nFalse\tFalse\tTrue\tFalse\tTrue\tTrue\tTrue\n\nFalse\tTrue\tFalse\tTrue\tTrue\tTrue\tTrue\n\nFalse\tTrue\tTrue\tTrue\tTrue\tTrue\tTrue\n\nTrue\tFalse\tFalse\tTrue\tFalse\tTrue\tTrue\n\nTrue\tFalse\tTrue\tTrue\tTrue\tTrue\tTrue\n\nTrue\tTrue\tFalse\tTrue\tTrue\tTrue\tTrue\n\nTrue\tTrue\tTrue\tTrue\tTrue\tTrue\tTrue\n"
     ]
    }
   ],
   "source": [
    "print(\"\\nAssociative LAWS\")\n",
    "print('-'*40)\n",
    "print(\"1. (A^B)^C = A^(B^C)\")\n",
    "print(\"\\nA\\tB\\tC\\t(A^B)\\t(B^C)\\t(A^B)^C\\tA^(B^C)\")\n",
    "for i,j,k in zip(a,b,c):\n",
    "    print(f\"\\n{i}\\t{j}\\t{k}\\t{i&j}\\t{j&k}\\t{(i&j)&k}\\t{i&(j&k)}\")\n",
    "print(\"\\n1. (AvB)vC = Av(BvC)\")\n",
    "print(\"\\nA\\tB\\tC\\t(AvB)\\t(BvC)\\t(AvB)vC\\tAv(BvC)\")\n",
    "for i,j,k in zip(a,b,c):\n",
    "    print(f\"\\n{i}\\t{j}\\t{k}\\t{i|j}\\t{j|k}\\t{(i|j)|k}\\t{i|(j|k)}\")"
   ]
  },
  {
   "cell_type": "code",
   "execution_count": 47,
   "metadata": {},
   "outputs": [
    {
     "output_type": "stream",
     "name": "stdout",
     "text": [
      "Modus Ponens\n\n(P=>Q)^P gives(implies) P\n\nP\tQ\t(P=>Q)\t(P=>Q)^P\t(P=>Q^P)=>P\n\nTrue\tTrue\tTrue\tTrue\t\tTrue\n\nTrue\tFalse\tFalse\tFalse\t\tTrue\n\nFalse\tTrue\tTrue\tFalse\t\tTrue\n\nFalse\tFalse\tTrue\tFalse\t\tTrue\n------------------------------------------------------------\n\nModus Tollens\n\n(P=>Q)^~Q gives(implies) ~P\n\nP\tQ\t(P=>Q)\t(P=>Q)^~Q\t(P=>Q^P)=>~P\n\nTrue\tTrue\tTrue\tFalse\t\tTrue\n\nTrue\tFalse\tFalse\tFalse\t\tTrue\n\nFalse\tTrue\tTrue\tFalse\t\tTrue\n\nFalse\tFalse\tTrue\tTrue\t\tTrue\n"
     ]
    }
   ],
   "source": [
    "print(\"Modus Ponens\")\n",
    "print(\"\\n(P=>Q)^P gives(implies) P\")\n",
    "print(\"\\nP\\tQ\\t(P=>Q)\\t(P=>Q)^P\\t(P=>Q^P)=>P\")\n",
    "for i,j in zip(p,t):\n",
    "    print(f\"\\n{i}\\t{j}\\t{(not i or j)}\\t{(not i or j) and i}\\t\\t{not((not i or j) and i) or i}\")\n",
    "print('-'*60)\n",
    "print(\"\\nModus Tollens\")\n",
    "print(\"\\n(P=>Q)^~Q gives(implies) ~P\")\n",
    "print(\"\\nP\\tQ\\t(P=>Q)\\t(P=>Q)^~Q\\t(P=>Q^P)=>~P\")\n",
    "for i,j in zip(p,t):\n",
    "    print(f\"\\n{i}\\t{j}\\t{(not i or j)}\\t{(not i or j) and not j}\\t\\t{not((not i or j) and not j) or not i}\")    "
   ]
  },
  {
   "cell_type": "code",
   "execution_count": 51,
   "metadata": {},
   "outputs": [
    {
     "output_type": "stream",
     "name": "stdout",
     "text": [
      "Tautology\n\nP v ~P\n\nP\t~P\t(P v ~P)\n\nTrue\tFalse\tTrue\n\nTrue\tFalse\tTrue\n\nFalse\tTrue\tTrue\n\nFalse\tTrue\tTrue\n------------------------------------------------------------\nAbsurdity\n\nP ^ ~P\n\nP\t~P\t(P ^ ~P)\n\nTrue\tFalse\tFalse\n\nTrue\tFalse\tFalse\n\nFalse\tTrue\tFalse\n\nFalse\tTrue\tFalse\n------------------------------------------------------------\nContingency\n\nP v Q\n\nP\tQ\t(P ^ ~P)\n\nTrue\tTrue\tTrue\n\nTrue\tFalse\tTrue\n\nFalse\tTrue\tTrue\n\nFalse\tFalse\tFalse\n"
     ]
    }
   ],
   "source": [
    "print(\"Tautology\")\n",
    "print(\"\\nP v ~P\")\n",
    "print(\"\\nP\\t~P\\t(P v ~P)\")\n",
    "for i in p:\n",
    "    print(f\"\\n{i}\\t{not i}\\t{(not i or i)}\")\n",
    "print('-'*60)\n",
    "print(\"Absurdity\")\n",
    "print(\"\\nP ^ ~P\")\n",
    "print(\"\\nP\\t~P\\t(P ^ ~P)\")\n",
    "for i in p:\n",
    "    print(f\"\\n{i}\\t{not i}\\t{(not i and i)}\")\n",
    "print('-'*60)\n",
    "print(\"Contingency\")\n",
    "print(\"\\nP v Q\")\n",
    "print(\"\\nP\\tQ\\t(P ^ ~P)\")\n",
    "for i,j in zip(p,t):\n",
    "    print(f\"\\n{i}\\t{j}\\t{(i|j)}\")"
   ]
  }
 ]
}