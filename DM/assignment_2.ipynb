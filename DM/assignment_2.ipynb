{
 "metadata": {
  "language_info": {
   "codemirror_mode": {
    "name": "ipython",
    "version": 3
   },
   "file_extension": ".py",
   "mimetype": "text/x-python",
   "name": "python",
   "nbconvert_exporter": "python",
   "pygments_lexer": "ipython3",
   "version": "3.9.2-final"
  },
  "orig_nbformat": 2,
  "kernelspec": {
   "name": "python3",
   "display_name": "Python 3.9.2 64-bit",
   "metadata": {
    "interpreter": {
     "hash": "9552b8190f63102abce783a036fdab59c8fbd44b305ff071c472b263e7af8b3a"
    }
   }
  }
 },
 "nbformat": 4,
 "nbformat_minor": 2,
 "cells": [
  {
   "source": [
    "# Menu\n",
    "1. Write a recursive program to find the squared sum of N natural numbers e.g..\n",
    "2. Write a program to find a Preorder, Inorder and Postorder traversal of 3-ary Tree.\n",
    "3. Write a program to solve the recurrence relation .\n",
    "4. Write a program to implement the breadth first search(BFS) and depth first search(DFS) in graph.\n",
    "5. Write a program to identify the Eulerian and Hamiltonian circuits in a given graph.\n",
    "6. Write a program to identify that the given graph is planar or not."
   ],
   "cell_type": "markdown",
   "metadata": {}
  },
  {
   "source": [
    "# RUN"
   ],
   "cell_type": "markdown",
   "metadata": {}
  },
  {
   "cell_type": "code",
   "execution_count": 1,
   "metadata": {},
   "outputs": [],
   "source": [
    "from myCollection import Stack\n",
    "from myCollection import Queue\n",
    "from collections import defaultdict"
   ]
  },
  {
   "cell_type": "code",
   "execution_count": 2,
   "metadata": {},
   "outputs": [],
   "source": [
    "def seqSum(n):\n",
    "    return 0 if not n else n*n + seqSum(n-1)"
   ]
  },
  {
   "cell_type": "code",
   "execution_count": 31,
   "metadata": {},
   "outputs": [
    {
     "output_type": "stream",
     "name": "stdout",
     "text": [
      "Squared sum upto n = 5 is 55\n"
     ]
    }
   ],
   "source": [
    "print(\"Squared sum upto n = 5 is\",seqSum(5))"
   ]
  },
  {
   "cell_type": "code",
   "execution_count": 3,
   "metadata": {},
   "outputs": [],
   "source": [
    "class Node:\n",
    "    def __init__(self, val, left = None, mid = None, right = None):\n",
    "        self.value = val\n",
    "        self.left = left\n",
    "        self.mid = mid\n",
    "        self.right = right"
   ]
  },
  {
   "cell_type": "code",
   "execution_count": 4,
   "metadata": {},
   "outputs": [],
   "source": [
    "def inorder(currN):\n",
    "    if currN:\n",
    "        inorder(currN.left) \n",
    "        inorder(currN.mid) \n",
    "        print(currN.value)\n",
    "        inorder(currN.right)"
   ]
  },
  {
   "cell_type": "code",
   "execution_count": 5,
   "metadata": {},
   "outputs": [],
   "source": [
    "def preorder(currN):\n",
    "    if currN:\n",
    "        print(currN.value)\n",
    "        preorder(currN.left) \n",
    "        preorder(currN.mid) \n",
    "        preorder(currN.right)"
   ]
  },
  {
   "cell_type": "code",
   "execution_count": 6,
   "metadata": {},
   "outputs": [],
   "source": [
    "def postorder(currN):\n",
    "    if currN:\n",
    "        postorder(currN.left) \n",
    "        postorder(currN.mid) \n",
    "        postorder(currN.right)\n",
    "        print(currN.value)"
   ]
  },
  {
   "cell_type": "code",
   "execution_count": 7,
   "metadata": {},
   "outputs": [],
   "source": [
    "root = Node(\"Nidhi\")\n",
    "sky = Node(\"SKY\")\n",
    "ayan = Node(\"Ayan\")\n",
    "aayat = Node(\"Aayat\")\n",
    "root.left = sky\n",
    "root.mid = ayan\n",
    "root.right = aayat\n",
    "sky.left = Node(\"Aahana\")\n",
    "sky.right = Node(\"Ira\")"
   ]
  },
  {
   "cell_type": "code",
   "execution_count": 14,
   "metadata": {},
   "outputs": [
    {
     "output_type": "stream",
     "name": "stdout",
     "text": [
      "Inorder Traversal of the tree:\nAahana\nSKY\nIra\nAyan\nNidhi\nAayat\n\nPreorder Traversal of the tree:\nNidhi\nSKY\nAahana\nIra\nAyan\nAayat\n\nPostorder Traversal of the tree:\nAahana\nIra\nSKY\nAyan\nAayat\nNidhi\n"
     ]
    }
   ],
   "source": [
    "print(\"Inorder Traversal of the tree:\")\n",
    "inorder(root)\n",
    "print(\"\\nPreorder Traversal of the tree:\")\n",
    "preorder(root)\n",
    "print(\"\\nPostorder Traversal of the tree:\")\n",
    "postorder(root)"
   ]
  },
  {
   "cell_type": "code",
   "execution_count": 9,
   "metadata": {},
   "outputs": [],
   "source": [
    "# O(n) = 2*O(n/2) + O(n)\n",
    "\n",
    "def mergeSort(my_list):\n",
    "    if len(my_list)>1:\n",
    "        mid = len(my_list)//2\n",
    "        left = my_list[:mid]\n",
    "        right = my_list[mid:]\n",
    "        mergeSort(left)\n",
    "        mergeSort(right)\n",
    "\n",
    "        i = j = k = 0\n",
    "\n",
    "        while i<len(left) and j<len(right):\n",
    "            if left[i] < right[j]:\n",
    "                my_list[k] = left[i]\n",
    "                i+=1\n",
    "            else:\n",
    "                my_list[k] = right[j]\n",
    "                j+=1\n",
    "            k+=1\n",
    "\n",
    "        while i < len(left):\n",
    "            my_list[k] = left[i]\n",
    "            i += 1\n",
    "            k += 1\n",
    " \n",
    "        while j < len(right):\n",
    "            my_list[k] = right[j]\n",
    "            j += 1\n",
    "            k += 1"
   ]
  },
  {
   "cell_type": "code",
   "execution_count": 10,
   "metadata": {},
   "outputs": [
    {
     "output_type": "execute_result",
     "data": {
      "text/plain": [
       "[3, 4, 8, 9]"
      ]
     },
     "metadata": {},
     "execution_count": 10
    }
   ],
   "source": [
    "a = [8,4,3,9]\n",
    "mergeSort(a)\n",
    "a"
   ]
  },
  {
   "cell_type": "code",
   "execution_count": 11,
   "metadata": {},
   "outputs": [],
   "source": [
    "# isPlanar\n",
    "# isEulerGraph\n",
    "# isConnected\n",
    "# bfs\n",
    "# dfs\n",
    "\n",
    "class Graph:\n",
    "    def __init__(self):\n",
    "        self.edges = defaultdict(list)\n",
    "    \n",
    "    def newEdge(self, v1, v2):\n",
    "        self.edges[v1].append(v2)\n",
    "\n",
    "    def isEulerGraph(self):\n",
    "        if self.isConnected():\n",
    "            for i in self.edges.values():\n",
    "                if len(i)%2:\n",
    "                    return False\n",
    "            return True\n",
    "        else:\n",
    "            return False\n",
    "\n",
    "    def isPlanar(self):\n",
    "        if self.isConnected():              \n",
    "            edge_count = 0\n",
    "            for i in self.edges.values():\n",
    "                edge_count+= len(i)\n",
    "\n",
    "            if not edge_count/2 <= 3*len(self.edges)-6:\n",
    "                return False\n",
    "\n",
    "            return True\n",
    "        else:\n",
    "            return False\n",
    "\n",
    "    def bfs(self, source):\n",
    "        visited = set()\n",
    "        q = Queue(sum(list(len(i) for i in self.edges.values())))\n",
    "        path = \"\"\n",
    "\n",
    "        q.enqueue(source)\n",
    "        visited.add(source)\n",
    "\n",
    "        while not q.isEmpty():\n",
    "            \n",
    "            v = q.dequeue()\n",
    "            # print(v, end=\" \")\n",
    "            path += str(v)+\" \"\n",
    "\n",
    "            for i in self.edges[v]:\n",
    "                if i not in visited:\n",
    "                    q.enqueue(i)\n",
    "                    visited.add(i)\n",
    "\n",
    "        self.visited = visited\n",
    "        return path\n",
    "\n",
    "    def dfs(self, source):\n",
    "        visited = set()\n",
    "        s = Stack(20)\n",
    "\n",
    "        path = \"\"\n",
    "\n",
    "        s.push(source)\n",
    "        visited.add(source)\n",
    "\n",
    "        while not s.isEmpty():\n",
    "            \n",
    "            v = s.pop()\n",
    "            # print(v, end=\" \")\n",
    "            path += str(v)+\" \"\n",
    "\n",
    "            for i in self.edges[v]:\n",
    "                if i not in visited:\n",
    "                    s.push(i)\n",
    "                    visited.add(i)\n",
    "\n",
    "        self.visited = visited\n",
    "        return path\n",
    "    \n",
    "    def isConnected(self):\n",
    "        self.dfs(list(self.edges.keys())[0])\n",
    "        for i in self.edges:\n",
    "            if i not in self.visited:\n",
    "                return False\n",
    "        return True"
   ]
  },
  {
   "cell_type": "code",
   "execution_count": 12,
   "metadata": {},
   "outputs": [],
   "source": [
    "g = Graph()\n",
    "g.newEdge('a', 'b')\n",
    "g.newEdge('b', 'a')\n",
    "g.newEdge('c', 'b')\n",
    "g.newEdge('b', 'c')\n",
    "g.newEdge('c', 'd')\n",
    "g.newEdge('d', 'c')\n",
    "g.newEdge('d', 'e')\n",
    "g.newEdge('e', 'd')"
   ]
  },
  {
   "cell_type": "code",
   "execution_count": 15,
   "metadata": {},
   "outputs": [
    {
     "output_type": "execute_result",
     "data": {
      "text/plain": [
       "True"
      ]
     },
     "metadata": {},
     "execution_count": 15
    }
   ],
   "source": [
    "g.isConnected()"
   ]
  },
  {
   "cell_type": "code",
   "execution_count": 20,
   "metadata": {},
   "outputs": [
    {
     "output_type": "stream",
     "name": "stdout",
     "text": [
      "Breadth first traversal of the graph:  c b d a e \nDepth first traversal of the graph:  c d e b a \n"
     ]
    }
   ],
   "source": [
    "print(\"Breadth first traversal of the graph: \",g.bfs('c'))\n",
    "print(\"Depth first traversal of the graph: \",g.dfs('c'))"
   ]
  },
  {
   "cell_type": "code",
   "execution_count": 22,
   "metadata": {},
   "outputs": [
    {
     "output_type": "execute_result",
     "data": {
      "text/plain": [
       "False"
      ]
     },
     "metadata": {},
     "execution_count": 22
    }
   ],
   "source": [
    "g.isEulerGraph()"
   ]
  },
  {
   "cell_type": "code",
   "execution_count": 23,
   "metadata": {},
   "outputs": [
    {
     "output_type": "execute_result",
     "data": {
      "text/plain": [
       "True"
      ]
     },
     "metadata": {},
     "execution_count": 23
    }
   ],
   "source": [
    "g.isPlanar()"
   ]
  },
  {
   "cell_type": "code",
   "execution_count": 24,
   "metadata": {},
   "outputs": [],
   "source": [
    "# isHamiltonian\n",
    "class Graph(): \n",
    "\tdef __init__(self, vertices): \n",
    "\t\tself.graph = [[0 for column in range(vertices)] \n",
    "\t\t\t\t\t\t\tfor row in range(vertices)] \n",
    "\t\tself.V = vertices \n",
    "\n",
    "\tdef isSafe(self, v, pos, path): \n",
    "\n",
    "\t\tif self.graph[ path[pos-1] ][v] == 0: \n",
    "\t\t\treturn False\n",
    "\n",
    "\t\tfor vertex in path: \n",
    "\t\t\tif vertex == v: \n",
    "\t\t\t\treturn False\n",
    "\n",
    "\t\treturn True\n",
    "\n",
    "\tdef hamCycleUtil(self, path, pos): \n",
    "\n",
    "\t\tif pos == self.V: \n",
    "\t\t\tif self.graph[ path[pos-1] ][ path[0] ] == 1: \n",
    "\t\t\t\treturn True\n",
    "\t\t\telse: \n",
    "\t\t\t\treturn False\n",
    "\n",
    "\t\tfor v in range(1,self.V): \n",
    "\n",
    "\t\t\tif self.isSafe(v, pos, path) == True: \n",
    "\t\t\t\tpath[pos] = v \n",
    "\t\t\t\tif self.hamCycleUtil(path, pos+1) == True: \n",
    "\t\t\t\t\treturn True\n",
    "\n",
    "\t\t\t\tpath[pos] = -1\n",
    "\n",
    "\t\treturn False\n",
    "\n",
    "\tdef isHamiltionian(self): \n",
    "\t\tpath = [-1] * self.V \n",
    "\n",
    "\t\tpath[0] = 0\n",
    "\n",
    "\t\tif self.hamCycleUtil(path,1) == False: \n",
    "\t\t\tprint (\"Given graph is not hamiltonian: \\n\") \n",
    "\t\t\treturn False\n",
    "\n",
    "\t\tself.printSolution(path) \n",
    "\t\treturn True\n",
    "\n",
    "\tdef printSolution(self, path): \n",
    "\t\tprint (\"Given graph is hamiltonian: \\nFollowing is one Hamiltonian Cycle\") \n",
    "\t\tfor vertex in path: \n",
    "\t\t\tprint (vertex, end = \" \") \n",
    "\t\tprint (path[0], \"\\n\") "
   ]
  },
  {
   "cell_type": "code",
   "execution_count": 26,
   "metadata": {},
   "outputs": [
    {
     "output_type": "stream",
     "name": "stdout",
     "text": [
      "Given graph is hamiltonian: \nFollowing is one Hamiltonian Cycle\n0 1 2 4 3 0 \n\n"
     ]
    },
    {
     "output_type": "execute_result",
     "data": {
      "text/plain": [
       "True"
      ]
     },
     "metadata": {},
     "execution_count": 26
    }
   ],
   "source": [
    "g = Graph(5) \n",
    "g.graph = [[0, 1, 0, 1, 0],\n",
    "            [1, 0, 1, 1, 1], \n",
    "            [0, 1, 0, 0, 1],\n",
    "            [1, 1, 0, 0, 1], \n",
    "\t\t\t[0, 1, 1, 1, 0]] \n",
    "\n",
    "g.isHamiltionian()"
   ]
  }
 ]
}