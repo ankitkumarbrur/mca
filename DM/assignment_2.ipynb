{
 "metadata": {
  "language_info": {
   "codemirror_mode": {
    "name": "ipython",
    "version": 3
   },
   "file_extension": ".py",
   "mimetype": "text/x-python",
   "name": "python",
   "nbconvert_exporter": "python",
   "pygments_lexer": "ipython3",
   "version": "3.9.2-final"
  },
  "orig_nbformat": 2,
  "kernelspec": {
   "name": "python3",
   "display_name": "Python 3.9.2 64-bit",
   "metadata": {
    "interpreter": {
     "hash": "9552b8190f63102abce783a036fdab59c8fbd44b305ff071c472b263e7af8b3a"
    }
   }
  }
 },
 "nbformat": 4,
 "nbformat_minor": 2,
 "cells": [
  {
   "source": [
    "# Menu\n",
    "1. Write a recursive program to find the squared sum of N natural numbers e.g..\n",
    "2. Write a program to find a Preorder, Inorder and Postorder traversal of 3-ary Tree.\n",
    "3. Write a program to solve the recurrence relation .\n",
    "4. Write a program to implement the breadth first search(BFS) and depth first search(DFS) in graph.\n",
    "5. Write a program to identify the Eulerian and Hamiltonian circuits in a given graph.\n",
    "6. Write a program to identify that the given graph is planar or not."
   ],
   "cell_type": "markdown",
   "metadata": {}
  },
  {
   "source": [
    "# RUN"
   ],
   "cell_type": "markdown",
   "metadata": {}
  },
  {
   "cell_type": "code",
   "execution_count": 6,
   "metadata": {},
   "outputs": [],
   "source": [
    "from myData import Stack\n",
    "from myData import Queue\n",
    "from collections import defaultdict"
   ]
  },
  {
   "cell_type": "code",
   "execution_count": 19,
   "metadata": {},
   "outputs": [],
   "source": [
    "def seqSum(n):\n",
    "    return 0 if not n else n*n + seqSum(n-1)"
   ]
  },
  {
   "cell_type": "code",
   "execution_count": 1,
   "metadata": {},
   "outputs": [],
   "source": [
    "class Node:\n",
    "    def __init__(self, val, left = None, mid = None, right = None):\n",
    "        self.value = val\n",
    "        self.left = left\n",
    "        self.mid = mid\n",
    "        self.right = right"
   ]
  },
  {
   "cell_type": "code",
   "execution_count": 2,
   "metadata": {},
   "outputs": [],
   "source": [
    "def inorder(currN):\n",
    "    if currN:\n",
    "        inorder(currN.left) \n",
    "        inorder(currN.mid) \n",
    "        print(currN.value)\n",
    "        inorder(currN.right)"
   ]
  },
  {
   "cell_type": "code",
   "execution_count": 3,
   "metadata": {},
   "outputs": [],
   "source": [
    "def preorder(currN):\n",
    "    if currN:\n",
    "        print(currN.value)\n",
    "        preorder(currN.left) \n",
    "        preorder(currN.mid) \n",
    "        preorder(currN.right)"
   ]
  },
  {
   "cell_type": "code",
   "execution_count": 4,
   "metadata": {},
   "outputs": [],
   "source": [
    "def postorder(currN):\n",
    "    if currN:\n",
    "        postorder(currN.left) \n",
    "        postorder(currN.mid) \n",
    "        postorder(currN.right)\n",
    "        print(currN.value)"
   ]
  },
  {
   "cell_type": "code",
   "execution_count": 5,
   "metadata": {},
   "outputs": [],
   "source": [
    "root = Node(\"Nidhi\")\n",
    "sky = Node(\"SKY\")\n",
    "ayan = Node(\"Ayan\")\n",
    "aayat = Node(\"Aayat\")\n",
    "root.left = sky\n",
    "root.mid = ayan\n",
    "root.right = aayat\n",
    "sky.left = Node(\"Aahana\")\n",
    "sky.right = Node(\"Ira\")"
   ]
  },
  {
   "cell_type": "code",
   "execution_count": 16,
   "metadata": {},
   "outputs": [],
   "source": [
    "class Graph:\n",
    "    def __init__(self):\n",
    "        self.child = defaultdict(list)\n",
    "    \n",
    "    def newEdge(self, v1, v2):\n",
    "        self.child[v1].append(v2)\n",
    "    \n",
    "    def bfs(self, source):\n",
    "        visited = set()\n",
    "        q = Queue(sum(list(len(i) for i in self.child.values())))\n",
    "\n",
    "        q.enqueue(source)\n",
    "        visited.add(source)\n",
    "\n",
    "        while not q.isEmpty():\n",
    "            \n",
    "            v = q.dequeue()\n",
    "            print(v, end=\" \")\n",
    "\n",
    "            for i in self.child[v]:\n",
    "                if i not in visited:\n",
    "                    q.enqueue(i)\n",
    "                    visited.add(i)\n",
    "\n",
    "    def dfs(self, source):\n",
    "        pass\n"
   ]
  },
  {
   "cell_type": "code",
   "execution_count": 17,
   "metadata": {},
   "outputs": [],
   "source": [
    "g = Graph()\n",
    "g.newEdge(1, 2)\n",
    "g.newEdge(1, 3)\n",
    "g.newEdge(2, 4)\n",
    "g.newEdge(2, 5)\n",
    "g.newEdge(3, 6)\n",
    "g.newEdge(3, 7)"
   ]
  }
 ]
}