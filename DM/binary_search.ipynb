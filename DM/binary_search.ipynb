{
 "metadata": {
  "language_info": {
   "codemirror_mode": {
    "name": "ipython",
    "version": 3
   },
   "file_extension": ".py",
   "mimetype": "text/x-python",
   "name": "python",
   "nbconvert_exporter": "python",
   "pygments_lexer": "ipython3",
   "version": "3.8.1-final"
  },
  "orig_nbformat": 2,
  "kernelspec": {
   "name": "python3",
   "display_name": "Python 3",
   "language": "python"
  }
 },
 "nbformat": 4,
 "nbformat_minor": 2,
 "cells": [
  {
   "source": [
    "# MENU\n",
    "1. Binary Search using recursion\n",
    "2. Binary Search using iteration"
   ],
   "cell_type": "markdown",
   "metadata": {}
  },
  {
   "source": [
    "# Functions"
   ],
   "cell_type": "markdown",
   "metadata": {}
  },
  {
   "cell_type": "code",
   "execution_count": 7,
   "metadata": {},
   "outputs": [],
   "source": [
    "def binary_search_r(arr, first, last, ele): \n",
    "\n",
    "    if last >= first:\n",
    "        mid = (last + first) // 2\n",
    "        if arr[mid] == ele:\n",
    "            return mid\n",
    "        elif arr[mid] > ele:\n",
    "            return binary_search_r(arr, first, mid - 1, ele)\n",
    "        else:\n",
    "            return binary_search_r(arr, mid + 1, last, ele)\n",
    "\n",
    "    else: \n",
    "        return -1"
   ]
  },
  {
   "cell_type": "code",
   "execution_count": 2,
   "metadata": {},
   "outputs": [],
   "source": [
    "def binary_search_i(arr, ele): \n",
    "    first = 0\n",
    "    last = len(arr) - 1\n",
    "    mid = 0\n",
    "  \n",
    "    while first <= last: \n",
    "  \n",
    "        mid = (last + first) // 2\n",
    "        if arr[mid] < ele: \n",
    "            first = mid + 1\n",
    "        elif arr[mid] > ele: \n",
    "            last = mid - 1\n",
    "        else: \n",
    "            return mid \n",
    "    return -1"
   ]
  },
  {
   "source": [
    "# RUN"
   ],
   "cell_type": "markdown",
   "metadata": {}
  },
  {
   "cell_type": "code",
   "execution_count": 16,
   "metadata": {},
   "outputs": [],
   "source": [
    "arr = list(map(int,input(\"Enter a list\").strip().split(\" \")))\n",
    "ele = int(input(\"Enter element to be searched\"))\n",
    "arr.sort()"
   ]
  },
  {
   "cell_type": "code",
   "execution_count": 17,
   "metadata": {},
   "outputs": [
    {
     "output_type": "stream",
     "name": "stdout",
     "text": [
      "List is : [1, 2, 3, 4, 5, 6, 7]\n"
     ]
    }
   ],
   "source": [
    "print(\"List is :\", arr)"
   ]
  },
  {
   "cell_type": "code",
   "execution_count": 18,
   "metadata": {},
   "outputs": [
    {
     "output_type": "stream",
     "name": "stdout",
     "text": [
      "The element 3 is present at 2\n"
     ]
    }
   ],
   "source": [
    "# reursive\n",
    "print(\"The element\", ele, \"is present at\",binary_search_r(arr,0,len(arr)-1,ele))"
   ]
  },
  {
   "cell_type": "code",
   "execution_count": 19,
   "metadata": {},
   "outputs": [
    {
     "output_type": "stream",
     "name": "stdout",
     "text": [
      "The element 3 is present at 2\n"
     ]
    }
   ],
   "source": [
    "# iterative\n",
    "print(\"The element\", ele, \"is present at\",binary_search_i(arr,ele))"
   ]
  }
 ]
}