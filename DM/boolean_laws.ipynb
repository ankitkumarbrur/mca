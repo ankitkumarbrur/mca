{
 "metadata": {
  "language_info": {
   "codemirror_mode": {
    "name": "ipython",
    "version": 3
   },
   "file_extension": ".py",
   "mimetype": "text/x-python",
   "name": "python",
   "nbconvert_exporter": "python",
   "pygments_lexer": "ipython3",
   "version": "3.8.1-final"
  },
  "orig_nbformat": 2,
  "kernelspec": {
   "name": "python3",
   "display_name": "Python 3",
   "language": "python"
  }
 },
 "nbformat": 4,
 "nbformat_minor": 2,
 "cells": [
  {
   "source": [
    "# MENU\n",
    "1. Identity Laws ```P^T = P``` and ```PvF = P```\n",
    "2. Domination Laws ```PvT = T``` and ```P^F = F```\n",
    "2. Double Negation Law ```~(~P)= P```"
   ],
   "cell_type": "markdown",
   "metadata": {}
  },
  {
   "cell_type": "code",
   "execution_count": 2,
   "metadata": {},
   "outputs": [],
   "source": [
    "p  = list(map(bool,map(int,input(\"Enter a list\").strip().split(\" \"))))"
   ]
  },
  {
   "cell_type": "code",
   "execution_count": 35,
   "metadata": {},
   "outputs": [
    {
     "output_type": "stream",
     "name": "stdout",
     "text": [
      "P is: [True, False, True, False]\n\nIDENTITY LAWS\n----------------------------------------\n1. P^T = P\n\nP\t^\tT\tResult\n\nTrue\t^\tTrue\tTrue\n\nFalse\t^\tTrue\tFalse\n\nTrue\t^\tTrue\tTrue\n\nFalse\t^\tTrue\tFalse\n\n2. PvF = P\n\nP\tv\tF\tResult\n\nTrue\tv\tFalse\tTrue\n\nFalse\tv\tFalse\tFalse\n\nTrue\tv\tFalse\tTrue\n\nFalse\tv\tFalse\tFalse\n"
     ]
    }
   ],
   "source": [
    "print(\"P is:\",p)\n",
    "print(\"\\nIDENTITY LAWS\")\n",
    "print('-'*40)\n",
    "print(\"1. P^T = P\")\n",
    "print(\"\\nP\\t^\\tT\\tResult\")\n",
    "for i in p:\n",
    "    print(f\"\\n{i}\\t^\\t{True}\\t{i&True}\")\n",
    "print(\"\\n2. PvF = P\")\n",
    "print(\"\\nP\\tv\\tF\\tResult\")\n",
    "for i in p:\n",
    "    print(f\"\\n{i}\\tv\\t{False}\\t{i|False}\")\n",
    "    \n"
   ]
  },
  {
   "cell_type": "code",
   "execution_count": 39,
   "metadata": {},
   "outputs": [
    {
     "output_type": "stream",
     "name": "stdout",
     "text": [
      "P is: [True, False, True, False]\n\nDOMINATION LAWS\n----------------------------------------\n1. PvT = T\n\nP\tv\tT\tResult\n\nTrue\tv\tTrue\tTrue\n\nFalse\tv\tTrue\tTrue\n\nTrue\tv\tTrue\tTrue\n\nFalse\tv\tTrue\tTrue\n\n2. P^F = F\n\nP\t^\tF\tResult\n\nTrue\t^\tFalse\tFalse\n\nFalse\t^\tFalse\tFalse\n\nTrue\t^\tFalse\tFalse\n\nFalse\t^\tFalse\tFalse\n"
     ]
    }
   ],
   "source": [
    "print(\"P is:\",p)\n",
    "print(\"\\nDOMINATION LAWS\")\n",
    "print('-'*40)\n",
    "print(\"1. PvT = T\")\n",
    "print(\"\\nP\\tv\\tT\\tResult\")\n",
    "for i in p:\n",
    "    print(f\"\\n{i}\\tv\\t{True}\\t{i|True}\")\n",
    "print(\"\\n2. P^F = F\")\n",
    "print(\"\\nP\\t^\\tF\\tResult\")\n",
    "for i in p:\n",
    "    print(f\"\\n{i}\\t^\\t{False}\\t{i&False}\")\n",
    "    \n"
   ]
  },
  {
   "cell_type": "code",
   "execution_count": 37,
   "metadata": {},
   "outputs": [
    {
     "output_type": "stream",
     "name": "stdout",
     "text": [
      "P is: [True, False, True, False]\n\nDOUBLE NEGAION LAW\n----------------------------------------\n~(~P) = P\n\nP\t~P\t~(~P)\n\nTrue\tFalse\tTrue\n\nFalse\tTrue\tFalse\n\nTrue\tFalse\tTrue\n\nFalse\tTrue\tFalse\n"
     ]
    }
   ],
   "source": [
    "print(\"P is:\",p)\n",
    "print(\"\\nDOUBLE NEGAION LAW\")\n",
    "print('-'*40)\n",
    "print(\"~(~P) = P\")\n",
    "print(\"\\nP\\t~P\\t~(~P)\")\n",
    "for i in p:\n",
    "    print(f\"\\n{i}\\t{not i}\\t{not(not i)}\")"
   ]
  },
  {
   "cell_type": "code",
   "execution_count": 17,
   "metadata": {},
   "outputs": [
    {
     "output_type": "stream",
     "name": "stdout",
     "text": [
      "A\n"
     ]
    }
   ],
   "source": [
    "print('\\x41')"
   ]
  },
  {
   "cell_type": "code",
   "execution_count": 5,
   "metadata": {},
   "outputs": [
    {
     "output_type": "stream",
     "name": "stdout",
     "text": [
      "1233456\n"
     ]
    }
   ],
   "source": [
    "x=1\n",
    "while True:\n",
    "    print(x,end=\"\")\n",
    "    if(x==3):\n",
    "        print(x,end=\"\") #end of if(x==3)\n",
    "    if(x>4):\n",
    "        print(x+1)\n",
    "        break #end of if(x>4)\n",
    "    x=x+1 #end of while loop"
   ]
  }
 ]
}