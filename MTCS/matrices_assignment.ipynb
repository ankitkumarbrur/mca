{
 "metadata": {
  "language_info": {
   "codemirror_mode": {
    "name": "ipython",
    "version": 3
   },
   "file_extension": ".py",
   "mimetype": "text/x-python",
   "name": "python",
   "nbconvert_exporter": "python",
   "pygments_lexer": "ipython3",
   "version": "3.8.1-final"
  },
  "orig_nbformat": 2,
  "kernelspec": {
   "name": "python38132bitvenvvenv91270e11641b484ca834f7666afa2651",
   "display_name": "Python 3.8.1 32-bit ('venv': venv)",
   "language": "python"
  }
 },
 "nbformat": 4,
 "nbformat_minor": 2,
 "cells": [
  {
   "source": [
    "# MENU\n",
    "1.\tMultiplication of two given matrixes \n",
    "2.\tSum of the diagonal elements of a given Matrix \n",
    "3.\tElement-wise Matrix Multiplication (Hadamard Product)\n",
    "4.\tOuter product of two given vectors\n",
    "5.\tDeterminant of a given square matrix\n",
    "\n",
    "Additional set of exercises:\n",
    "\n",
    "1.\tWrite a program to find the maximum and minimum from a given vector. Your implementation should be computationally efficient. \n",
    "2.\tCan we think of a program to find all linearly independent vectors from a set of N, d-dimensional vectors?\n"
   ],
   "cell_type": "markdown",
   "metadata": {}
  },
  {
   "source": [
    "# Functions"
   ],
   "cell_type": "markdown",
   "metadata": {}
  },
  {
   "cell_type": "code",
   "execution_count": 1,
   "metadata": {},
   "outputs": [],
   "source": [
    "import numpy as np\n",
    "import sympy"
   ]
  },
  {
   "cell_type": "code",
   "execution_count": 2,
   "metadata": {},
   "outputs": [],
   "source": [
    "a = [[1,2],[3,4]]\n",
    "b = [[1,2],[3,4]]"
   ]
  },
  {
   "cell_type": "code",
   "execution_count": 3,
   "metadata": {},
   "outputs": [],
   "source": [
    "def transpose(mat):\n",
    "    return [[mat[j][i] for j in range(len(mat))] for i in range(len(mat[0]))]"
   ]
  },
  {
   "cell_type": "code",
   "execution_count": 4,
   "metadata": {},
   "outputs": [],
   "source": [
    "def matrix_multiplication(mat1,mat2):\n",
    "    if len(mat1[0])!=len(mat2):\n",
    "        raise Exception(\"Matrices can't be multiplied\")\n",
    "    else:\n",
    "        mat2 = transpose(mat2)\n",
    "        mat = list()\n",
    "        for i in range(len(mat1)):\n",
    "            mat.append([sum(list(map(lambda a,b:a*b,mat1[i],mat2[j]))) for j in range(len(mat2))])\n",
    "        return mat                "
   ]
  },
  {
   "cell_type": "code",
   "execution_count": 5,
   "metadata": {},
   "outputs": [],
   "source": [
    "def trace(mat):\n",
    "    if len(mat[0]) != len(mat):\n",
    "        raise Exception(\"Enter a square matrix\")\n",
    "    else:\n",
    "        return sum([mat[i][i] for i in range(len(mat))])"
   ]
  },
  {
   "cell_type": "code",
   "execution_count": 6,
   "metadata": {},
   "outputs": [],
   "source": [
    "def hadamard_product(mat1,mat2):\n",
    "    if len(mat1) != len(mat2) or len(mat1[0]) != len(mat2[0]):\n",
    "        raise Exception(\"Matrices can't be multiplied\")\n",
    "    else:\n",
    "        return [list(map(lambda a,b:a*b,mat1[i],mat2[i])) for i in range(len(mat1))]"
   ]
  },
  {
   "cell_type": "code",
   "execution_count": 7,
   "metadata": {},
   "outputs": [],
   "source": [
    "def outer_vector(v1,v2):\n",
    "    return [[v1[i]*v2[j] for j in range(len(v2))] for i in range(len(v1))]"
   ]
  },
  {
   "cell_type": "code",
   "execution_count": 8,
   "metadata": {},
   "outputs": [],
   "source": [
    "def min_max(v):\n",
    "    n = len(v)\n",
    "    a = 0\n",
    "    if not n % 2:\n",
    "        minimum = min(v[0],v[1])\n",
    "        maximum = max(v[0],v[1])\n",
    "        a = 2  \n",
    "    else:\n",
    "        minimum = maximum = v[0]\n",
    "        a = 1\n",
    "\n",
    "    for i in range(a,n,2):\n",
    "        if( v[i] > v[i+1]):\n",
    "            minimum = min(minimum,v[i+1])\n",
    "            maximum = max(v[i],maximum)\n",
    "        else:\n",
    "            minimum = min(v[i],minimum)\n",
    "            maximum = max(maximum,v[i+1])\n",
    "    return minimum, maximum"
   ]
  },
  {
   "source": [
    "# RUN"
   ],
   "cell_type": "markdown",
   "metadata": {}
  },
  {
   "cell_type": "code",
   "execution_count": 9,
   "metadata": {},
   "outputs": [
    {
     "output_type": "stream",
     "name": "stdout",
     "text": [
      "1. Multiplication of given matrixes : [[7, 10], [15, 22]]\n",
      "\n",
      "2. Trace of given matrix A :\t 5\n",
      "   Trace of given matrix A :\t 5\n",
      "\n",
      "3. Element-wise Matrix Multiplication (Hadamard Product) : [[1, 4], [9, 16]]\n",
      "\n",
      "4. Outer Product : [[21, 14, 7], [9, 6, 3], [6, 4, 2], [3, 2, 1]]\n",
      "\n",
      "5. Determinant of matrix A :\t -2.0\n",
      "   Determinant of matrix B :\t -2.0\n"
     ]
    }
   ],
   "source": [
    "print(\"1. Multiplication of given matrixes :\",matrix_multiplication(a,b))\n",
    "print(\"\\n2. Trace of given matrix A :\\t\",trace(a))\n",
    "print(\"   Trace of given matrix A :\\t\",trace(b))\n",
    "print(\"\\n3. Element-wise Matrix Multiplication (Hadamard Product) :\",hadamard_product(a,b))\n",
    "print(\"\\n4. Outer Product :\",outer_vector([7,3,2,1],[3,2,1]))\n",
    "print(\"\\n5. Determinant of matrix A :\\t\",round(np.linalg.det(a)))\n",
    "print(\"   Determinant of matrix B :\\t\",round(np.linalg.det(b)))"
   ]
  },
  {
   "source": [
    "## Additional questions"
   ],
   "cell_type": "markdown",
   "metadata": {}
  },
  {
   "cell_type": "code",
   "execution_count": 10,
   "metadata": {},
   "outputs": [
    {
     "output_type": "stream",
     "name": "stdout",
     "text": [
      "Min in the given vector:  1\nMax in the given vector:  5\n"
     ]
    }
   ],
   "source": [
    "vec = list([1, 2, 3, 4, 5])\n",
    "minmax = min_max(vec)\n",
    "print(\"Min in the given vector: \",minmax[0])\n",
    "print(\"Max in the given vector: \",minmax[1])"
   ]
  },
  {
   "cell_type": "code",
   "execution_count": 11,
   "metadata": {},
   "outputs": [],
   "source": [
    "matrix = np.array(\n",
    "    [\n",
    "        [1, 0, 0, 1],\n",
    "        [0, 1 ,0 ,0],\n",
    "        [0, 0, 1, 0],\n",
    "        [0, 1, 1, 0],\n",
    "    ])\n",
    "\n",
    "red_matrix, inds = sympy.Matrix(matrix).T.rref()"
   ]
  },
  {
   "cell_type": "code",
   "execution_count": 12,
   "metadata": {},
   "outputs": [
    {
     "output_type": "stream",
     "name": "stdout",
     "text": [
      "Independent vectors\n[1 0 0 1]\n[0 1 0 0]\n[0 0 1 0]\n"
     ]
    }
   ],
   "source": [
    "print(\"Independent vectors\")\n",
    "for i in inds:\n",
    "    print(matrix[i])"
   ]
  }
 ]
}