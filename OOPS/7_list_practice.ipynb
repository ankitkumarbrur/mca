{
 "metadata": {
  "language_info": {
   "codemirror_mode": {
    "name": "ipython",
    "version": 3
   },
   "file_extension": ".py",
   "mimetype": "text/x-python",
   "name": "python",
   "nbconvert_exporter": "python",
   "pygments_lexer": "ipython3",
   "version": "3.8.1-final"
  },
  "orig_nbformat": 2,
  "kernelspec": {
   "name": "python38132bitvenvvenv91270e11641b484ca834f7666afa2651",
   "display_name": "Python 3.8.1 32-bit ('venv': venv)",
   "language": "python"
  }
 },
 "nbformat": 4,
 "nbformat_minor": 2,
 "cells": [
  {
   "source": [
    "# MENU\n",
    "1. Write a function that takes a list of values as input parameters and returns another list without any duplicates.\n",
    "\n",
    "2. Write a function that takes a list of numbers as input from the user and produce the corresponding cumulative list where each element in the list at the index i is the sum of elements at index j<=i.\n",
    "\n",
    "3. Write a function that takes a number as an input and creates a list of n lists such that ith list contains first five multiples of i."
   ],
   "cell_type": "markdown",
   "metadata": {}
  },
  {
   "source": [
    "# Functions"
   ],
   "cell_type": "markdown",
   "metadata": {}
  },
  {
   "cell_type": "code",
   "execution_count": 1,
   "metadata": {},
   "outputs": [],
   "source": [
    "def remove_duplicates(list_dup):\n",
    "    '''\n",
    "    Removes duplicates from a list and return it.\n",
    "\n",
    "    Parameters:\n",
    "        list:   <list>, required\n",
    "                takes a list from which you want to remove duplicates\n",
    "    \n",
    "    Returns:\n",
    "        List without any duplicates\n",
    "    '''\n",
    "    list_1 = []\n",
    "    [list_1.append(i) for i in list_dup if i not in list_1]\n",
    "    return list_1"
   ]
  },
  {
   "cell_type": "code",
   "execution_count": 2,
   "metadata": {},
   "outputs": [],
   "source": [
    "def cummulative_list(list_1):\n",
    "    '''\n",
    "    Returns a cummulative list for the given list\n",
    "\n",
    "    Parameters:\n",
    "        list_1: <list>, required \n",
    "\n",
    "    Returns:\n",
    "        Cummulative list\n",
    "    '''\n",
    "    return [sum(list_1[:i+1]) for i in range(len(list_1))]\n",
    "    "
   ]
  },
  {
   "cell_type": "code",
   "execution_count": 3,
   "metadata": {},
   "outputs": [],
   "source": [
    "def multiple_list(n):\n",
    "    '''\n",
    "    Returns a list of n lists such that ith list contains first five multiples of i\n",
    "\n",
    "    Parameters:\n",
    "        n:  <int>, required\n",
    "    '''\n",
    "    return [[ i*j for j in range(1,6) ] for i in range(n) ]\n",
    "    "
   ]
  },
  {
   "source": [
    "# RUN"
   ],
   "cell_type": "markdown",
   "metadata": {}
  },
  {
   "cell_type": "code",
   "execution_count": 4,
   "metadata": {},
   "outputs": [
    {
     "output_type": "stream",
     "name": "stdout",
     "text": [
      "List after removing duplicates:  [1, 2, 3, 4, 5]\n"
     ]
    }
   ],
   "source": [
    "x = input(\"Enter a list with duplicates to remove duplicates (Delimiter '\\b') :\")\n",
    "\n",
    "l = [int(i) for i in x.strip().split(' ')]\n",
    "\n",
    "print(\"List after removing duplicates: \", remove_duplicates(l))"
   ]
  },
  {
   "cell_type": "code",
   "execution_count": 5,
   "metadata": {},
   "outputs": [
    {
     "output_type": "stream",
     "name": "stdout",
     "text": [
      "Cummulative list:  [1, 3, 6, 10, 15]\n"
     ]
    }
   ],
   "source": [
    "x = input(\"Enter a list to get its cummilative list (Delimiter '\\b') :\")\n",
    "\n",
    "l = [int(i) for i in \" \".join(x.split()).split(' ')]\n",
    "\n",
    "print(\"Cummulative list: \", cummulative_list(l))"
   ]
  },
  {
   "cell_type": "code",
   "execution_count": 6,
   "metadata": {},
   "outputs": [
    {
     "output_type": "stream",
     "name": "stdout",
     "text": [
      "list of n lists such that ith list contains first five multiples of i : \n [[0, 0, 0, 0, 0], [1, 2, 3, 4, 5], [2, 4, 6, 8, 10], [3, 6, 9, 12, 15], [4, 8, 12, 16, 20]]\n"
     ]
    }
   ],
   "source": [
    "n = int(input(\"Enter n: \"))\n",
    "\n",
    "print(\"list of n lists such that ith list contains first five multiples of i : \\n\", multiple_list(n) )"
   ]
  }
 ]
}