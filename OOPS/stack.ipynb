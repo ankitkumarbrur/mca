{
 "metadata": {
  "language_info": {
   "codemirror_mode": {
    "name": "ipython",
    "version": 3
   },
   "file_extension": ".py",
   "mimetype": "text/x-python",
   "name": "python",
   "nbconvert_exporter": "python",
   "pygments_lexer": "ipython3",
   "version": "3.9.2-final"
  },
  "orig_nbformat": 2,
  "kernelspec": {
   "name": "python3",
   "display_name": "Python 3.9.2 64-bit",
   "metadata": {
    "interpreter": {
     "hash": "9552b8190f63102abce783a036fdab59c8fbd44b305ff071c472b263e7af8b3a"
    }
   }
  }
 },
 "nbformat": 4,
 "nbformat_minor": 2,
 "cells": [
  {
   "source": [
    "# Stack\n",
    "### A simple Stack class definition"
   ],
   "cell_type": "markdown",
   "metadata": {}
  },
  {
   "cell_type": "code",
   "execution_count": 34,
   "metadata": {},
   "outputs": [],
   "source": [
    "class Student:\n",
    "    '''\n",
    "    Student Class\n",
    "\n",
    "    Attributes:\n",
    "    ----------\n",
    "        name: name of the student\n",
    "    '''\n",
    "\n",
    "    def __init__(self, name = \"sangwan\"):\n",
    "        self.name = name\n",
    "    \n",
    "    def __str__(self):\n",
    "        return self.name"
   ]
  },
  {
   "cell_type": "code",
   "execution_count": 23,
   "metadata": {},
   "outputs": [],
   "source": [
    "class Stack:\n",
    "    '''\n",
    "    Stack Class\n",
    "\n",
    "    Attributes:\n",
    "    ----------\n",
    "        stack : list type object that will store stack items\n",
    "        top : points to the top of the stack\n",
    "        size : the size of the stack\n",
    "\n",
    "    Methods:\n",
    "    -------\n",
    "        isEmpty : \n",
    "            Returns True if the stack is empty, False otherwise\n",
    "        \n",
    "        isFull : \n",
    "            Returns True if the stack is full, False otherwise\n",
    "\n",
    "        clear :\n",
    "            clears/empties the stack \n",
    "\n",
    "        push :\n",
    "            pushes an item onto the stack \n",
    "        \n",
    "        pop :\n",
    "            pop an item off the stack \n",
    "        \n",
    "        peek:\n",
    "            returns the top of the stack without poppint it\n",
    "    '''\n",
    "\n",
    "    def __init__(self,size):\n",
    "        '''\n",
    "        Stack Constructor:\n",
    "\n",
    "        Attributes:\n",
    "        ----------\n",
    "            size: size of the stack\n",
    "        '''\n",
    "        self.__stack = []     # list to store stack items\n",
    "        self.__top = -1       # top pointer for stack\n",
    "        self.__size = size    # size of the current stack\n",
    "\n",
    "    def __str__(self):\n",
    "        '''\n",
    "        overrided __str__ function defination for bulit in function print for Stack class objects.\n",
    "        Prints the stack object.\n",
    "        '''\n",
    "        return 'Stack('+', '.join(map(str,self.__stack))+' <--Top)'\n",
    "\n",
    "    def __len__(self):\n",
    "        '''\n",
    "        overrided __len__ function defination for bulit in function len for Stack class objects.\n",
    "        Returns the stack length/size.\n",
    "        '''\n",
    "        return 0 if self.__top == -1 else self.__top+1\n",
    "\n",
    "    def isEmpty(self):\n",
    "        '''\n",
    "        returns True if stack is empty False otherwise\n",
    "        '''\n",
    "        return True if self.__top == -1 else False\n",
    "\n",
    "    def isFull(self):\n",
    "        '''\n",
    "        returns True if stack is Full False otherwise\n",
    "        '''\n",
    "        return True if self.__top == self.__size-1 else False\n",
    "\n",
    "    def clear(self):\n",
    "        '''\n",
    "        empties the stack\n",
    "        '''\n",
    "        self.__top = -1\n",
    "        self.__stack.clear()\n",
    "\n",
    "    def push(self,item):\n",
    "        '''\n",
    "        Pushes an item on the stack if stack is not full\n",
    "\n",
    "        Attributes:\n",
    "        ----------\n",
    "            item: item to be pushed on the stack\n",
    "        '''\n",
    "        if self.isFull():\n",
    "            raise Exception(\"OverflowError: The stack is full can't push\")\n",
    "        self.__stack.append(item)\n",
    "        self.__top += 1\n",
    "\n",
    "    def pop(self):\n",
    "        '''\n",
    "        Pops an item off the stack and returns it if stack is not empty\n",
    "        '''\n",
    "        if self.isEmpty():\n",
    "            raise Exception(\"UndeflowError: The stack is empty can't pop\")\n",
    "        \n",
    "        item = self.__stack.pop()\n",
    "        self.__top -= 1\n",
    "        return item\n",
    "\n",
    "    def peek(self):\n",
    "        '''\n",
    "        returns the top of the stack element\n",
    "        '''\n",
    "        if self.isEmpty():\n",
    "            raise Exception(\"UndeflowError: The stack is empty nothing on top\")\n",
    "        return self.__stack[self.__top]"
   ]
  },
  {
   "cell_type": "code",
   "execution_count": 24,
   "metadata": {},
   "outputs": [],
   "source": [
    "s1 = Stack(3)"
   ]
  },
  {
   "cell_type": "code",
   "execution_count": 32,
   "metadata": {},
   "outputs": [],
   "source": [
    "s1.push(2)"
   ]
  },
  {
   "cell_type": "code",
   "execution_count": 3,
   "metadata": {},
   "outputs": [],
   "source": [
    "s1.push(1)\n",
    "s1.push(2)\n",
    "s1.push(3)"
   ]
  },
  {
   "cell_type": "code",
   "execution_count": 28,
   "metadata": {},
   "outputs": [
    {
     "output_type": "stream",
     "name": "stdout",
     "text": [
      "Stack(2 <--Top)\n"
     ]
    }
   ],
   "source": [
    "print(s1)"
   ]
  },
  {
   "cell_type": "code",
   "execution_count": 33,
   "metadata": {},
   "outputs": [
    {
     "output_type": "execute_result",
     "data": {
      "text/plain": [
       "3"
      ]
     },
     "metadata": {},
     "execution_count": 33
    }
   ],
   "source": [
    "len(s1)"
   ]
  },
  {
   "cell_type": "code",
   "execution_count": 6,
   "metadata": {},
   "outputs": [
    {
     "output_type": "execute_result",
     "data": {
      "text/plain": [
       "3"
      ]
     },
     "metadata": {},
     "execution_count": 6
    }
   ],
   "source": [
    "s1.peek()"
   ]
  },
  {
   "cell_type": "code",
   "execution_count": 7,
   "metadata": {},
   "outputs": [
    {
     "output_type": "execute_result",
     "data": {
      "text/plain": [
       "3"
      ]
     },
     "metadata": {},
     "execution_count": 7
    }
   ],
   "source": [
    "s1.pop()"
   ]
  },
  {
   "source": [
    "# RUN"
   ],
   "cell_type": "markdown",
   "metadata": {}
  },
  {
   "cell_type": "code",
   "execution_count": 36,
   "metadata": {},
   "outputs": [],
   "source": [
    "n = int(input(\"Enter Size of the stack\"))\n",
    "my_stack = Stack(n)"
   ]
  },
  {
   "cell_type": "code",
   "execution_count": 25,
   "metadata": {},
   "outputs": [
    {
     "output_type": "stream",
     "name": "stdout",
     "text": [
      "\n",
      "MENU\n",
      "\n",
      "1. Push into stack\n",
      "2. Pop from stack\n",
      "2. Peek of stack\n",
      "4. Empty the stack\n",
      "0. Exit\n",
      "\n",
      "Exception ocurred while pushing to the stack (hint: check stack size)\n"
     ]
    }
   ],
   "source": [
    "print(\"\"\"\n",
    "MENU\n",
    "\n",
    "1. Push into stack\n",
    "2. Pop from stack\n",
    "2. Peek of stack\n",
    "4. Empty the stack\n",
    "0. Exit\n",
    "\"\"\")\n",
    "ch = int(input(\"Enter choice:\").strip())\n",
    "while(ch!=0):\n",
    "    if ch == 1:\n",
    "        num = int(input(\"Enter Element to be pushed:\"))\n",
    "        try:\n",
    "            my_stack.push(num)\n",
    "        except Exception:\n",
    "            print(\"Exception ocurred while pushing to the stack (hint: check stack size)\")\n",
    "    elif ch == 2:\n",
    "        try:\n",
    "            print(f\"Element popped {my_stack.pop()}\")\n",
    "        except Exception:\n",
    "            print(\"Exception ocurred while popping from the stack (hint: stack may be empty)\")\n",
    "    elif ch == 3:\n",
    "        try:\n",
    "            print(f\"Element on top(peek) {my_stack.peek()}\")\n",
    "        except Exception:\n",
    "            print(\"Exception ocurred while checking peek of the stack (hint: stack may be empty)\")\n",
    "    elif ch == 4:\n",
    "        my_stack.clear()\n",
    "        print(\"Stack emptied\")\n",
    "    elif ch == 0:\n",
    "        break\n",
    "    else:\n",
    "        print(\"Enter valid choice\")\n",
    "    ch = int(input(\"Enter choice:\").strip())    "
   ]
  },
  {
   "cell_type": "code",
   "execution_count": 38,
   "metadata": {},
   "outputs": [
    {
     "output_type": "stream",
     "name": "stdout",
     "text": [
      "\n",
      "MENU\n",
      "\n",
      "1. Push student info into stack\n",
      "2. Pop student info from stack\n",
      "2. Peek of stack\n",
      "4. Empty the stack\n",
      "0. Exit\n",
      "\n",
      "Stack emptied\n",
      "Element popped Nidhi\n"
     ]
    },
    {
     "output_type": "error",
     "ename": "ValueError",
     "evalue": "invalid literal for int() with base 10: ''",
     "traceback": [
      "\u001b[1;31m---------------------------------------------------------------------------\u001b[0m",
      "\u001b[1;31mValueError\u001b[0m                                Traceback (most recent call last)",
      "\u001b[1;32m<ipython-input-38-26a302711b18>\u001b[0m in \u001b[0;36m<module>\u001b[1;34m\u001b[0m\n\u001b[0;32m     33\u001b[0m     \u001b[1;32melse\u001b[0m\u001b[1;33m:\u001b[0m\u001b[1;33m\u001b[0m\u001b[1;33m\u001b[0m\u001b[0m\n\u001b[0;32m     34\u001b[0m         \u001b[0mprint\u001b[0m\u001b[1;33m(\u001b[0m\u001b[1;34m\"Enter valid choice\"\u001b[0m\u001b[1;33m)\u001b[0m\u001b[1;33m\u001b[0m\u001b[1;33m\u001b[0m\u001b[0m\n\u001b[1;32m---> 35\u001b[1;33m     \u001b[0mch\u001b[0m \u001b[1;33m=\u001b[0m \u001b[0mint\u001b[0m\u001b[1;33m(\u001b[0m\u001b[0minput\u001b[0m\u001b[1;33m(\u001b[0m\u001b[1;34m\"Enter choice:\"\u001b[0m\u001b[1;33m)\u001b[0m\u001b[1;33m.\u001b[0m\u001b[0mstrip\u001b[0m\u001b[1;33m(\u001b[0m\u001b[1;33m)\u001b[0m\u001b[1;33m)\u001b[0m\u001b[1;33m\u001b[0m\u001b[1;33m\u001b[0m\u001b[0m\n\u001b[0m",
      "\u001b[1;31mValueError\u001b[0m: invalid literal for int() with base 10: ''"
     ]
    }
   ],
   "source": [
    "print(\"\"\"\n",
    "MENU\n",
    "\n",
    "1. Push student info into stack\n",
    "2. Pop student info from stack\n",
    "2. Peek of stack\n",
    "4. Empty the stack\n",
    "0. Exit\n",
    "\"\"\")\n",
    "ch = int(input(\"Enter choice:\").strip())\n",
    "while(ch!=0):\n",
    "    if ch == 1:\n",
    "        name = input(\"Enter name of the student\")\n",
    "        try:\n",
    "            my_stack.push(Student(name))\n",
    "        except Exception:\n",
    "            print(\"Exception ocurred while pushing to the stack (hint: check stack size)\")\n",
    "    elif ch == 2:\n",
    "        try:\n",
    "            print(f\"Element popped :{my_stack.pop()}\")\n",
    "        except Exception:\n",
    "            print(\"Exception ocurred while popping from the stack (hint: stack may be empty)\")\n",
    "    elif ch == 3:\n",
    "        try:\n",
    "            print(f\"Element on top(peek) {my_stack.peek()}\")\n",
    "        except Exception:\n",
    "            print(\"Exception ocurred while checking peek of the stack (hint: stack may be empty)\")\n",
    "    elif ch == 4:\n",
    "        my_stack.clear()\n",
    "        print(\"Stack emptied\")\n",
    "    elif ch == 0:\n",
    "        break\n",
    "    else:\n",
    "        print(\"Enter valid choice\")\n",
    "    ch = int(input(\"Enter choice:\").strip())    "
   ]
  }
 ]
}