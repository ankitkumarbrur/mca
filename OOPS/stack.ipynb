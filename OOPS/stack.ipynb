{
 "metadata": {
  "language_info": {
   "codemirror_mode": {
    "name": "ipython",
    "version": 3
   },
   "file_extension": ".py",
   "mimetype": "text/x-python",
   "name": "python",
   "nbconvert_exporter": "python",
   "pygments_lexer": "ipython3",
   "version": "3.8.1-final"
  },
  "orig_nbformat": 2,
  "kernelspec": {
   "name": "python38132bitvenvvenv91270e11641b484ca834f7666afa2651",
   "display_name": "Python 3.8.1 32-bit ('venv': venv)",
   "language": "python"
  }
 },
 "nbformat": 4,
 "nbformat_minor": 2,
 "cells": [
  {
   "cell_type": "code",
   "execution_count": 1,
   "metadata": {},
   "outputs": [],
   "source": [
    "class Stack:\n",
    "    '''\n",
    "    Stack Class:\n",
    "\n",
    "    Attributes:\n",
    "    stack : list type object that will store stack items\n",
    "    top : points to the top of the stack\n",
    "    size : the size of the stack\n",
    "\n",
    "    Methods:\n",
    "    isEmpty : \n",
    "        Returns True if the stack is empty, False otherwise\n",
    "    \n",
    "    isFull : \n",
    "        Returns True if the stack is full, False otherwise\n",
    "\n",
    "    clear :\n",
    "        clears/empties the stack \n",
    "\n",
    "    push :\n",
    "        pushes an item onto the stack \n",
    "    \n",
    "    pop :\n",
    "        pop an item off the stack \n",
    "    \n",
    "    peek:\n",
    "        returns the top of the stack without poppint it\n",
    "    '''\n",
    "    def __init__(self,size):\n",
    "        '''\n",
    "        Constructor for the Stack class:\n",
    "        Attributes:\n",
    "            size: size of the stack\n",
    "        '''\n",
    "        self.__stack = []     # list to store stack items\n",
    "        self.__top = -1       # top pointer for stack\n",
    "        self.__size = size    # size of the current stack\n",
    "\n",
    "    def show(self):\n",
    "        print(self.__top)\n",
    "    # def __str__(self):\n",
    "    #     '''\n",
    "    #     __str__ function defination for Stack class\n",
    "    #     Prints the stack items.\n",
    "    #     '''\n",
    "    #     return 'Stack('+', '.join(map(str,self.stack))+' <--Top)'\n",
    "\n",
    "    # def __len__(self):\n",
    "    #     '''\n",
    "    #     __len__ function defination for Stack class\n",
    "    #     Returns the stack length/size.\n",
    "    #     '''\n",
    "    #     return self.size\n",
    "\n",
    "    # def isEmpty(self):\n",
    "    #     '''\n",
    "    #     returns True if stack is empty False otherwise\n",
    "    #     '''\n",
    "    #     return True if self.top == -1 else False\n",
    "\n",
    "    # def isFull(self):\n",
    "    #     '''\n",
    "    #     returns True if stack is Full False otherwise\n",
    "    #     '''\n",
    "    #     return True if self.top == self.size-1 else False\n",
    "\n",
    "    # def clear(self):\n",
    "    #     '''\n",
    "    #     empties the stack\n",
    "    #     '''\n",
    "    #     self.top = -1\n",
    "    #     self.stack.clear()\n",
    "\n",
    "    # def push(self,item):\n",
    "    #     '''\n",
    "    #     Pushes an item on the stack if stack is not full\n",
    "    #     Attributes:\n",
    "    #         item: item to be pushed on the stack\n",
    "    #     '''\n",
    "    #     if self.isFull():\n",
    "    #         raise Exception(\"OverflowError: The stack is full can't push\")\n",
    "    #     self.stack.append(item)\n",
    "    #     self.top += 1\n",
    "\n",
    "    # def pop(self):\n",
    "    #     '''\n",
    "    #     Pops an item off the stack and returns it if stack is not empty\n",
    "    #     '''\n",
    "    #     if self.isEmpty():\n",
    "    #         raise Exception(\"UndeflowError: The stack is empty can't pop\")\n",
    "        \n",
    "    #     item = self.stack.pop()\n",
    "    #     self.top -= 1\n",
    "    #     return item\n",
    "\n",
    "    # def peek(self):\n",
    "    #     '''\n",
    "    #     returns the top of the stack element\n",
    "    #     '''\n",
    "    #     if self.isEmpty():\n",
    "    #         raise Exception(\"UndeflowError: The stack is empty nothing on top\")\n",
    "    #     return self.stack[self.top]"
   ]
  },
  {
   "cell_type": "code",
   "execution_count": 2,
   "metadata": {},
   "outputs": [],
   "source": [
    "s1 = Stack(3)"
   ]
  },
  {
   "cell_type": "code",
   "execution_count": 3,
   "metadata": {},
   "outputs": [],
   "source": [
    "s1.push(1)\n",
    "s1.push(2)\n",
    "s1.push(3)"
   ]
  },
  {
   "cell_type": "code",
   "execution_count": 4,
   "metadata": {},
   "outputs": [
    {
     "output_type": "stream",
     "name": "stdout",
     "text": [
      "Stack(1, 2, 3 <--Top)\n"
     ]
    }
   ],
   "source": [
    "print(s1)"
   ]
  },
  {
   "cell_type": "code",
   "execution_count": 5,
   "metadata": {},
   "outputs": [
    {
     "output_type": "execute_result",
     "data": {
      "text/plain": [
       "3"
      ]
     },
     "metadata": {},
     "execution_count": 5
    }
   ],
   "source": [
    "len(s1)"
   ]
  },
  {
   "cell_type": "code",
   "execution_count": 6,
   "metadata": {},
   "outputs": [
    {
     "output_type": "execute_result",
     "data": {
      "text/plain": [
       "3"
      ]
     },
     "metadata": {},
     "execution_count": 6
    }
   ],
   "source": [
    "s1.peek()"
   ]
  },
  {
   "cell_type": "code",
   "execution_count": 7,
   "metadata": {},
   "outputs": [
    {
     "output_type": "execute_result",
     "data": {
      "text/plain": [
       "3"
      ]
     },
     "metadata": {},
     "execution_count": 7
    }
   ],
   "source": [
    "s1.pop()"
   ]
  }
 ]
}