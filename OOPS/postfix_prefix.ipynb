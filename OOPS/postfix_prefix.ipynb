{
 "metadata": {
  "language_info": {
   "codemirror_mode": {
    "name": "ipython",
    "version": 3
   },
   "file_extension": ".py",
   "mimetype": "text/x-python",
   "name": "python",
   "nbconvert_exporter": "python",
   "pygments_lexer": "ipython3",
   "version": "3.8.1-final"
  },
  "orig_nbformat": 2,
  "kernelspec": {
   "name": "python38132bitvenvvenv91270e11641b484ca834f7666afa2651",
   "display_name": "Python 3.8.1 32-bit ('venv': venv)",
   "language": "python"
  }
 },
 "nbformat": 4,
 "nbformat_minor": 2,
 "cells": [
  {
   "source": [
    "# Menu\n",
    "\n",
    "1. Infix to postfix conversion\n",
    "2. Infix to prefix conversion\n",
    "3. Evaluate prefix expression\n",
    "4. Evaluate postfix expression\n",
    "5. Check Parantheses"
   ],
   "cell_type": "markdown",
   "metadata": {}
  },
  {
   "cell_type": "code",
   "execution_count": 2,
   "metadata": {},
   "outputs": [],
   "source": [
    "from stacklib import Stack"
   ]
  },
  {
   "source": [
    "# Functions"
   ],
   "cell_type": "markdown",
   "metadata": {}
  },
  {
   "cell_type": "code",
   "execution_count": 5,
   "metadata": {},
   "outputs": [],
   "source": [
    "def postfix(exp):\n",
    "    \n",
    "    op_stack = Stack(99)\n",
    "    post_exp = []\n",
    "\n",
    "    for i in exp:\n",
    "        if i.isnumeric():\n",
    "            post_exp.append(i)\n",
    "\n",
    "        elif i in ('[','(','{'):\n",
    "            op_stack.push(i)\n",
    "\n",
    "        elif i in (']',')','}'):\n",
    "            closing = {']':'[','}':'{',')':'('}\n",
    "            while op_stack.peek() != closing[i]:\n",
    "                post_exp.append(op_stack.pop())\n",
    "            op_stack.pop()\n",
    "\n",
    "        elif i == '^':\n",
    "            op_stack.push(i)\n",
    "\n",
    "        elif i == '/':\n",
    "            while not op_stack.isEmpty() and op_stack.peek() in ('^'):\n",
    "                post_exp.append(op_stack.pop())\n",
    "            op_stack.push(i)\n",
    "\n",
    "        elif i == '*':\n",
    "            while not op_stack.isEmpty() and op_stack.peek() in ('^','/'):\n",
    "                post_exp.append(op_stack.pop())\n",
    "            op_stack.push(i)\n",
    "\n",
    "        elif i in ('+','-'):\n",
    "            while not op_stack.isEmpty() and op_stack.peek() in ('^','/','*'):\n",
    "                post_exp.append(op_stack.pop())\n",
    "            op_stack.push(i)\n",
    "\n",
    "    while not op_stack.isEmpty():\n",
    "        post_exp.append(op_stack.pop())\n",
    "\n",
    "    return post_exp"
   ]
  },
  {
   "cell_type": "code",
   "execution_count": 26,
   "metadata": {},
   "outputs": [],
   "source": [
    "def prefix(exp):\n",
    "    \n",
    "    op_stack = Stack(99)\n",
    "    pre_exp = []\n",
    "\n",
    "    for i in exp[::-1]:\n",
    "        if i.isnumeric():\n",
    "            pre_exp.append(i)\n",
    "\n",
    "        elif i == ' ':\n",
    "            pass\n",
    "        \n",
    "        elif op_stack.isEmpty():\n",
    "            op_stack.push(i)\n",
    "\n",
    "        elif i in (']',')','}'):\n",
    "            op_stack.push(i)\n",
    "\n",
    "        elif i in ('[','(','{'):\n",
    "            closing = {'[':']','{':'}','(':')'}\n",
    "            while op_stack.peek() != closing[i]:\n",
    "                pre_exp.append(op_stack.pop())\n",
    "            op_stack.pop()\n",
    "\n",
    "        elif i == '^':\n",
    "            op_stack.push(i)\n",
    "\n",
    "        elif i == '/':\n",
    "            while not op_stack.isEmpty() and op_stack.peek() in ('^'):\n",
    "                pre_exp.append(op_stack.pop())\n",
    "            op_stack.push(i)\n",
    "\n",
    "        elif i == '*':\n",
    "            while not op_stack.isEmpty() and op_stack.peek() in ('^','/'):\n",
    "                pre_exp.append(op_stack.pop())\n",
    "            op_stack.push(i)\n",
    "\n",
    "        elif i in ('+','-'):\n",
    "            while not op_stack.isEmpty() and op_stack.peek() in ('^','/','*'):\n",
    "                pre_exp.append(op_stack.pop())\n",
    "            op_stack.push(i)\n",
    "\n",
    "    while not op_stack.isEmpty():\n",
    "        pre_exp.append(op_stack.pop())\n",
    "\n",
    "    return pre_exp[::-1]"
   ]
  },
  {
   "cell_type": "code",
   "execution_count": 15,
   "metadata": {},
   "outputs": [],
   "source": [
    "def solvePostfix(exp):\n",
    "    sol_stack = Stack(99)\n",
    "    for i in exp:\n",
    "        if i.isnumeric():\n",
    "            sol_stack.push(i)\n",
    "        else:\n",
    "            b = str(sol_stack.pop())\n",
    "            a = str(sol_stack.pop())\n",
    "            if i is '^':\n",
    "                i = '**'\n",
    "            sol_stack.push(eval(a+i+b))\n",
    "    return sol_stack.pop()"
   ]
  },
  {
   "cell_type": "code",
   "execution_count": 35,
   "metadata": {},
   "outputs": [],
   "source": [
    "def solvePrefix(exp):\n",
    "    sol_stack = Stack(99)\n",
    "    for i in exp[::-1]:\n",
    "        if i.isnumeric():\n",
    "            sol_stack.push(i)\n",
    "        else:\n",
    "            a = str(sol_stack.pop())\n",
    "            b = str(sol_stack.pop())\n",
    "            sol_stack.push(eval(a+i+b))\n",
    "    return sol_stack.pop()"
   ]
  },
  {
   "cell_type": "code",
   "execution_count": 17,
   "metadata": {},
   "outputs": [],
   "source": [
    "def checkParantheses(exp):\n",
    "    par_stack = Stack(len(exp)+1)\n",
    "    par_dict = {'(':')','{':'}','[':']'}\n",
    "    for i in exp:\n",
    "        if i in '[{(':\n",
    "            par_stack.push(par_dict[i])\n",
    "        elif in ')}]':\n",
    "            try:\n",
    "                if par_stack.pop() != i:\n",
    "                    return False\n",
    "            except:\n",
    "                return False\n",
    "    if not par_stack.isEmpty():\n",
    "        return False\n",
    "    return True"
   ]
  },
  {
   "source": [
    "# RUN"
   ],
   "cell_type": "markdown",
   "metadata": {}
  },
  {
   "cell_type": "code",
   "execution_count": 16,
   "metadata": {},
   "outputs": [
    {
     "output_type": "execute_result",
     "data": {
      "text/plain": [
       "256"
      ]
     },
     "metadata": {},
     "execution_count": 16
    }
   ],
   "source": [
    "solvePostfix(postfix(\"2^2^3\"))"
   ]
  },
  {
   "cell_type": "code",
   "execution_count": 6,
   "metadata": {},
   "outputs": [
    {
     "output_type": "execute_result",
     "data": {
      "text/plain": [
       "['2', '3', '6', '2', '/', '7', '*', '*', '8', '+', '+']"
      ]
     },
     "metadata": {},
     "execution_count": 6
    }
   ],
   "source": [
    "postfix('2+3*6/2*7+8')"
   ]
  },
  {
   "cell_type": "code",
   "execution_count": 36,
   "metadata": {},
   "outputs": [
    {
     "output_type": "execute_result",
     "data": {
      "text/plain": [
       "['+', '+', '2', '*', '*', '3', '/', '6', '2', '7', '8']"
      ]
     },
     "metadata": {},
     "execution_count": 36
    }
   ],
   "source": [
    "prefix('2+3*6/2*7+8')"
   ]
  },
  {
   "cell_type": "code",
   "execution_count": 31,
   "metadata": {},
   "outputs": [
    {
     "output_type": "execute_result",
     "data": {
      "text/plain": [
       "73.0"
      ]
     },
     "metadata": {},
     "execution_count": 31
    }
   ],
   "source": [
    "solvePostfix(postfix('2+3*6/2*7+8'))"
   ]
  },
  {
   "cell_type": "code",
   "execution_count": 37,
   "metadata": {},
   "outputs": [
    {
     "output_type": "execute_result",
     "data": {
      "text/plain": [
       "73.0"
      ]
     },
     "metadata": {},
     "execution_count": 37
    }
   ],
   "source": [
    "solvePrefix(prefix('2+3*6/2*7+8'))"
   ]
  },
  {
   "cell_type": "code",
   "execution_count": null,
   "metadata": {},
   "outputs": [],
   "source": [
    "checkParantheses(\"[{()()}]\")"
   ]
  }
 ]
}