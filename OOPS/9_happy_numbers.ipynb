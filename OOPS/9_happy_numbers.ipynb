{
 "metadata": {
  "language_info": {
   "codemirror_mode": {
    "name": "ipython",
    "version": 3
   },
   "file_extension": ".py",
   "mimetype": "text/x-python",
   "name": "python",
   "nbconvert_exporter": "python",
   "pygments_lexer": "ipython3",
   "version": "3.8.1-final"
  },
  "orig_nbformat": 2,
  "kernelspec": {
   "name": "python38132bitvenvvenv91270e11641b484ca834f7666afa2651",
   "display_name": "Python 3.8.1 32-bit ('venv': venv)",
   "language": "python"
  }
 },
 "nbformat": 4,
 "nbformat_minor": 2,
 "cells": [
  {
   "source": [
    "# MENU\n",
    "\n",
    "1. Find the sum of squares of individual digits of a number 'sqdnumber' and store the sum in variable 'sqdNumber_result'. E.g. if the number is 234, the sum is computed as (2^2 + 3^2 + 4^2 = 4 + 9 + 16 = 29) \n",
    "\n",
    "2. Happy Numbers: A number is called a happy number, if you repeat the process, of squaring the sum of the digits, till the value 1 is obtained. E.g. You need to do the following to perform this check: (a) compute the sum of the squares of its digits (b) if the resultant value is 1, then the number is a happy number, else execute point (a). If a number is not a happy number, there will be an endless loop/cycle to this execution. \n",
    "\n",
    "You are required to write code that checks whether the number is a happy number or not, for 10 cycles (iterations) only."
   ],
   "cell_type": "markdown",
   "metadata": {}
  },
  {
   "source": [
    "# Functions"
   ],
   "cell_type": "markdown",
   "metadata": {}
  },
  {
   "cell_type": "code",
   "execution_count": 1,
   "metadata": {},
   "outputs": [],
   "source": [
    "def squareSum(sqdnumber):\n",
    "    sqdNumber_result = 0        # Container to store the sum of square of digits\n",
    "    while(sqdnumber>0):         # looping till the sqdnumber's all digits are exhausted\n",
    "        sqdNumber_result += (sqdnumber % 10) ** 2   # finding the ones digit using mod 10 and squaring it to add in the total sum \n",
    "        sqdnumber //= 10        # discarding the current ones digit\n",
    "    return sqdNumber_result     # returning the sum of square of digits"
   ]
  },
  {
   "cell_type": "code",
   "execution_count": 2,
   "metadata": {},
   "outputs": [],
   "source": [
    "def happyNumber(num):\n",
    "    for _ in range(10):         # iterating 10 times\n",
    "        num = squareSum(num)    # calculating current sum of squared digits\n",
    "        if( num == 1):          # checking if current sum of squared digits is 1 or not \n",
    "            return \"Happy Number\"   # if at any point the sum of squared digits is 1 returning the number is happy\n",
    "    return \"Not Happy\"          # if the sum of squared digits is not equal to 1 in 10 iterations returning not happy"
   ]
  },
  {
   "source": [
    "# RUN"
   ],
   "cell_type": "markdown",
   "metadata": {}
  },
  {
   "cell_type": "code",
   "execution_count": 3,
   "metadata": {},
   "outputs": [
    {
     "output_type": "stream",
     "name": "stdout",
     "text": [
      "Squared Sum of 234 :  29\n"
     ]
    }
   ],
   "source": [
    "a = int(input(\"Enter a Number to get squared sum of its digits:\")) # inputting a number\n",
    "print(\"Squared Sum of\",a ,\":\", squareSum(a))       # getting the sum of squared digits "
   ]
  },
  {
   "cell_type": "code",
   "execution_count": 4,
   "metadata": {},
   "outputs": [
    {
     "output_type": "stream",
     "name": "stdout",
     "text": [
      "The number 82 is Happy Number\n"
     ]
    }
   ],
   "source": [
    "a = int(input(\"Enter a Number to check if it is happy number:\"))    # inputting a number\n",
    "print(\"The number\",a ,\"is\", happyNumber(a))         # checking if entered number is happy"
   ]
  }
 ]
}