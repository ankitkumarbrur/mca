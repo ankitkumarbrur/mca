{
 "metadata": {
  "language_info": {
   "codemirror_mode": {
    "name": "ipython",
    "version": 3
   },
   "file_extension": ".py",
   "mimetype": "text/x-python",
   "name": "python",
   "nbconvert_exporter": "python",
   "pygments_lexer": "ipython3",
   "version": "3.8.1-final"
  },
  "orig_nbformat": 2,
  "kernelspec": {
   "name": "python38132bit0f81a3e8780841afb635aac217ffc56d",
   "display_name": "Python 3.8.1 32-bit",
   "language": "python"
  }
 },
 "nbformat": 4,
 "nbformat_minor": 2,
 "cells": [
  {
   "source": [
    "# Menu\n",
    "1. Reverse of a string\n",
    "2. Count number of words in the string\n",
    "3. Count vowels, consonants and special characters in a string\n",
    "4. Given a string, reverse each word of given string. Example: Input: My Name is Bharti. O/p: yM emaN si itrahB.\n",
    "5. Return largest word in the string. Example: My name is Bharti. O/p: Bharti"
   ],
   "cell_type": "markdown",
   "metadata": {}
  },
  {
   "source": [
    "## 1. Reverse String"
   ],
   "cell_type": "markdown",
   "metadata": {}
  },
  {
   "cell_type": "code",
   "execution_count": 1,
   "metadata": {},
   "outputs": [],
   "source": [
    "def reverseString(str):\n",
    "    '''\n",
    "    Returns reversed string\n",
    "\n",
    "    Parameters:\n",
    "    num:    <string>, required\n",
    "            String you want to reverse\n",
    "\n",
    "    Returns:\n",
    "        <string> Reversed String\n",
    "    '''\n",
    "    return str[::-1]    # returning reverse of string using slicing and negative step"
   ]
  },
  {
   "source": [
    "## 2. Count Words"
   ],
   "cell_type": "markdown",
   "metadata": {}
  },
  {
   "cell_type": "code",
   "execution_count": 2,
   "metadata": {},
   "outputs": [],
   "source": [
    "def countWords(str):\n",
    "    '''\n",
    "    returns number of words count in a string\n",
    "\n",
    "    Parameters:\n",
    "    str:    <string>, required\n",
    "            String you want count words from\n",
    "\n",
    "    Returns:\n",
    "        <int> Word count\n",
    "    '''\n",
    "    wordArray = []              # container for words from the string\n",
    "    word = ''                   # container for current word\n",
    "    str+= ' '                   # appending blank space at the end of the string to consider last word\n",
    "    for i in str:               # looping at characters of the given string\n",
    "        if i == ' ':            # when space is encountered\n",
    "            if word != '':      # when current word is not empty\n",
    "                wordArray.append(word)  # append current word to the list container for words\n",
    "            word = ''           # clear current word after encountering a space\n",
    "        else:\n",
    "            word += i           # if not space appent current character to current word\n",
    "    return len(wordArray)       # calling inbuilt len function which returns the length of the passed object with words container list and returning its length"
   ]
  },
  {
   "source": [
    "## 3. Count Characters ('vowels', 'consonants', 'special')"
   ],
   "cell_type": "markdown",
   "metadata": {}
  },
  {
   "cell_type": "code",
   "execution_count": 3,
   "metadata": {},
   "outputs": [],
   "source": [
    "def countChar(str):\n",
    "    '''\n",
    "    returns a dictionary with charcter count grouped as vowels, consonants,\n",
    "    blankspaces, special characters and total.\n",
    "\n",
    "    Parameters:\n",
    "    str:    <string>, required\n",
    "            String you want count characters of\n",
    "\n",
    "    Returns:\n",
    "        <dict>  count of different characters\n",
    "    '''\n",
    "    char = {                    # dictionary container to keep the count of different characters\n",
    "        'vowels' : 0,\n",
    "        'consonants' : 0,\n",
    "        'blankspaces':0,\n",
    "        'special' : 0,\n",
    "        'total': 0 }\n",
    "    for i in str:               # looping at characters of the given string\n",
    "        char['total']+=1        # each time a we enter loop increment the total character count\n",
    "        if i in ('a','e','i','o','u','A','E','I','O','U'):  # if the character is a vowel\n",
    "            char['vowels']+=1                       # increment vowel\n",
    "        elif 'z' >= i >= 'a' or 'Z' >= i >= 'A':    # if current character is not vowel and is a alphabet\n",
    "            char['consonants']+=1                   # increment consonant\n",
    "        elif i == ' ' :                             # if current character is a blank space\n",
    "            char['blankspaces']+=1                  # increment blankspace\n",
    "        else:                                       # if current character is not any of the upper case\n",
    "            char['special']+=1                      # increment special character\n",
    "    return char                 # return the dictionary containing count of different characters"
   ]
  },
  {
   "source": [
    "## 4. Reverse Words in a string"
   ],
   "cell_type": "markdown",
   "metadata": {}
  },
  {
   "cell_type": "code",
   "execution_count": 4,
   "metadata": {},
   "outputs": [],
   "source": [
    "def reverseWords(str):\n",
    "    '''\n",
    "    Returns a string with reversed words.\n",
    "\n",
    "    Parameters:\n",
    "    str:    <string>, required\n",
    "            String you want to reverse words of\n",
    "\n",
    "    Returns:\n",
    "        <string>  string with reversed words    \n",
    "    '''\n",
    "    reversed = ''       # container reversed words string\n",
    "    word = ''           # container for current word\n",
    "    str+= ' '           # appending space at the end of the string to consider the last word\n",
    "    for i in str:       # looping at characters of the given string\n",
    "        if i == ' ':    # when space is encountered\n",
    "            word = reverseString(word)  # call the reverseString method we had defined to reverse current word\n",
    "            reversed += word + ' '      # appending space at the end of the reversed word for distinguishing it from other words and appending current reversed word to the reversed string container \n",
    "            word = ''   # empty the current word container\n",
    "        else:           # in case current character is not space \n",
    "            word += i   # append current character to current word\n",
    "    return reversed     # return the reversed string "
   ]
  },
  {
   "source": [
    "## 5. Largest word in a string"
   ],
   "cell_type": "markdown",
   "metadata": {}
  },
  {
   "cell_type": "code",
   "execution_count": 5,
   "metadata": {},
   "outputs": [],
   "source": [
    "def largestWord(str):\n",
    "    '''\n",
    "    Returns a list with largest words in the given string.\n",
    "\n",
    "    Parameters:\n",
    "    str:    <string>, required\n",
    "            String from which you want to find largest word(s)\n",
    "\n",
    "    Returns:\n",
    "        <list>  List with largest length word(s)\n",
    "    '''\n",
    "    largest = []    # list container for largest words\n",
    "    word = ''       # container for current word\n",
    "    str += ' '      # appending space at the end of the string to consider the last word\n",
    "    for i in str:   # looping at characters of the given string\n",
    "        if i == ' ':# when space is encountered\n",
    "            if not largest or (len(word) > len(largest[0])):    # check if largest list is empty or length of current word is greater then the words in the list of largest words\n",
    "                largest = []    # in case current word is larger than the words present in the largest words list empty the list\n",
    "                largest.append(word)    # append the largest word encountered untill now\n",
    "            elif len(word) == len(largest[0]):  # if the length of current word is same as the length of words in largest words list\n",
    "                largest.append(word)    # append current word to the largest words list\n",
    "            word = ''       # empty the current word\n",
    "        else:               # in case current character is not space \n",
    "            word += i       # append current character to current word\n",
    "    return largest          # return the largest words list"
   ]
  },
  {
   "source": [
    "## RUN"
   ],
   "cell_type": "markdown",
   "metadata": {}
  },
  {
   "cell_type": "code",
   "execution_count": 6,
   "metadata": {},
   "outputs": [],
   "source": [
    "str = input (\"Enter a String :\") # takes a input from the user"
   ]
  },
  {
   "cell_type": "code",
   "execution_count": 7,
   "metadata": {},
   "outputs": [
    {
     "output_type": "stream",
     "name": "stdout",
     "text": [
      "Reversed String:-        itrahB si eman yM\nWords Count:-            4\nCharacters Count:-       {'vowels': 5, 'consonants': 9, 'blankspaces': 3, 'special': 0, 'total': 17}\nWords Reversed String:-  yM eman si itrahB \nLargest Words:-          ['Bharti']\n"
     ]
    }
   ],
   "source": [
    "print(\"Reversed String:-        {}\".format(reverseString(str)))\n",
    "print(\"Words Count:-            {}\".format(countWords(str)))\n",
    "print(\"Characters Count:-       {}\".format(countChar(str)))\n",
    "print(\"Words Reversed String:-  {}\".format(reverseWords(str)))\n",
    "print(\"Largest Words:-          {}\".format(largestWord(str)))"
   ]
  }
 ]
}