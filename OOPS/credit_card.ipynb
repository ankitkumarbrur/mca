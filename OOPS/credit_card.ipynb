{
 "metadata": {
  "language_info": {
   "codemirror_mode": {
    "name": "ipython",
    "version": 3
   },
   "file_extension": ".py",
   "mimetype": "text/x-python",
   "name": "python",
   "nbconvert_exporter": "python",
   "pygments_lexer": "ipython3",
   "version": "3.8.1-final"
  },
  "orig_nbformat": 2,
  "kernelspec": {
   "name": "python38132bitvenvvenv91270e11641b484ca834f7666afa2651",
   "display_name": "Python 3.8.1 32-bit ('venv': venv)",
   "language": "python"
  }
 },
 "nbformat": 4,
 "nbformat_minor": 2,
 "cells": [
  {
   "cell_type": "code",
   "execution_count": null,
   "metadata": {},
   "outputs": [],
   "source": [
    "starts with 4 or 5 or 6\n",
    "16 digits\n",
    "separated by '-'\n",
    "no consecutive words "
   ]
  },
  {
   "cell_type": "code",
   "execution_count": 32,
   "metadata": {},
   "outputs": [],
   "source": [
    "def valid_invalid(j):\n",
    "\n",
    "    if not j.isdigit():\n",
    "        if j[4] == '-' and j[9] == '-' and j[14] == '-' :\n",
    "            sp = j.split('-')\n",
    "            if len(sp)>4:\n",
    "                return False\n",
    "            j = ''.join(sp)\n",
    "        else:\n",
    "            return False\n",
    "\n",
    "    if j.isdigit() and len(j) == 16 and j.startswith(('4','5','6')):\n",
    "        prev = ''\n",
    "        count = 0\n",
    "        for i in j:\n",
    "            if prev != i:\n",
    "                prev = i\n",
    "                count = 1\n",
    "            else:\n",
    "                count += 1\n",
    "\n",
    "            if count == 4:\n",
    "                return False\n",
    "\n",
    "        return True\n",
    "\n",
    "    else:\n",
    "        return False\n",
    "\n"
   ]
  },
  {
   "cell_type": "code",
   "execution_count": 33,
   "metadata": {},
   "outputs": [
    {
     "output_type": "execute_result",
     "data": {
      "text/plain": [
       "False"
      ]
     },
     "metadata": {},
     "execution_count": 33
    }
   ],
   "source": [
    "valid_invalid('6668--------------------4434-4480-6432')"
   ]
  },
  {
   "cell_type": "code",
   "execution_count": 11,
   "metadata": {},
   "outputs": [
    {
     "output_type": "execute_result",
     "data": {
      "text/plain": [
       "True"
      ]
     },
     "metadata": {},
     "execution_count": 11
    }
   ],
   "source": [
    "valid_invalid('4123-4532-2452-6432')"
   ]
  },
  {
   "cell_type": "code",
   "execution_count": 13,
   "metadata": {},
   "outputs": [
    {
     "output_type": "execute_result",
     "data": {
      "text/plain": [
       "True"
      ]
     },
     "metadata": {},
     "execution_count": 13
    }
   ],
   "source": [
    "valid_invalid('5123-4567-8912-3456')"
   ]
  },
  {
   "cell_type": "code",
   "execution_count": 14,
   "metadata": {},
   "outputs": [
    {
     "output_type": "execute_result",
     "data": {
      "text/plain": [
       "False"
      ]
     },
     "metadata": {},
     "execution_count": 14
    }
   ],
   "source": [
    "valid_invalid('61234-567-8912-3456')"
   ]
  },
  {
   "cell_type": "code",
   "execution_count": 15,
   "metadata": {},
   "outputs": [
    {
     "output_type": "execute_result",
     "data": {
      "text/plain": [
       "False"
      ]
     },
     "metadata": {},
     "execution_count": 15
    }
   ],
   "source": [
    "valid_invalid('42536258796157867')"
   ]
  }
 ]
}