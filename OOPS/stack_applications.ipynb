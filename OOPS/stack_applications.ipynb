{
 "metadata": {
  "language_info": {
   "codemirror_mode": {
    "name": "ipython",
    "version": 3
   },
   "file_extension": ".py",
   "mimetype": "text/x-python",
   "name": "python",
   "nbconvert_exporter": "python",
   "pygments_lexer": "ipython3",
   "version": "3.8.1-final"
  },
  "orig_nbformat": 2,
  "kernelspec": {
   "name": "python3",
   "display_name": "Python 3.8.1 32-bit",
   "metadata": {
    "interpreter": {
     "hash": "5669fbfde2d300a3745c1c6fc20d2d5854094054b297e84aa4e3d67f6f94d599"
    }
   }
  }
 },
 "nbformat": 4,
 "nbformat_minor": 2,
 "cells": [
  {
   "source": [
    "# MENU\n",
    "Applications of stack:\n",
    "\n",
    "1. Evaluate Postfix expression\n",
    "2. Parenthesis checking (consider all three types of parenthesis)\n",
    "3. Conversion of infix to postfix"
   ],
   "cell_type": "markdown",
   "metadata": {}
  },
  {
   "cell_type": "code",
   "execution_count": 1,
   "metadata": {},
   "outputs": [],
   "source": [
    "from stacklib import Stack"
   ]
  },
  {
   "source": [
    "# Functions"
   ],
   "cell_type": "markdown",
   "metadata": {}
  },
  {
   "cell_type": "code",
   "execution_count": 2,
   "metadata": {},
   "outputs": [],
   "source": [
    "def solvePostfix(exp):\n",
    "    '''\n",
    "    Solves a postfix expression.\n",
    "    \n",
    "    Parameters:\n",
    "    ----------\n",
    "        exp: <list>, postfix expression as a list of strings.\n",
    "\n",
    "    Returns:\n",
    "        Evaluated value for the postfix expression\n",
    "    '''\n",
    "    sol_stack = Stack(len(exp))\n",
    "    for i in exp:                       # traversing the expression\n",
    "        if i.isnumeric():\n",
    "            sol_stack.push(i)\n",
    "        else:                           # in case we encounter an operator\n",
    "            b = str(sol_stack.pop())    # we pop the last two elements\n",
    "            a = str(sol_stack.pop())\n",
    "            if i is '^':\n",
    "                i = '**'\n",
    "            sol_stack.push(eval(a+i+b)) # apply the operation on the elments popped from stack\n",
    "    return sol_stack.pop()              # returning the evaluated value"
   ]
  },
  {
   "cell_type": "code",
   "execution_count": 3,
   "metadata": {},
   "outputs": [],
   "source": [
    "def checkParantheses(exp):\n",
    "    '''\n",
    "    Checks if parantheses, braces and brackets are used properly in an expression.\n",
    "\n",
    "    Parameters:\n",
    "    ----------\n",
    "        exp: <list|tuple|string>, the expression which you want to validate.\n",
    "\n",
    "    Returns:\n",
    "    -------\n",
    "        True if the parantheses are correct in the expression, False otherwise.\n",
    "    '''\n",
    "    par_stack = Stack(len(exp)+1)\n",
    "    par_dict = {'(':')','{':'}','[':']'}\n",
    "    for i in exp:\n",
    "        if i in '[{(':\n",
    "            par_stack.push(par_dict[i]) # if we encounter any opening parantheses we push the closing parantheses for it\n",
    "        elif i in ')}]':\n",
    "            try:\n",
    "                if par_stack.pop() != i:# if we encounter any closing parantheses we pop last pushed element and check if the closing paranthses is correct one\n",
    "                    return False\n",
    "            except:\n",
    "                return False            # if the closing parantheses count is more than the opening parantheses count\n",
    "    if not par_stack.isEmpty():         # in case the opening parantheses count was more than the closing parantheses count\n",
    "        return False\n",
    "    return True"
   ]
  },
  {
   "cell_type": "code",
   "execution_count": 4,
   "metadata": {},
   "outputs": [],
   "source": [
    "def postfix(exp):\n",
    "    '''\n",
    "    Converts a infix expression to a postfix expression.\n",
    "\n",
    "    Parameters:\n",
    "    ----------\n",
    "        exp: <list|tuple>, The infix expression you want to convert to the postfix expression.\n",
    "\n",
    "    Returns:\n",
    "    -------\n",
    "        a list containing the postfix expression.\n",
    "    '''\n",
    "    \n",
    "    op_stack = Stack(len(exp))\n",
    "    post_exp = []\n",
    "\n",
    "    try:\n",
    "        for j,i in enumerate(exp):\n",
    "            if not j%2 and i in \"+-/*^\" or j%2 and i not in \"+-/*^\":\n",
    "                raise ValueError(\"Incorrect infix expression\")\n",
    "\n",
    "            if i.isalnum():\n",
    "                post_exp.append(i)\n",
    "\n",
    "            elif i in ('[','(','{'):\n",
    "                op_stack.push(i)\n",
    "\n",
    "            elif i in (']',')','}'):\n",
    "                closing = {']':'[','}':'{',')':'('}\n",
    "                while op_stack.peek() != closing[i]:\n",
    "                    post_exp.append(op_stack.pop())\n",
    "                op_stack.pop()\n",
    "\n",
    "            elif i == '^':\n",
    "                op_stack.push(i)\n",
    "\n",
    "            elif i == '/':\n",
    "                while not op_stack.isEmpty() and op_stack.peek() in ('^'):\n",
    "                    post_exp.append(op_stack.pop())\n",
    "                op_stack.push(i)\n",
    "\n",
    "            elif i == '*':\n",
    "                while not op_stack.isEmpty() and op_stack.peek() in ('^','/'):\n",
    "                    post_exp.append(op_stack.pop())\n",
    "                op_stack.push(i)\n",
    "\n",
    "            elif i in ('+','-'):\n",
    "                while not op_stack.isEmpty() and op_stack.peek() in ('^','/','*'):\n",
    "                    post_exp.append(op_stack.pop())\n",
    "                op_stack.push(i)\n",
    "\n",
    "        while not op_stack.isEmpty():\n",
    "            if op_stack.peek() in '[{(':\n",
    "                raise TypeError(\"Unclosed Brackets\")\n",
    "            post_exp.append(op_stack.pop())\n",
    "\n",
    "        return post_exp\n",
    "\n",
    "    except Exception as ex:\n",
    "        print(ex)\n",
    "        return []"
   ]
  },
  {
   "source": [
    "# RUN"
   ],
   "cell_type": "markdown",
   "metadata": {}
  },
  {
   "cell_type": "code",
   "execution_count": 5,
   "metadata": {},
   "outputs": [
    {
     "output_type": "stream",
     "name": "stdout",
     "text": [
      "Incorrect infix expression\n"
     ]
    },
    {
     "output_type": "execute_result",
     "data": {
      "text/plain": [
       "[]"
      ]
     },
     "metadata": {},
     "execution_count": 5
    }
   ],
   "source": [
    "postfix(\"ab\")"
   ]
  },
  {
   "cell_type": "code",
   "execution_count": 6,
   "metadata": {},
   "outputs": [
    {
     "output_type": "execute_result",
     "data": {
      "text/plain": [
       "['2', '3', '6', '2', '/', '7', '*', '*', '8', '+', '+']"
      ]
     },
     "metadata": {},
     "execution_count": 6
    }
   ],
   "source": [
    "postfix('2+3*6/2*7+8')"
   ]
  },
  {
   "cell_type": "code",
   "execution_count": 7,
   "metadata": {},
   "outputs": [
    {
     "output_type": "execute_result",
     "data": {
      "text/plain": [
       "73.0"
      ]
     },
     "metadata": {},
     "execution_count": 7
    }
   ],
   "source": [
    "solvePostfix(postfix('2+3*6/2*7+8'))"
   ]
  },
  {
   "cell_type": "code",
   "execution_count": 8,
   "metadata": {},
   "outputs": [
    {
     "output_type": "execute_result",
     "data": {
      "text/plain": [
       "256"
      ]
     },
     "metadata": {},
     "execution_count": 8
    }
   ],
   "source": [
    "solvePostfix(postfix(\"2^2^3\"))"
   ]
  },
  {
   "cell_type": "code",
   "execution_count": 9,
   "metadata": {},
   "outputs": [
    {
     "output_type": "execute_result",
     "data": {
      "text/plain": [
       "True"
      ]
     },
     "metadata": {},
     "execution_count": 9
    }
   ],
   "source": [
    "checkParantheses(\"[{()()}]\")"
   ]
  }
 ]
}