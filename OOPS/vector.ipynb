{
 "metadata": {
  "language_info": {
   "codemirror_mode": {
    "name": "ipython",
    "version": 3
   },
   "file_extension": ".py",
   "mimetype": "text/x-python",
   "name": "python",
   "nbconvert_exporter": "python",
   "pygments_lexer": "ipython3",
   "version": "3.8.1-final"
  },
  "orig_nbformat": 2,
  "kernelspec": {
   "name": "python38132bitvenvvenv91270e11641b484ca834f7666afa2651",
   "display_name": "Python 3.8.1 32-bit ('venv': venv)",
   "language": "python"
  }
 },
 "nbformat": 4,
 "nbformat_minor": 2,
 "cells": [
  {
   "source": [
    "# Menu"
   ],
   "cell_type": "markdown",
   "metadata": {}
  },
  {
   "source": [
    "Write a class named \"Vector\" having two components.\n",
    "The class should have the following functions:\n",
    "\n",
    "1. Add two vectors\n",
    "\n",
    "2. Subtract two vectors\n",
    "\n",
    "3. Multiply  two vectors "
   ],
   "cell_type": "markdown",
   "metadata": {}
  },
  {
   "source": [
    "# Functions"
   ],
   "cell_type": "markdown",
   "metadata": {}
  },
  {
   "cell_type": "code",
   "execution_count": 1,
   "metadata": {},
   "outputs": [],
   "source": [
    "class vector:\n",
    "    '''\n",
    "    Class vector:\n",
    "\n",
    "    properties:\n",
    "    v : the vector\n",
    "\n",
    "    methods:\n",
    "    add:    adds two vectors\n",
    "    sub:    subtracts two vectors\n",
    "    mul:    multiplies two vectors (dot product)\n",
    "    '''\n",
    "    def __init__(self,l):\n",
    "        '''\n",
    "        Constructor for vector class\n",
    "        '''\n",
    "        self.v = list(l)\n",
    "\n",
    "    def __len__(self):\n",
    "        '''\n",
    "        len function defination for vector type objects\n",
    "\n",
    "        returns length of the vector.\n",
    "        '''\n",
    "        return len(list(self.v))\n",
    "\n",
    "    def __str__(self):\n",
    "        '''\n",
    "        Returns the vector in str format\n",
    "        '''\n",
    "        return str(self.v)\n",
    "\n",
    "    def add(self,v2):\n",
    "        '''\n",
    "        adds two vectors\n",
    "        \n",
    "        Attribute:\n",
    "        v2: the vector you want to add to current vector \n",
    "        '''\n",
    "        if(len(self.v)!=len(v2)):\n",
    "            raise Exception(\"Length of Vectors not same can't be added\")\n",
    "        return list(self.v[i]+v2.v[i] for i in range(len(v2)))\n",
    "\n",
    "    def sub(self,v2):\n",
    "        '''\n",
    "        subtracts two vectors\n",
    "        \n",
    "        Attribute:\n",
    "        v2: the vector you want to subtract from current vector \n",
    "        '''\n",
    "        if(len(self.v)!=len(v2)):\n",
    "            raise Exception(\"Length of Vectors not same can't be subtracted\")\n",
    "        return list(self.v[i]-v2.v[i] for i in range(len(v2)))\n",
    "\n",
    "    def mul(self,v2):\n",
    "        '''\n",
    "        Dot products two vectors\n",
    "        \n",
    "        Attribute:\n",
    "        v2: the vector you want to multiply to current vector \n",
    "        '''\n",
    "        if(len(self.v)!=len(v2)):\n",
    "            raise Exception(\"Length of Vectors not same can't be subtracted\")\n",
    "        return sum(list(self.v[i]*v2.v[i] for i in range(len(v2))))"
   ]
  },
  {
   "source": [
    "# RUN"
   ],
   "cell_type": "markdown",
   "metadata": {}
  },
  {
   "cell_type": "code",
   "execution_count": 2,
   "metadata": {},
   "outputs": [],
   "source": [
    "v1 = vector((1,2,3,4))\n",
    "v2 = vector((1,2,3,4))"
   ]
  },
  {
   "cell_type": "code",
   "execution_count": 3,
   "metadata": {},
   "outputs": [
    {
     "output_type": "stream",
     "name": "stdout",
     "text": [
      "Addition of the vectors [1, 2, 3, 4] and [1, 2, 3, 4] is [2, 4, 6, 8]\n\nSubtraction of the vectors [1, 2, 3, 4] and [1, 2, 3, 4] is [0, 0, 0, 0]\n\nMultiplication(Dot product) of the vectors [1, 2, 3, 4] and [1, 2, 3, 4] is 30\n"
     ]
    }
   ],
   "source": [
    "print(\"Addition of the vectors\",v1,\"and\",v2,\"is\",v1.add(v2))\n",
    "print(\"\\nSubtraction of the vectors\",v1,\"and\",v2,\"is\",v1.sub(v2))\n",
    "print(\"\\nMultiplication(Dot product) of the vectors\",v1,\"and\",v2,\"is\",v1.mul(v2))"
   ]
  }
 ]
}