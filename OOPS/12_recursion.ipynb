{
 "metadata": {
  "language_info": {
   "codemirror_mode": {
    "name": "ipython",
    "version": 3
   },
   "file_extension": ".py",
   "mimetype": "text/x-python",
   "name": "python",
   "nbconvert_exporter": "python",
   "pygments_lexer": "ipython3",
   "version": "3.8.1-final"
  },
  "orig_nbformat": 2,
  "kernelspec": {
   "name": "python38132bitvenvvenv91270e11641b484ca834f7666afa2651",
   "display_name": "Python 3.8.1 32-bit ('venv': venv)",
   "language": "python"
  }
 },
 "nbformat": 4,
 "nbformat_minor": 2,
 "cells": [
  {
   "source": [
    "# MENU\n",
    "1. Multiplication of two numbers without using multiplication operator\n",
    "\n",
    "Related to Strings:\n",
    "\n",
    "2. Count the number of elements in a string\n",
    "3. Reverse of a string\n",
    "4. To check whether a given string is palindrome or not\n",
    "\n",
    "Related to Lists\n",
    "\n",
    "5. Flatten a list\n",
    "6. Copy a list\n",
    "7. Deep copy of a list"
   ],
   "cell_type": "markdown",
   "metadata": {}
  },
  {
   "source": [
    "# Functions"
   ],
   "cell_type": "markdown",
   "metadata": {}
  },
  {
   "cell_type": "code",
   "execution_count": 1,
   "metadata": {},
   "outputs": [],
   "source": [
    "def recursion_multiply(a,b):\n",
    "    '''\n",
    "    returns multiplication of two numbers using repetitive addition\n",
    "\n",
    "    parameters:\n",
    "        a : <int> required, multiplicand\n",
    "        b : <int> required, multiplier\n",
    "    '''\n",
    "    return 0 if not b else -recursion_multiply(a,-b) if b<0 else a + recursion_multiply(a,b-1)"
   ]
  },
  {
   "cell_type": "code",
   "execution_count": 2,
   "metadata": {},
   "outputs": [],
   "source": [
    "def count_str_elements(s):\n",
    "    '''\n",
    "    returns the number of elements(characters) in a string\n",
    "\n",
    "    parameters:\n",
    "        s : <string> required\n",
    "    '''\n",
    "    return 0 if not s else 1 + count_str_elements(s[1:])"
   ]
  },
  {
   "cell_type": "code",
   "execution_count": 3,
   "metadata": {},
   "outputs": [],
   "source": [
    "def reverse_str(s):\n",
    "    '''\n",
    "    returns reverse of a string\n",
    "\n",
    "    parameters:\n",
    "        s : <string> required\n",
    "    '''\n",
    "    return '' if not s else reverse_str(s[1:]) + s[0]"
   ]
  },
  {
   "cell_type": "code",
   "execution_count": 4,
   "metadata": {},
   "outputs": [],
   "source": [
    "def pallin(str):\n",
    "    '''\n",
    "    checks if a string is pallindrome or not\n",
    "\n",
    "    parameters:\n",
    "        s : <string> required\n",
    "    '''\n",
    "    return True if len(str)<2 else False if str[0] != str[-1] else pallin(str[1:-1])"
   ]
  },
  {
   "cell_type": "code",
   "execution_count": 5,
   "metadata": {},
   "outputs": [],
   "source": [
    "def flatten(_list):\n",
    "    '''\n",
    "    returns a flat listt (removes nesting)\n",
    "\n",
    "    parameters:\n",
    "         _list : <list> required\n",
    "    '''\n",
    "    return list() if not _list else flatten(_list[0]) + flatten(_list[1:]) if isinstance(_list[0],list) else [_list[0]] + flatten(_list[1:])"
   ]
  },
  {
   "cell_type": "code",
   "execution_count": 6,
   "metadata": {},
   "outputs": [],
   "source": [
    "def shallow_copy(_list):\n",
    "    '''\n",
    "    returns shallow copy of list\n",
    "\n",
    "    parameters:\n",
    "         _list : <list> required\n",
    "    '''\n",
    "    return list() if not _list else [_list[0]] + shallow_copy(_list[1:])"
   ]
  },
  {
   "cell_type": "code",
   "execution_count": 7,
   "metadata": {},
   "outputs": [],
   "source": [
    "def deep_copy(_list):\n",
    "    '''\n",
    "    returns deep copy of list\n",
    "\n",
    "    parameters:\n",
    "         _list : <list> required\n",
    "    '''\n",
    "    return list() if not _list else [deep_copy(_list[0])] + deep_copy(_list[1:]) if isinstance(_list[0],list) else [_list[0]] + deep_copy(_list[1:])"
   ]
  },
  {
   "source": [
    "# RUN"
   ],
   "cell_type": "markdown",
   "metadata": {}
  },
  {
   "source": [
    "### Multiplication"
   ],
   "cell_type": "markdown",
   "metadata": {}
  },
  {
   "cell_type": "code",
   "execution_count": 8,
   "metadata": {},
   "outputs": [
    {
     "output_type": "stream",
     "name": "stdout",
     "text": [
      "Multiplication of 3 and 4 is 12\nMultiplication of 3 and -4 is -12\nMultiplication of -3 and 4 is -12\nMultiplication of -3 and -4 is 12\n"
     ]
    }
   ],
   "source": [
    "a = 3\n",
    "b = 4\n",
    "c = -3\n",
    "d = -4\n",
    "\n",
    "print(f\"Multiplication of {a} and {b} is {recursion_multiply(a,b)}\")\n",
    "print(f\"Multiplication of {a} and {d} is {recursion_multiply(a,d)}\")\n",
    "print(f\"Multiplication of {c} and {b} is {recursion_multiply(c,b)}\")\n",
    "print(f\"Multiplication of {c} and {d} is {recursion_multiply(c,d)}\")"
   ]
  },
  {
   "source": [
    "### Strings"
   ],
   "cell_type": "markdown",
   "metadata": {}
  },
  {
   "cell_type": "code",
   "execution_count": 9,
   "metadata": {},
   "outputs": [
    {
     "output_type": "stream",
     "name": "stdout",
     "text": [
      "Length of the string \"I am a web developer\" is 20 \nReverse of the string \"I am a web developer\" is \"repoleved bew a ma I\" \n"
     ]
    }
   ],
   "source": [
    "string = \"I am a web developer\"\n",
    "print(f\"Length of the string \\\"{string}\\\" is {count_str_elements(string)} \")# counting number of characters in string\n",
    "print(f\"Reverse of the string \\\"{string}\\\" is \\\"{reverse_str(string)}\\\" \")  # reversing the string\n"
   ]
  },
  {
   "cell_type": "code",
   "execution_count": 10,
   "metadata": {},
   "outputs": [
    {
     "output_type": "stream",
     "name": "stdout",
     "text": [
      "Is \"nitin\" pallindrome?: True \n"
     ]
    }
   ],
   "source": [
    "pallindrome = \"nitin\"\n",
    "print(f\"Is \\\"{pallindrome}\\\" pallindrome?: {pallin(pallindrome)} \")"
   ]
  },
  {
   "source": [
    "### Lists"
   ],
   "cell_type": "markdown",
   "metadata": {}
  },
  {
   "cell_type": "code",
   "execution_count": 11,
   "metadata": {},
   "outputs": [
    {
     "output_type": "execute_result",
     "data": {
      "text/plain": [
       "[1, 2, 3, 1, 2, 3, 1, 2, 3, 1, 2, 3]"
      ]
     },
     "metadata": {},
     "execution_count": 11
    }
   ],
   "source": [
    "a = [1,2,3,[1,2,3,[1,2,3,[1,2,3]]]] # a nested list\n",
    "flatten(a)  # flattening nedted list a"
   ]
  },
  {
   "cell_type": "code",
   "execution_count": 12,
   "metadata": {},
   "outputs": [],
   "source": [
    "b = shallow_copy(a) # creatung a shallow copy of list a\n",
    "c = deep_copy(a)    # creatung a deep copy of list a"
   ]
  },
  {
   "cell_type": "code",
   "execution_count": 13,
   "metadata": {},
   "outputs": [],
   "source": [
    "a[3].append([4,5,6]) # changing original list"
   ]
  },
  {
   "cell_type": "code",
   "execution_count": 14,
   "metadata": {},
   "outputs": [
    {
     "output_type": "execute_result",
     "data": {
      "text/plain": [
       "[1, 2, 3, [1, 2, 3, [1, 2, 3, [1, 2, 3]], [4, 5, 6]]]"
      ]
     },
     "metadata": {},
     "execution_count": 14
    }
   ],
   "source": [
    "a # original list after change"
   ]
  },
  {
   "cell_type": "code",
   "execution_count": 15,
   "metadata": {},
   "outputs": [
    {
     "output_type": "execute_result",
     "data": {
      "text/plain": [
       "[1, 2, 3, [1, 2, 3, [1, 2, 3, [1, 2, 3]], [4, 5, 6]]]"
      ]
     },
     "metadata": {},
     "execution_count": 15
    }
   ],
   "source": [
    "b # shallow copied list"
   ]
  },
  {
   "cell_type": "code",
   "execution_count": 16,
   "metadata": {},
   "outputs": [
    {
     "output_type": "execute_result",
     "data": {
      "text/plain": [
       "[1, 2, 3, [1, 2, 3, [1, 2, 3, [1, 2, 3]]]]"
      ]
     },
     "metadata": {},
     "execution_count": 16
    }
   ],
   "source": [
    "c #deep copied list"
   ]
  }
 ]
}