{
 "metadata": {
  "language_info": {
   "codemirror_mode": {
    "name": "ipython",
    "version": 3
   },
   "file_extension": ".py",
   "mimetype": "text/x-python",
   "name": "python",
   "nbconvert_exporter": "python",
   "pygments_lexer": "ipython3",
   "version": "3.9.2-final"
  },
  "orig_nbformat": 2,
  "kernelspec": {
   "name": "python3",
   "display_name": "Python 3.9.2 64-bit",
   "metadata": {
    "interpreter": {
     "hash": "9552b8190f63102abce783a036fdab59c8fbd44b305ff071c472b263e7af8b3a"
    }
   }
  }
 },
 "nbformat": 4,
 "nbformat_minor": 2,
 "cells": [
  {
   "source": [
    "# Menu\n",
    "Implement Queue class, having following functions:\n",
    "\n",
    "1. Enqueue: to insert an element, before insertion check queue is not full. \n",
    "2. Dequeue: to delete an element, before deletion, check queue should not be empty.\n",
    "3. Display: to display elements of the list.\n",
    "\n",
    "Also, note that the size of queue is fix i.e. queue can have a limited number of elements"
   ],
   "cell_type": "markdown",
   "metadata": {}
  },
  {
   "source": [
    "## Class Definition"
   ],
   "cell_type": "markdown",
   "metadata": {}
  },
  {
   "cell_type": "code",
   "execution_count": 1,
   "metadata": {},
   "outputs": [],
   "source": [
    "class Queue:\n",
    "    '''\n",
    "    A circular queue(FIFO) implementation of fuxed size.\n",
    "\n",
    "    Properties:\n",
    "    ----------\n",
    "    size: max size of the elements you can insert in the queue\n",
    "\n",
    "    Methods:\n",
    "    --------\n",
    "    enqueue: to insert elements into the queue structure from the rear.\n",
    "    dequeue: to delete elements from the queue structure from the front.\n",
    "    __str__: to print the queue\n",
    "    __len__: to get th length of the queue\n",
    "\n",
    "    '''\n",
    "\n",
    "\n",
    "    def __init__(self,size):\n",
    "        '''\n",
    "        Constructor for the Queue.\n",
    "\n",
    "        Attributes:\n",
    "        ----------\n",
    "        size: size of the queue.\n",
    "        '''\n",
    "        self.__front = -1\n",
    "        self.__rear = -1\n",
    "        self.size = size\n",
    "        self.__queue = list(range(size))\n",
    "\n",
    "    def __len__(self):\n",
    "        '''\n",
    "        Defination of built-in function len() for our class Queue\n",
    "        '''\n",
    "        if self.__rear < self.__front:\n",
    "            return self.size - self.__front + self.__rear + 1\n",
    "        elif self.__rear == -1:\n",
    "            return 0\n",
    "        else:\n",
    "            return self.__rear - self.__front + 1\n",
    "    \n",
    "    def __str__(self):\n",
    "        '''\n",
    "        Overridden defination of built-in function print() for our class Queue\n",
    "        '''\n",
    "        s = \"\"\n",
    "        if self.__front != -1:\n",
    "            if self.__front <= self.__rear:\n",
    "                for i in range(self.__front,self.__rear+1):\n",
    "                    s += str(self.__queue[i]) + \" \"\n",
    "            else:\n",
    "                for i in range(self.__front,self.size):\n",
    "                    s += str(self.__queue[i]) + \" \"\n",
    "                for i in range(0,self.__rear+1):\n",
    "                    s += str(self.__queue[i]) + \" \"\n",
    "        return s\n",
    "    \n",
    "    def enqueue(self,item):\n",
    "        '''\n",
    "        Inserts an element at the rear end of the Queue if it is not full.\n",
    "\n",
    "        Attributes:\n",
    "        ----------\n",
    "        item: The item to be enqueued\n",
    "        '''\n",
    "        if (self.__rear + 1) % self.size == self.__front:\n",
    "            raise Exception(\"__queue is full\")\n",
    "\n",
    "        if self.__front == -1: self.__front = 0\n",
    "\n",
    "        self.__rear = (self.__rear + 1) % self.size\n",
    "        self.__queue[self.__rear] = item\n",
    "\n",
    "    def dequeue(self):\n",
    "        '''\n",
    "        Inserts an element at the rear end of the Queue if it is not full.\n",
    "\n",
    "        Returns:\n",
    "        -------\n",
    "            The dequeued item from the front of the queue.\n",
    "        '''\n",
    "        if self.__front == -1:\n",
    "            raise Exception(\"__queue is empty\")\n",
    "\n",
    "        item = self.__queue[self.__front]\n",
    "\n",
    "        if self.__front == self.__rear:\n",
    "            self.__front = self.__rear = -1\n",
    "\n",
    "        else:\n",
    "            self.__front = (self.__front + 1) % self.size\n",
    "\n",
    "        return item"
   ]
  },
  {
   "source": [
    "## RUN"
   ],
   "cell_type": "markdown",
   "metadata": {}
  },
  {
   "cell_type": "code",
   "execution_count": 2,
   "metadata": {},
   "outputs": [],
   "source": [
    "q1 = Queue(5)"
   ]
  },
  {
   "cell_type": "code",
   "execution_count": 3,
   "metadata": {},
   "outputs": [],
   "source": [
    "q1.enqueue(11)\n",
    "q1.enqueue(12)\n",
    "q1.enqueue(13)\n",
    "q1.enqueue(14)\n",
    "q1.enqueue(15)"
   ]
  },
  {
   "cell_type": "code",
   "execution_count": 4,
   "metadata": {},
   "outputs": [
    {
     "output_type": "stream",
     "name": "stdout",
     "text": [
      "11 12 13 14 15 \n"
     ]
    }
   ],
   "source": [
    "print(q1)"
   ]
  },
  {
   "cell_type": "code",
   "execution_count": 5,
   "metadata": {},
   "outputs": [
    {
     "output_type": "execute_result",
     "data": {
      "text/plain": [
       "11"
      ]
     },
     "metadata": {},
     "execution_count": 5
    }
   ],
   "source": [
    "q1.dequeue()"
   ]
  },
  {
   "cell_type": "code",
   "execution_count": 6,
   "metadata": {},
   "outputs": [
    {
     "output_type": "execute_result",
     "data": {
      "text/plain": [
       "12"
      ]
     },
     "metadata": {},
     "execution_count": 6
    }
   ],
   "source": [
    "q1.dequeue()"
   ]
  },
  {
   "cell_type": "code",
   "execution_count": 7,
   "metadata": {},
   "outputs": [
    {
     "output_type": "stream",
     "name": "stdout",
     "text": [
      "13 14 15 \n"
     ]
    }
   ],
   "source": [
    "print(q1)"
   ]
  },
  {
   "cell_type": "code",
   "execution_count": 8,
   "metadata": {},
   "outputs": [],
   "source": [
    "q1.enqueue(16)"
   ]
  },
  {
   "cell_type": "code",
   "execution_count": 9,
   "metadata": {},
   "outputs": [],
   "source": [
    "q1.enqueue(17)"
   ]
  },
  {
   "cell_type": "code",
   "execution_count": 10,
   "metadata": {},
   "outputs": [
    {
     "output_type": "stream",
     "name": "stdout",
     "text": [
      "13 14 15 16 17 \n"
     ]
    }
   ],
   "source": [
    "print(q1)"
   ]
  }
 ]
}