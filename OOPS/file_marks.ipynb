{
 "metadata": {
  "language_info": {
   "codemirror_mode": {
    "name": "ipython",
    "version": 3
   },
   "file_extension": ".py",
   "mimetype": "text/x-python",
   "name": "python",
   "nbconvert_exporter": "python",
   "pygments_lexer": "ipython3",
   "version": "3.8.1-final"
  },
  "orig_nbformat": 2,
  "kernelspec": {
   "name": "python38132bitvenvvenv91270e11641b484ca834f7666afa2651",
   "display_name": "Python 3.8.1 32-bit ('venv': venv)",
   "language": "python"
  }
 },
 "nbformat": 4,
 "nbformat_minor": 2,
 "cells": [
  {
   "source": [
    "# MENU\n",
    "1. Create a file containing records of the students marks in each subject. \n",
    "2. Read the file created in step 1, generate the marksheets of individual student and save it in a file named <studentName_rollno>.\n",
    "3. Also generate a file containing name of students scoring highest marks subject-wise. "
   ],
   "cell_type": "markdown",
   "metadata": {}
  },
  {
   "source": [
    "# Functions"
   ],
   "cell_type": "markdown",
   "metadata": {}
  },
  {
   "cell_type": "code",
   "execution_count": 48,
   "metadata": {},
   "outputs": [],
   "source": [
    "import pickle"
   ]
  },
  {
   "cell_type": "code",
   "execution_count": 37,
   "metadata": {},
   "outputs": [],
   "source": [
    "def inputdict():\n",
    "    '''\n",
    "    Returns a dictionary with students names roll number and their marks in each subject\n",
    "    '''\n",
    "    num_stu = int(input(\"Enter Number of Students:\"))   # inputting number of students\n",
    "    \n",
    "    subjects = input(\"Enter Name of Subjects (Space Separated)\").strip().split() # input name of subjects space separated \n",
    "\n",
    "    asm = {\"name\":[],\"rollno\":[]}\n",
    "\n",
    "    asm.update({i: [] for i in subjects})\n",
    "\n",
    "    for i in range(num_stu):    # looping for the number of students\n",
    "        for key in asm:\n",
    "            if key in (\"name\",\"rollno\"):\n",
    "                asm[key] += [input(f\"Enter {key} for student {i}\")]\n",
    "            else:\n",
    "                asm[key] += [int(input(f\"Enter {key} marks for student {i}\"))]\n",
    "\n",
    "    return asm"
   ]
  },
  {
   "cell_type": "code",
   "execution_count": 50,
   "metadata": {},
   "outputs": [],
   "source": [
    "def allstudentmarks(asm,fname):\n",
    "    '''\n",
    "    stores the students information in a file\n",
    "\n",
    "    parameters:\n",
    "        asm: structure that have students information\n",
    "        fname: file name in which data will be stored\n",
    "    '''\n",
    "    fi = open(fname,'wb')\n",
    "    pickle.dump(asm,fi) # dumping/ storing students details\n",
    "    fi.close()"
   ]
  },
  {
   "cell_type": "code",
   "execution_count": 40,
   "metadata": {},
   "outputs": [],
   "source": [
    "def createmarksheet(fname):\n",
    "    '''\n",
    "    creates students marksheet with names <studentName_rollno> for each student\n",
    "\n",
    "    parameters:\n",
    "        fname: file name in which data is stored\n",
    "    '''\n",
    "    fi = open(fname,'rb')\n",
    "    asm = pickle.load(fi)\n",
    "\n",
    "    for i in range(len(asm['name'])): \n",
    "        sfile = open(asm['name'][i]+'_'+asm['rollno'][i]+'.txt','w')\n",
    "        for key in asm:\n",
    "            sfile.write(\"{}: {}\".format(key,asm[key][i])+'\\n')\n",
    "        sfile.close() \n",
    "    fi.close()"
   ]
  },
  {
   "cell_type": "code",
   "execution_count": 53,
   "metadata": {},
   "outputs": [],
   "source": [
    "def findmax(fname,maxfile):\n",
    "    '''\n",
    "    creates a file containing max marks for each subject with the student name with max marks\n",
    "\n",
    "    parameters:\n",
    "        fname: file name in which data is stored\n",
    "        maxfile: in which max marks info will be stored\n",
    "    '''\n",
    "    fi = open(fname,'rb')\n",
    "    asm = pickle.load(fi)\n",
    "\n",
    "    su = open(maxfile,\"w\")\n",
    "\n",
    "    for sub in asm:\n",
    "        if sub not in (\"name\",\"rollno\"):\n",
    "            maximum = max(asm[sub])\n",
    "            ind = asm[sub].index(maximum)\n",
    "            su.write(\"Max of {} is {} of {}\\n\".format(sub,maximum,asm[\"name\"][ind]))\n",
    "\n",
    "    su.close()\n",
    "    fi.close()"
   ]
  },
  {
   "source": [
    "# RUN"
   ],
   "cell_type": "markdown",
   "metadata": {}
  },
  {
   "cell_type": "code",
   "execution_count": null,
   "metadata": {},
   "outputs": [],
   "source": [
    "file = \"allstudentmarks\"\n",
    "maxfile = \"maxmarks\""
   ]
  },
  {
   "cell_type": "code",
   "execution_count": null,
   "metadata": {},
   "outputs": [],
   "source": [
    "asm = inputdict() # Input Students Details (marks, name)\n",
    "asm"
   ]
  },
  {
   "cell_type": "code",
   "execution_count": 51,
   "metadata": {},
   "outputs": [],
   "source": [
    "allstudentmarks(asm,file)"
   ]
  },
  {
   "cell_type": "code",
   "execution_count": 52,
   "metadata": {},
   "outputs": [],
   "source": [
    "createmarksheet(file)"
   ]
  },
  {
   "cell_type": "code",
   "execution_count": 54,
   "metadata": {},
   "outputs": [],
   "source": [
    "findmax(file,maxfile)"
   ]
  }
 ]
}