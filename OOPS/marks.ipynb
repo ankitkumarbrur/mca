{
 "metadata": {
  "language_info": {
   "codemirror_mode": {
    "name": "ipython",
    "version": 3
   },
   "file_extension": ".py",
   "mimetype": "text/x-python",
   "name": "python",
   "nbconvert_exporter": "python",
   "pygments_lexer": "ipython3",
   "version": "3.8.1-final"
  },
  "orig_nbformat": 2,
  "kernelspec": {
   "name": "python38132bitvenvvenv91270e11641b484ca834f7666afa2651",
   "display_name": "Python 3.8.1 32-bit ('venv': venv)",
   "language": "python"
  }
 },
 "nbformat": 4,
 "nbformat_minor": 2,
 "cells": [
  {
   "source": [
    "# MENU\n",
    "1. Create a file containing records of the students marks in each subject. \n",
    "2. Read the file created in step 1, generate the marksheets of individual student and save it in a file named <studentName_rollno>.\n",
    "3. Also generate a file containing name of students scoring highest marks subject-wise. "
   ],
   "cell_type": "markdown",
   "metadata": {}
  },
  {
   "source": [
    "# Functions"
   ],
   "cell_type": "markdown",
   "metadata": {}
  },
  {
   "cell_type": "code",
   "execution_count": 2,
   "metadata": {},
   "outputs": [],
   "source": [
    "import pickle "
   ]
  },
  {
   "cell_type": "code",
   "execution_count": 9,
   "metadata": {},
   "outputs": [],
   "source": [
    "def inputdict():\n",
    "    '''\n",
    "    Returns a dictionary with students names roll number and their marks in each subject\n",
    "    '''\n",
    "    num_stu = int(input(\"Enter Number of Students:\"))   # inputting number of students\n",
    "    \n",
    "    subjects = input(\"Enter Name of Subjects (Space Separated)\").strip().split() # input name of subjects space separated \n",
    "\n",
    "    asm = {}   \n",
    "\n",
    "    for i in range(num_stu):    # loopinf for the number of students\n",
    "        stu = {}\n",
    "        n = input(f\"Enter Name for student {i}\")\n",
    "        r = int(input(f\"Enter Roll no for student {i}\"))\n",
    "        stu['Rollno'] = r\n",
    "        for i in range(len(subjects)): # inputting marks for each student\n",
    "            m = int(input(f\"Enter {subjects[i]} marks for {n}\"))\n",
    "            stu[subjects[i]] = m\n",
    "        asm[n]=stu\n",
    "\n",
    "    return asm"
   ]
  },
  {
   "cell_type": "code",
   "execution_count": 5,
   "metadata": {},
   "outputs": [],
   "source": [
    "def allstudentmarks(asm,fname):\n",
    "    '''\n",
    "    stores the students information in a file\n",
    "\n",
    "    parameters:\n",
    "        asm: structure that have students information\n",
    "        fname: file name in which data will be stored\n",
    "    '''\n",
    "    fi = open(fname,'wb')\n",
    "    pickle.dump(asm,fi) # dumping/ storing students details\n",
    "    fi.close()"
   ]
  },
  {
   "cell_type": "code",
   "execution_count": 24,
   "metadata": {},
   "outputs": [],
   "source": [
    "def createmarksheet(fname):\n",
    "    '''\n",
    "    creates students marksheet with names <studentName_rollno> for each student\n",
    "\n",
    "    parameters:\n",
    "        fname: file name in which data is stored\n",
    "    '''\n",
    "    fi = open(fname,'rb')\n",
    "    asm = pickle.load(fi)\n",
    "\n",
    "    for key in asm: \n",
    "        sfile = open(key+'_'+str(asm[key]['Rollno'])+'.txt','w')\n",
    "        sfile.write(\"Name: \"+key+\"\\n\"+\"Roll No.: \"+str(asm[key]['Rollno'])+'\\n')\n",
    "        sfile.write(\"-\"*40+'\\n')\n",
    "        for sub in asm[key]:\n",
    "            sfile.write(\"{}: {}\".format(sub,asm[key][sub])+'\\n')\n",
    "        sfile.close() \n",
    "    fi.close()"
   ]
  },
  {
   "cell_type": "code",
   "execution_count": 52,
   "metadata": {},
   "outputs": [],
   "source": [
    "def findmax(fname):\n",
    "    '''\n",
    "    creates a file containing max marks for each subject with the student name with max marks\n",
    "\n",
    "    parameters:\n",
    "        fname: file name in which data is stored\n",
    "    '''\n",
    "    fi = open(fname,'rb')\n",
    "    asm = pickle.load(fi)\n",
    "\n",
    "    subject_marks = {\"Name\":[]}\n",
    "\n",
    "    for key in asm:\n",
    "        for sub in asm[key]:\n",
    "            if sub == \"Rollno\":\n",
    "                subject_marks['Name'] += [key]\n",
    "            else:\n",
    "                if sub not in subject_marks:\n",
    "                    subject_marks[sub] = [asm[key][sub]]\n",
    "                else:\n",
    "                    subject_marks[sub] += [asm[key][sub]]\n",
    "\n",
    "    fi.close()\n",
    "\n",
    "    su = open(\"maxmarks\",\"w\")\n",
    "\n",
    "    for sub in subject_marks:\n",
    "        if sub != \"Name\":\n",
    "            maximum = max(subject_marks[sub])\n",
    "            ind = subject_marks[sub].index(maximum)\n",
    "            su.write(\"Max of {} is {} of {}\\n\".format(sub,maximum,subject_marks[\"Name\"][ind]))\n",
    "\n",
    "    su.close()"
   ]
  },
  {
   "source": [
    "# RUN"
   ],
   "cell_type": "markdown",
   "metadata": {}
  },
  {
   "cell_type": "code",
   "execution_count": null,
   "metadata": {},
   "outputs": [],
   "source": [
    "asm = inputdict() # Input Students Details (marks, name)"
   ]
  },
  {
   "cell_type": "code",
   "execution_count": 54,
   "metadata": {},
   "outputs": [
    {
     "output_type": "execute_result",
     "data": {
      "text/plain": [
       "{'Ankit': {'Rollno': 1, 'Maths': 100, 'English': 87},\n",
       " 'Nidhi': {'Rollno': 2, 'Maths': 99, 'English': 98}}"
      ]
     },
     "metadata": {},
     "execution_count": 54
    }
   ],
   "source": [
    "asm"
   ]
  },
  {
   "cell_type": "code",
   "execution_count": 55,
   "metadata": {},
   "outputs": [],
   "source": [
    "allstudentmarks(asm,\"allstudentmarks\")"
   ]
  },
  {
   "cell_type": "code",
   "execution_count": null,
   "metadata": {},
   "outputs": [],
   "source": [
    "createmarksheet(\"allstudentmarks\")"
   ]
  },
  {
   "cell_type": "code",
   "execution_count": 56,
   "metadata": {},
   "outputs": [],
   "source": [
    "findmax(\"allstudentmarks\")"
   ]
  }
 ]
}