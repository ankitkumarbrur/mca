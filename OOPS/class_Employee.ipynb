{
 "metadata": {
  "language_info": {
   "codemirror_mode": {
    "name": "ipython",
    "version": 3
   },
   "file_extension": ".py",
   "mimetype": "text/x-python",
   "name": "python",
   "nbconvert_exporter": "python",
   "pygments_lexer": "ipython3",
   "version": "3.8.1-final"
  },
  "orig_nbformat": 2,
  "kernelspec": {
   "name": "python38132bitvenvvenv91270e11641b484ca834f7666afa2651",
   "display_name": "Python 3.8.1 32-bit ('venv': venv)",
   "language": "python"
  }
 },
 "nbformat": 4,
 "nbformat_minor": 2,
 "cells": [
  {
   "source": [
    "Class 1:\n",
    "\n",
    "Create a class employee with following attributes:\n",
    "\n",
    "1. Name\n",
    "2. EmpID\n",
    "3. Designation: Worker/ Supervisor/Manager\n",
    "4. Salary\n",
    "5. Experience\n",
    "\n",
    "Define all getter and setter methods + show method + ```__str__()```\n",
    "\n",
    "Calculate Salary according to Designation and experience\n",
    "BaseSalary + AddSal + HRA\n",
    "\n",
    "BaseSalary is\n",
    "{10000, 15000, 20000} for Worker, Supervisor, Manager resp\n",
    "\n",
    "AddSal = %age experience of BaseSalary\n",
    "\n",
    "HRA = 5% of BaseSalary\n",
    "\n",
    "************************************************\n",
    "Class 2:\n",
    "\n",
    "Define all getter and setter methods + ```__str__()```\n",
    "\n",
    "LAPTOP\n",
    "\n",
    "Attributes:\n",
    "\n",
    "- Brand\n",
    "- Processor\n",
    "- RAM\n",
    "- Color\n",
    "- show()"
   ],
   "cell_type": "markdown",
   "metadata": {}
  },
  {
   "cell_type": "code",
   "execution_count": 1,
   "metadata": {},
   "outputs": [],
   "source": [
    "class Laptop:\n",
    "    '''\n",
    "    Laptop Class:\n",
    "\n",
    "    Properties:\n",
    "    Brand\n",
    "    Processor\n",
    "    RAM\n",
    "    Color\n",
    "\n",
    "    Methods:\n",
    "    show():\n",
    "        Prints the Laptop Properties.\n",
    "    '''\n",
    "\n",
    "    def __init__(self,brand,processor,ram,color):\n",
    "        '''\n",
    "        Constructor for Laptop Class\n",
    "        Parameters Required:\n",
    "            - Brand\n",
    "            - Processor\n",
    "            - RAM\n",
    "            - Color\n",
    "        '''\n",
    "        self.brand = brand\n",
    "        self.processor = processor\n",
    "        self.ram = ram\n",
    "        self.color = color\n",
    "    \n",
    "    def show(self):\n",
    "        '''\n",
    "        Prints the details of the object.\n",
    "        '''\n",
    "        print(f\"Laptop details:\\n\\nBrand:\\t\\t{self.brand}\\nProcessor:\\t{self.processor}\\nRam:\\t\\t{self.ram}\\nColor:\\t\\t{self.color}\")\n",
    "\n",
    "    def __str__(self):\n",
    "        return f\"Laptop details:\\n\\nBrand:\\t\\t{self.brand}\\nProcessor:\\t{self.processor}\\nRam:\\t\\t{self.ram}\\nColor:\\t\\t{self.color}\"\n",
    "\n",
    "    # Getters for Laptop properties\n",
    "    def get_brand(self):\n",
    "        return self.brand\n",
    "\n",
    "    def get_processor(self):\n",
    "        return self.processor\n",
    "\n",
    "    def get_ram(self):\n",
    "        return self.ram\n",
    "\n",
    "    def get_color(self):\n",
    "        return self.color\n",
    "\n",
    "    # Setters for Laptop Properties            \n",
    "    def set_brand(self,brand):\n",
    "        self.brand = brand\n",
    "\n",
    "    def set_processor(self,processor):\n",
    "        self.brand = processor\n",
    "\n",
    "    def set_ram(self,ram):\n",
    "        self.brand = ram\n",
    "\n",
    "    def set_color(self,color):\n",
    "        self.brand = color\n",
    "    \n"
   ]
  },
  {
   "cell_type": "code",
   "execution_count": 2,
   "metadata": {},
   "outputs": [],
   "source": [
    "l1 = Laptop(\"Asus\",\"Intel i7 octa core\",\"8gb\",\"Black\")"
   ]
  },
  {
   "cell_type": "code",
   "execution_count": 3,
   "metadata": {},
   "outputs": [
    {
     "output_type": "stream",
     "name": "stdout",
     "text": [
      "Laptop details:\n\nBrand:\t\tAsus\nProcessor:\tIntel i7 octa core\nRam:\t\t8gb\nColor:\t\tBlack\n"
     ]
    }
   ],
   "source": [
    "l1.show()"
   ]
  },
  {
   "cell_type": "code",
   "execution_count": 7,
   "metadata": {},
   "outputs": [],
   "source": [
    "class Employee:\n",
    "    '''\n",
    "    Employee Class:\n",
    "\n",
    "    Properties:\n",
    "    Name\n",
    "    empID\n",
    "    Designation\n",
    "    Experience\n",
    "    Salary\n",
    "\n",
    "    Methods:\n",
    "    show():\n",
    "        Prints the Employee Properties.\n",
    "    '''\n",
    "\n",
    "    # Designation Dictionary\n",
    "    _designation = {\n",
    "        'Worker' : 10000,\n",
    "        'Supervisor' : 15000,\n",
    "        'Manager' : 20000\n",
    "    }\n",
    "\n",
    "    def __init__(self,name,empID,designation,experience):\n",
    "        '''\n",
    "        Constructor for Employee Class\n",
    "        Parameters Required:\n",
    "            - Name\n",
    "            - empID\n",
    "            - Designation\n",
    "            - Experience\n",
    "            - Salary\n",
    "        '''\n",
    "        self.name = name\n",
    "        self.empID = empID\n",
    "        self.designation = designation\n",
    "        self.experience = experience\n",
    "        self.salary = self.cal_salary()\n",
    "    \n",
    "    def cal_salary(self):\n",
    "        '''\n",
    "        Returns salary using defined structure (BaseSalary + AddSal + HRA)\n",
    "        '''\n",
    "        baseSalary = self._designation[self.designation]\n",
    "        salary = (baseSalary * 0.01 * self.experience) + (baseSalary * 0.01 * 5) + baseSalary\n",
    "        return salary\n",
    "\n",
    "    def show(self):\n",
    "        '''\n",
    "        Prints the details of the object.\n",
    "        '''\n",
    "        print(f\"Employee details:\\n\\nName:\\t\\t{self.name}\\nEmpID:\\t\\t{self.empID}\\nDesignation:\\t{self.designation}\\nExperience:\\t{self.experience}\\nSalary:\\t\\t{self.salary}\")\n",
    "    \n",
    "    def __str__(self):\n",
    "        print(f\"Employee details:\\n\\nName:\\t\\t{self.name}\\nEmpID:\\t\\t{self.empID}\\nDesignation:\\t{self.designation}\\nExperience:\\t{self.experience}\\nSalary:\\t\\t{self.salary}\")\n",
    "    # Getter for Employee properties\n",
    "    def get_name(self):\n",
    "        return self.name\n",
    "        \n",
    "    def get_empID(self):\n",
    "        return self.empID\n",
    "\n",
    "    def get_designation(self):\n",
    "        return self.designation\n",
    "\n",
    "    def get_salary(self):\n",
    "        return self.salary\n",
    "\n",
    "    def get_experience(self):\n",
    "        return self.experience\n",
    "\n",
    "    # Setter for Employee properties\n",
    "    def set_name(self,name):\n",
    "        self.name = name\n",
    "        \n",
    "    def set_empID(self,empID):\n",
    "        self.empID = empID\n",
    "\n",
    "    def set_designation(self,designation):\n",
    "        self.designation = designation\n",
    "\n",
    "    def set_salary(self,salary):\n",
    "        self.salary = salary\n",
    "\n",
    "    def set_experience(self,experience):\n",
    "        self.experience = experience"
   ]
  },
  {
   "cell_type": "code",
   "execution_count": 5,
   "metadata": {},
   "outputs": [],
   "source": [
    "emp1 = Employee(\"Nidhi\",\"1\",\"Manager\",8)"
   ]
  },
  {
   "cell_type": "code",
   "execution_count": 6,
   "metadata": {},
   "outputs": [
    {
     "output_type": "stream",
     "name": "stdout",
     "text": [
      "Employee details:\n\nName:\t\tNidhi\nEmpID:\t\t1\nDesignation:\tManager\nExperience:\t8\nSalary:\t\t22600.0\n"
     ]
    }
   ],
   "source": [
    "emp1.show()"
   ]
  },
  {
   "cell_type": "code",
   "execution_count": 11,
   "metadata": {},
   "outputs": [],
   "source": [
    "class A:\n",
    "    def __init__(self):\n",
    "        self.k = 10\n",
    "\n",
    "    @property\n",
    "    def j(self):\n",
    "        return self.k\n"
   ]
  },
  {
   "cell_type": "code",
   "execution_count": 12,
   "metadata": {},
   "outputs": [],
   "source": [
    "o = A()"
   ]
  },
  {
   "cell_type": "code",
   "execution_count": 13,
   "metadata": {},
   "outputs": [
    {
     "output_type": "execute_result",
     "data": {
      "text/plain": [
       "10"
      ]
     },
     "metadata": {},
     "execution_count": 13
    }
   ],
   "source": [
    "o.j"
   ]
  }
 ]
}