{
 "metadata": {
  "language_info": {
   "codemirror_mode": {
    "name": "ipython",
    "version": 3
   },
   "file_extension": ".py",
   "mimetype": "text/x-python",
   "name": "python",
   "nbconvert_exporter": "python",
   "pygments_lexer": "ipython3",
   "version": "3.8.1-final"
  },
  "orig_nbformat": 2,
  "kernelspec": {
   "name": "python38132bitvenvvenv91270e11641b484ca834f7666afa2651",
   "display_name": "Python 3.8.1 32-bit ('venv': venv)",
   "language": "python"
  }
 },
 "nbformat": 4,
 "nbformat_minor": 2,
 "cells": [
  {
   "source": [
    "# MENU\n",
    "Mr. X is learning English and trying to improve his vocabulary. So, he started created his own diary \"myDict\" with one word and its meaning. He was happy to learn new words. But one day, someone asked him synonym of a word, he was able to tell the meaning but not able to tell synonyms. So, he decided to create one more diary \"synonym_dict\" where he started collecting all words with the same meaning and write all words on a single page. But he found it is very tedious task to read and create diary manually. Would you like to help Mr. X to create synonym_dict with a programme. ```[Hint: Use dictionary to create diaries]```. \n",
    "\n",
    "1. Provide solution without recursion\n",
    "2. Provide solution with recursion\n"
   ],
   "cell_type": "markdown",
   "metadata": {}
  },
  {
   "source": [
    "# Functions"
   ],
   "cell_type": "markdown",
   "metadata": {}
  },
  {
   "cell_type": "code",
   "execution_count": 1,
   "metadata": {},
   "outputs": [],
   "source": [
    "myDict = {\n",
    "    \"ab\" : \"xa\",\n",
    "    \"bb\" : \"xa\",\n",
    "    \"cb\" : \"xa\",\n",
    "    \"db\" : \"ya\",\n",
    "    \"eb\" : \"ya\",\n",
    "}"
   ]
  },
  {
   "cell_type": "code",
   "execution_count": 7,
   "metadata": {},
   "outputs": [],
   "source": [
    "def create_synonym_dict_iterative(myDict):\n",
    "    '''\n",
    "    Returns a synonyms dictionary with meaning as key and same meaning words as value\n",
    "    \n",
    "    parameters:\n",
    "        myDict: <dict> required, The dictionary in from which you want to retrieve synonyms\n",
    "    '''\n",
    "    synonym_dict = dict()                   # Dictionary to store the synonyms\n",
    "\n",
    "    for key,value in myDict.items():        # iterating on myDict\n",
    "        if value not in synonym_dict:       # if this word is with a new meaning that's not in synonym dictionary\n",
    "            synonym_dict[value] = [key] # create a new key value pair for new meaning word\n",
    "        else:\n",
    "            synonym_dict[value] += [key]      # if the meaning exists in synonym_dict append current word in the list\n",
    "    return synonym_dict                     # return synonym dict"
   ]
  },
  {
   "cell_type": "code",
   "execution_count": 9,
   "metadata": {},
   "outputs": [],
   "source": [
    "def create_synonym_dict_recursive(myDict):\n",
    "    '''\n",
    "    Returns a synonyms dictionary with meaning as key and same meaning words as value\n",
    "    \n",
    "    parameters:\n",
    "        myDict: <dict> required, The dictionary in from which you want to retrieve synonyms\n",
    "        NOTE: myDict dictionary will be emptied so pass a copy of the dictionary to keep the values intact.\n",
    "    '''\n",
    "    if not len(myDict):                             # terminating condition\n",
    "        return dict()                               # returning an empty dictionary\n",
    "    else:\n",
    "        item = myDict.popitem()                     # popping out last entered item form dictionary\n",
    "        synonym_dict = create_synonym_dict_recursive(myDict)  # recursive call with one less element each time, the function is returning synonym dictionary\n",
    "        if item[1] not in synonym_dict:             # if this word is with a new meaning that's not in synonym dictionary\n",
    "            synonym_dict[item[1]] = [item[0]]   # create a new key value pair for new meaning word\n",
    "        else:\n",
    "            synonym_dict[item[1]] += [item[0]]        # if the meaning exists in synonym_dict append current word in the list\n",
    "    return synonym_dict                             # return synonym dict"
   ]
  },
  {
   "source": [
    "# RUN"
   ],
   "cell_type": "markdown",
   "metadata": {}
  },
  {
   "cell_type": "code",
   "execution_count": 8,
   "metadata": {},
   "outputs": [
    {
     "output_type": "execute_result",
     "data": {
      "text/plain": [
       "{'xa': ['ab', 'bb', 'cb'], 'ya': ['db', 'eb']}"
      ]
     },
     "metadata": {},
     "execution_count": 8
    }
   ],
   "source": [
    "create_synonym_dict_iterative(myDict.copy())"
   ]
  },
  {
   "cell_type": "code",
   "execution_count": 10,
   "metadata": {},
   "outputs": [
    {
     "output_type": "execute_result",
     "data": {
      "text/plain": [
       "{'xa': ['ab', 'bb', 'cb'], 'ya': ['db', 'eb']}"
      ]
     },
     "metadata": {},
     "execution_count": 10
    }
   ],
   "source": [
    "create_synonym_dict_recursive(myDict.copy())"
   ]
  }
 ]
}