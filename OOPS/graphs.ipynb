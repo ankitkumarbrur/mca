{
 "metadata": {
  "language_info": {
   "codemirror_mode": {
    "name": "ipython",
    "version": 3
   },
   "file_extension": ".py",
   "mimetype": "text/x-python",
   "name": "python",
   "nbconvert_exporter": "python",
   "pygments_lexer": "ipython3",
   "version": "3.9.2-final"
  },
  "orig_nbformat": 2,
  "kernelspec": {
   "name": "python3",
   "display_name": "Python 3.9.2 64-bit",
   "metadata": {
    "interpreter": {
     "hash": "9552b8190f63102abce783a036fdab59c8fbd44b305ff071c472b263e7af8b3a"
    }
   }
  }
 },
 "nbformat": 4,
 "nbformat_minor": 2,
 "cells": [
  {
   "cell_type": "code",
   "execution_count": 51,
   "metadata": {},
   "outputs": [],
   "source": [
    "import matplotlib.pyplot as plt"
   ]
  },
  {
   "cell_type": "code",
   "execution_count": null,
   "metadata": {},
   "outputs": [],
   "source": [
    "# student = {\n",
    "#     \"Names\" : ['Nidhi','Saloni','Shradha','Nikita','Anjali','Bhagesh','Varun','Arpita','Ankit'],\n",
    "#     \"English\" : [100, 98, 80, 87, 93, 95, 97, 89, 99],\n",
    "#     \"Maths\": [91, 81, 98, 94, 91, 80, 95, 81, 94],\n",
    "#     \"Science\": [81, 93, 81, 92, 84, 81, 85, 97, 86]\n",
    "# }"
   ]
  },
  {
   "cell_type": "code",
   "execution_count": null,
   "metadata": {},
   "outputs": [],
   "source": [
    "def newStudent(my_dict):\n",
    "    '''\n",
    "    Inserts A new student in the dictionary\n",
    "\n",
    "    Attributes:\n",
    "    ----------\n",
    "        my_dict: Dictionary in which new student will be insesrted\n",
    "    '''\n",
    "    name = input(\"Enter Student Name\")\n",
    "    my_dict[\"Names\"].append(name)\n",
    "    subs = list(my_dict.keys())\n",
    "    subs.remove(\"Names\")\n",
    "    for i in subs:\n",
    "        my_dict[i].append(float(input(f\"Enter {i} marks for {name}: \")))"
   ]
  },
  {
   "cell_type": "code",
   "execution_count": 123,
   "metadata": {},
   "outputs": [],
   "source": [
    "def stuBarPlot(my_dict):\n",
    "    '''\n",
    "    Prints a bar plot for a particular student\n",
    "\n",
    "    Attributes:\n",
    "    ----------\n",
    "        my_dict: Dictionary in which Students infromations are stored\n",
    "    '''\n",
    "    name = input(\"Enter Name of the student you want to see\")\n",
    "    ind = my_dict[\"Names\"].index(name)\n",
    "    subs = list(my_dict.keys())\n",
    "    subs.remove(\"Names\")\n",
    "    plt.bar(subs,list(my_dict[i][ind] for i in subs),width=0.3)\n",
    "    plt.title(f\"Bar plot for {name}\")\n",
    "    plt.show()"
   ]
  },
  {
   "cell_type": "code",
   "execution_count": 70,
   "metadata": {},
   "outputs": [],
   "source": [
    "def subBarPlot(my_dict):\n",
    "    '''\n",
    "    Prints a bar plot for a particular subject\n",
    "\n",
    "    Attributes:\n",
    "    ----------\n",
    "        my_dict: Dictionary in which Students infromations are stored\n",
    "    '''\n",
    "    subj = input(\"Enter Name of the subject\")\n",
    "    names = my_dict[\"Names\"]\n",
    "    fig = plt.figure(figsize = (10, 6))\n",
    "    plt.bar(names,my_dict[subj],width=0.3)\n",
    "    plt.title(f\"Bar plot for {subj}\")\n",
    "    plt.show()"
   ]
  },
  {
   "cell_type": "code",
   "execution_count": 76,
   "metadata": {},
   "outputs": [],
   "source": [
    "def subHistoPlot(my_dict):\n",
    "    '''\n",
    "    Prints a histogram plot for a particular subject\n",
    "\n",
    "    Attributes:\n",
    "    ----------\n",
    "        my_dict: Dictionary in which Students infromations are stored\n",
    "    '''\n",
    "    subj = input(\"Enter Name of the subject\")\n",
    "    fig = plt.figure(figsize = (10, 6))\n",
    "    plt.hist(my_dict[subj])\n",
    "    plt.title(f\"Histogram plot for {subj}\")\n",
    "    plt.show()"
   ]
  },
  {
   "cell_type": "code",
   "execution_count": 84,
   "metadata": {},
   "outputs": [],
   "source": [
    "def stuHistoPlot(my_dict):\n",
    "    '''\n",
    "    Prints a histogram plot for a particular student\n",
    "\n",
    "    Attributes:\n",
    "    ----------\n",
    "        my_dict: Dictionary in which Students infromations are stored\n",
    "    '''\n",
    "    name = input(\"Enter Name of the Student\")\n",
    "    ind = my_dict[\"Names\"].index(name)\n",
    "    subs = list(my_dict.keys())\n",
    "    subs.remove(\"Names\")\n",
    "    fig = plt.figure(figsize = (10, 6))\n",
    "    plt.hist(list(my_dict[i][ind] for i in subs))\n",
    "    plt.title(f\"Histogram plot for {name}\")\n",
    "    plt.show()"
   ]
  },
  {
   "cell_type": "code",
   "execution_count": 125,
   "metadata": {},
   "outputs": [],
   "source": [
    "def stuPiePlot(my_dict):\n",
    "    '''\n",
    "    Prints a pie plot for a particular student\n",
    "\n",
    "    Attributes:\n",
    "    ----------\n",
    "        my_dict: Dictionary in which Students infromations are stored\n",
    "    '''\n",
    "    name = input(\"Enter Name of the student\")\n",
    "    ind = my_dict[\"Names\"].index(name)\n",
    "    subs = list(my_dict.keys())\n",
    "    subs.remove(\"Names\")\n",
    "    explode = tuple(0.025*int(i+1) for i in range(len(subs)))\n",
    "    plt.pie(list(my_dict[i][ind] for i in subs), labels = subs, explode = explode, shadow = True)\n",
    "    plt.title(f\"Bar plot for {name}\")\n",
    "    plt.show()\n"
   ]
  },
  {
   "source": [
    "# RUN"
   ],
   "cell_type": "markdown",
   "metadata": {}
  },
  {
   "cell_type": "code",
   "execution_count": 118,
   "metadata": {},
   "outputs": [],
   "source": [
    "# Must run this cell to tell the program the subjects and create a container for the students records\n",
    "subjects = input(\"Enter Subjects List (space seprated)\").strip().split()\n",
    "students_dict = dict((i,list()) for i in [\"Names\"]+subjects)"
   ]
  },
  {
   "cell_type": "code",
   "execution_count": null,
   "metadata": {},
   "outputs": [],
   "source": [
    "# Menu driven program for the Plotting different graphs\n",
    "print(\"\"\"\n",
    "MENU\n",
    "\n",
    "1. New student.\n",
    "2. View a student's performance (Bar Plot)\n",
    "3. View a student's performance (Histogram Plot)\n",
    "4. View a student's performance (Pie Plot)\n",
    "5. View class performance in a subject (Bar Plot)\n",
    "6. View class performance in a subject (Histogram)\n",
    "0. Exit\n",
    "\"\"\")\n",
    "fun_dict = {\n",
    "    1: newStudent\n",
    "    2: stuBarPlot\n",
    "    3: stuHistoPlot\n",
    "    4: stuPiePlot\n",
    "    5: subBarPlot\n",
    "    6: subHistoPlot\n",
    "}\n",
    "n = int(input(\"Enter Choice\"))\n",
    "while(n!=0):\n",
    "    fun_dict[n](my_dict)\n",
    "    n = int(input(\"Enter Choice\"))"
   ]
  }
 ]
}