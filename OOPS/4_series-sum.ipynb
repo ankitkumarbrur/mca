{
 "metadata": {
  "language_info": {
   "codemirror_mode": {
    "name": "ipython",
    "version": 3
   },
   "file_extension": ".py",
   "mimetype": "text/x-python",
   "name": "python",
   "nbconvert_exporter": "python",
   "pygments_lexer": "ipython3",
   "version": "3.8.1-final"
  },
  "orig_nbformat": 2,
  "kernelspec": {
   "name": "python38132bit0f81a3e8780841afb635aac217ffc56d",
   "display_name": "Python 3.8.1 32-bit",
   "language": "python"
  }
 },
 "nbformat": 4,
 "nbformat_minor": 2,
 "cells": [
  {
   "source": [
    "# Find the sum of n terms of the following series\n",
    "# 1. $  1 - \\frac{x^{2}}{2!} + \\frac{x^{4}}{4!} - \\frac{x^{6}}{6!} + ... \\frac{x^{n}}{n!} $\n",
    "# 2. $  e^{x} = 1 + \\frac{x}{1!} + \\frac{x^{2}}{2!} + \\frac{x^{3}}{3!} + ... $"
   ],
   "cell_type": "markdown",
   "metadata": {}
  },
  {
   "cell_type": "code",
   "execution_count": 1,
   "metadata": {},
   "outputs": [],
   "source": [
    "from math import factorial  # importing factorial function from math library"
   ]
  },
  {
   "cell_type": "code",
   "execution_count": 2,
   "metadata": {},
   "outputs": [],
   "source": [
    "def series_1(x,n):          # defining function for 1st series defined above in markdown\n",
    "    '''\n",
    "    Parameters:\n",
    "    x:  <int|float>, required\n",
    "\n",
    "    n:  <int>, required\n",
    "\n",
    "    Returns:\n",
    "        <int|float> output of the series 1 for entered x and n\n",
    "    '''    \n",
    "    series_sum = 0              # initialise starting sum as 0\n",
    "    for i in range(1,n+1):      # looping from 1 to n\n",
    "        series_sum += (-1)**(i+1) * x**((i-1)*2)/factorial((i-1)*2) # expression evaluating current term of series\n",
    "    return series_sum           # returning series sum"
   ]
  },
  {
   "cell_type": "code",
   "execution_count": 3,
   "metadata": {},
   "outputs": [],
   "source": [
    "def series_2(x,n):      # defining function for 2nd series defined above in markdown\n",
    "    '''\n",
    "    Parameters:\n",
    "    x:  <int|float>, required\n",
    "\n",
    "    n:  <int>, required\n",
    "\n",
    "    Returns:\n",
    "        <int|float> output of the series 2 for entered x and n\n",
    "    '''        \n",
    "    series_sum = 0                      # initialise starting sum as 0\n",
    "    for i in range(n):                  # looping from 1 to n\n",
    "        series_sum += x**i/factorial(i) # expression evaluating current term of series\n",
    "    return series_sum                   # returning series sum"
   ]
  },
  {
   "source": [
    "# RUN"
   ],
   "cell_type": "markdown",
   "metadata": {}
  },
  {
   "cell_type": "code",
   "execution_count": 4,
   "metadata": {},
   "outputs": [],
   "source": [
    "x = int(input(\"Enter x:\"))\n",
    "n = int(input(\"Enter n:\"))"
   ]
  },
  {
   "cell_type": "code",
   "execution_count": 5,
   "metadata": {},
   "outputs": [
    {
     "output_type": "execute_result",
     "data": {
      "text/plain": [
       "-0.33333333333333337"
      ]
     },
     "metadata": {},
     "execution_count": 5
    }
   ],
   "source": [
    "series_1(x,n) # calling series_1 function with entered x and n for calculating series 1 sum"
   ]
  },
  {
   "cell_type": "code",
   "execution_count": 6,
   "metadata": {},
   "outputs": [
    {
     "output_type": "execute_result",
     "data": {
      "text/plain": [
       "5.0"
      ]
     },
     "metadata": {},
     "execution_count": 6
    }
   ],
   "source": [
    "series_2(x,n) # calling series_2 function with entered x and n for calculating series 1 sum"
   ]
  }
 ]
}