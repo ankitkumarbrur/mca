{
 "metadata": {
  "language_info": {
   "codemirror_mode": {
    "name": "ipython",
    "version": 3
   },
   "file_extension": ".py",
   "mimetype": "text/x-python",
   "name": "python",
   "nbconvert_exporter": "python",
   "pygments_lexer": "ipython3",
   "version": "3.8.1-final"
  },
  "orig_nbformat": 2,
  "kernelspec": {
   "name": "python3",
   "display_name": "Python 3",
   "language": "python"
  }
 },
 "nbformat": 4,
 "nbformat_minor": 2,
 "cells": [
  {
   "source": [
    "# MENU"
   ],
   "cell_type": "markdown",
   "metadata": {}
  },
  {
   "source": [
    "Create a class Stack, to hold records of Student class, having following methods:\n",
    "\n",
    "1. To push an element on the top of the stack\n",
    "2. Pop element and display the popped element\n",
    "3. Peek the top element of the stack \n",
    "4. Total elements in the stack\n",
    "\n",
    "Note:\n",
    "\n",
    "1. Push is possible only when stack is not full\n",
    "2. Pop operation can be performed when stack is not empty "
   ],
   "cell_type": "markdown",
   "metadata": {}
  },
  {
   "source": [
    "# CLASS DEFINITION"
   ],
   "cell_type": "markdown",
   "metadata": {}
  },
  {
   "cell_type": "code",
   "execution_count": 5,
   "metadata": {},
   "outputs": [],
   "source": [
    "class Stack:\n",
    "    '''\n",
    "    Stack class\n",
    "\n",
    "    Attributes:\n",
    "    -----------\n",
    "    __stack_list: List container to store stack elements, Private Attribute.\n",
    "    __size: size of the stack, Private Attribute.\n",
    "\n",
    "    Methods:\n",
    "    --------\n",
    "    push: Pushes an item on the top of the stack\n",
    "    pop: Pops the item from the top of the stack\n",
    "    peek: Returns the item from the top of the stack\n",
    "    '''\n",
    "    def __init__(self,n):\n",
    "        '''\n",
    "        Constructor for the Stack class.\n",
    "\n",
    "        Attributes:\n",
    "        ----------\n",
    "        n <int> : size of the stack.\n",
    "        '''\n",
    "        self.__stack_list = []\n",
    "        self.__size = n\n",
    "\n",
    "    def __len__(self):\n",
    "        '''\n",
    "        Returns the length of the stack.\n",
    "        '''\n",
    "        return len(self.__stack_list)\n",
    "\n",
    "    def __str__(self):\n",
    "        '''\n",
    "        Returns the string representation of the stack.\n",
    "        '''\n",
    "        return f\"{self.__stack_list} ,current length of stack is {len(self)} and size of the stack {self.__size}\"\n",
    "    \n",
    "    def push(self,ele):\n",
    "        '''\n",
    "        Pushes an element on the top of the stack.\n",
    "        Raises an OverflowError if the stack is full.\n",
    "\n",
    "        Attributes:\n",
    "        ----------\n",
    "        ele : Element to be pushed on the top of the stack\n",
    "        '''\n",
    "        if len(self) >= self.__size:\n",
    "            raise TypeError(\"Overflow Error: Stack is Full, can't push\")\n",
    "\n",
    "        self.__stack_list.append(ele)\n",
    "\n",
    "    def pop(self):\n",
    "        '''\n",
    "        Pops an element from the top of the stack.\n",
    "        Raises an UnderflowError if the stack is empty.\n",
    "        '''\n",
    "        if not len(self):\n",
    "            raise TypeError(\"Underflow Error: Stack is empty, can't pop\")\n",
    "\n",
    "        return self.__stack_list.pop()\n",
    "\n",
    "    def peek(self):\n",
    "        '''\n",
    "        Returns an element from the top of the stack.\n",
    "        Raises an UnderflowError if the stack is empty.\n",
    "        '''\n",
    "        if not len(self):\n",
    "            raise TypeError(\"Underflow Error: Stack is empty\")\n",
    " \n",
    "        return self.__stack_list[-1]"
   ]
  },
  {
   "source": [
    "# RUN"
   ],
   "cell_type": "markdown",
   "metadata": {}
  },
  {
   "cell_type": "code",
   "execution_count": 9,
   "metadata": {},
   "outputs": [],
   "source": [
    "my_stack = Stack(3)"
   ]
  },
  {
   "cell_type": "code",
   "execution_count": 10,
   "metadata": {},
   "outputs": [
    {
     "output_type": "error",
     "ename": "TypeError",
     "evalue": "Underflow Error: Stack is empty, can't pop",
     "traceback": [
      "\u001b[1;31m---------------------------------------------------------------------------\u001b[0m",
      "\u001b[1;31mTypeError\u001b[0m                                 Traceback (most recent call last)",
      "\u001b[1;32m<ipython-input-10-30d383cf5cbb>\u001b[0m in \u001b[0;36m<module>\u001b[1;34m\u001b[0m\n\u001b[1;32m----> 1\u001b[1;33m \u001b[0mmy_stack\u001b[0m\u001b[1;33m.\u001b[0m\u001b[0mpop\u001b[0m\u001b[1;33m(\u001b[0m\u001b[1;33m)\u001b[0m\u001b[1;33m\u001b[0m\u001b[1;33m\u001b[0m\u001b[0m\n\u001b[0m",
      "\u001b[1;32m<ipython-input-5-f85e0fe5c71d>\u001b[0m in \u001b[0;36mpop\u001b[1;34m(self)\u001b[0m\n\u001b[0;32m     57\u001b[0m         '''\n\u001b[0;32m     58\u001b[0m         \u001b[1;32mif\u001b[0m \u001b[1;32mnot\u001b[0m \u001b[0mlen\u001b[0m\u001b[1;33m(\u001b[0m\u001b[0mself\u001b[0m\u001b[1;33m)\u001b[0m\u001b[1;33m:\u001b[0m\u001b[1;33m\u001b[0m\u001b[1;33m\u001b[0m\u001b[0m\n\u001b[1;32m---> 59\u001b[1;33m             \u001b[1;32mraise\u001b[0m \u001b[0mTypeError\u001b[0m\u001b[1;33m(\u001b[0m\u001b[1;34m\"Underflow Error: Stack is empty, can't pop\"\u001b[0m\u001b[1;33m)\u001b[0m\u001b[1;33m\u001b[0m\u001b[1;33m\u001b[0m\u001b[0m\n\u001b[0m\u001b[0;32m     60\u001b[0m \u001b[1;33m\u001b[0m\u001b[0m\n\u001b[0;32m     61\u001b[0m         \u001b[1;32mreturn\u001b[0m \u001b[0mself\u001b[0m\u001b[1;33m.\u001b[0m\u001b[0m__stack_list\u001b[0m\u001b[1;33m.\u001b[0m\u001b[0mpop\u001b[0m\u001b[1;33m(\u001b[0m\u001b[1;33m)\u001b[0m\u001b[1;33m\u001b[0m\u001b[1;33m\u001b[0m\u001b[0m\n",
      "\u001b[1;31mTypeError\u001b[0m: Underflow Error: Stack is empty, can't pop"
     ]
    }
   ],
   "source": [
    "my_stack.pop()"
   ]
  },
  {
   "cell_type": "code",
   "execution_count": 11,
   "metadata": {},
   "outputs": [],
   "source": [
    "my_stack.push(3)\n",
    "my_stack.push(2)\n",
    "my_stack.push(1)"
   ]
  },
  {
   "cell_type": "code",
   "execution_count": 12,
   "metadata": {},
   "outputs": [
    {
     "output_type": "stream",
     "name": "stdout",
     "text": [
      "[3, 2, 1] ,current length of stack is 3 and size of the stack 3\n"
     ]
    }
   ],
   "source": [
    "print(my_stack)"
   ]
  },
  {
   "cell_type": "code",
   "execution_count": 13,
   "metadata": {},
   "outputs": [
    {
     "output_type": "execute_result",
     "data": {
      "text/plain": [
       "3"
      ]
     },
     "metadata": {},
     "execution_count": 13
    }
   ],
   "source": [
    "len(my_stack)"
   ]
  },
  {
   "cell_type": "code",
   "execution_count": 14,
   "metadata": {},
   "outputs": [
    {
     "output_type": "error",
     "ename": "TypeError",
     "evalue": "Overflow Error: Stack is Full, can't push",
     "traceback": [
      "\u001b[1;31m---------------------------------------------------------------------------\u001b[0m",
      "\u001b[1;31mTypeError\u001b[0m                                 Traceback (most recent call last)",
      "\u001b[1;32m<ipython-input-14-595b450b3888>\u001b[0m in \u001b[0;36m<module>\u001b[1;34m\u001b[0m\n\u001b[1;32m----> 1\u001b[1;33m \u001b[0mmy_stack\u001b[0m\u001b[1;33m.\u001b[0m\u001b[0mpush\u001b[0m\u001b[1;33m(\u001b[0m\u001b[1;36m0\u001b[0m\u001b[1;33m)\u001b[0m\u001b[1;33m\u001b[0m\u001b[1;33m\u001b[0m\u001b[0m\n\u001b[0m",
      "\u001b[1;32m<ipython-input-5-f85e0fe5c71d>\u001b[0m in \u001b[0;36mpush\u001b[1;34m(self, ele)\u001b[0m\n\u001b[0;32m     47\u001b[0m         '''\n\u001b[0;32m     48\u001b[0m         \u001b[1;32mif\u001b[0m \u001b[0mlen\u001b[0m\u001b[1;33m(\u001b[0m\u001b[0mself\u001b[0m\u001b[1;33m)\u001b[0m \u001b[1;33m>=\u001b[0m \u001b[0mself\u001b[0m\u001b[1;33m.\u001b[0m\u001b[0m__size\u001b[0m\u001b[1;33m:\u001b[0m\u001b[1;33m\u001b[0m\u001b[1;33m\u001b[0m\u001b[0m\n\u001b[1;32m---> 49\u001b[1;33m             \u001b[1;32mraise\u001b[0m \u001b[0mTypeError\u001b[0m\u001b[1;33m(\u001b[0m\u001b[1;34m\"Overflow Error: Stack is Full, can't push\"\u001b[0m\u001b[1;33m)\u001b[0m\u001b[1;33m\u001b[0m\u001b[1;33m\u001b[0m\u001b[0m\n\u001b[0m\u001b[0;32m     50\u001b[0m \u001b[1;33m\u001b[0m\u001b[0m\n\u001b[0;32m     51\u001b[0m         \u001b[0mself\u001b[0m\u001b[1;33m.\u001b[0m\u001b[0m__stack_list\u001b[0m\u001b[1;33m.\u001b[0m\u001b[0mappend\u001b[0m\u001b[1;33m(\u001b[0m\u001b[0mele\u001b[0m\u001b[1;33m)\u001b[0m\u001b[1;33m\u001b[0m\u001b[1;33m\u001b[0m\u001b[0m\n",
      "\u001b[1;31mTypeError\u001b[0m: Overflow Error: Stack is Full, can't push"
     ]
    }
   ],
   "source": [
    "my_stack.push(0)"
   ]
  },
  {
   "cell_type": "code",
   "execution_count": 15,
   "metadata": {},
   "outputs": [
    {
     "output_type": "execute_result",
     "data": {
      "text/plain": [
       "1"
      ]
     },
     "metadata": {},
     "execution_count": 15
    }
   ],
   "source": [
    "my_stack.pop()"
   ]
  }
 ]
}