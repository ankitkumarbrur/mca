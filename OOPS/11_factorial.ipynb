{
 "metadata": {
  "language_info": {
   "codemirror_mode": {
    "name": "ipython",
    "version": 3
   },
   "file_extension": ".py",
   "mimetype": "text/x-python",
   "name": "python",
   "nbconvert_exporter": "python",
   "pygments_lexer": "ipython3",
   "version": "3.8.1-final"
  },
  "orig_nbformat": 2,
  "kernelspec": {
   "name": "python3",
   "display_name": "Python 3",
   "language": "python"
  }
 },
 "nbformat": 4,
 "nbformat_minor": 2,
 "cells": [
  {
   "source": [
    "# MENU\n",
    "Write a programme to find factorial of a number N\n",
    "\n",
    "1. Without recursion\n",
    "2. With Recursion\n",
    "     * print factorial of all number from 1 to N\n",
    "     * print factorial of number from  N to 1"
   ],
   "cell_type": "markdown",
   "metadata": {}
  },
  {
   "source": [
    "# Functions"
   ],
   "cell_type": "markdown",
   "metadata": {}
  },
  {
   "cell_type": "code",
   "execution_count": 1,
   "metadata": {},
   "outputs": [],
   "source": [
    "def factorial_iterative(n):\n",
    "    '''\n",
    "    function to calculate factorial of a number\n",
    "    \n",
    "    parameters:\n",
    "        n: <int> required, the number of of which you want to calculate factorial\n",
    "    '''\n",
    "    if not isinstance(n,int) or n<0: # validating n\n",
    "        raise Exception(\"factorials are only defined for non negative integers\")\n",
    "    factorial_value = 1\n",
    "    for i in range(1,n+1):       # loop for calculating factorial\n",
    "        factorial_value *= i\n",
    "    return factorial_value       # returning factorial value"
   ]
  },
  {
   "cell_type": "code",
   "execution_count": 2,
   "metadata": {},
   "outputs": [],
   "source": [
    "def factorial_recursion(n):\n",
    "    '''\n",
    "    function to calculate factorial of a number\n",
    "    \n",
    "    parameters:\n",
    "        n: <int> required, the number of of which you want to calculate factorial\n",
    "    '''\n",
    "    if not isinstance(n,int) or n<0:    # validating n\n",
    "        raise Exception(\"factorials are only defined for non negative integers\")\n",
    "    elif not n:                    # terminating condition\n",
    "        return 1, [1]               # returning factorial and a list for storing factorial values \n",
    "    else:\n",
    "        factorial_value, factorial_list = factorial_recursion(n-1)  # reccuring call\n",
    "        factorial_value *= n        # calculating current n factorial\n",
    "        factorial_list.append(factorial_value)  # appending current factorial value in list\n",
    "        return factorial_value, factorial_list  # returning factorial and a list for storing factorial values "
   ]
  },
  {
   "source": [
    "# RUN"
   ],
   "cell_type": "markdown",
   "metadata": {}
  },
  {
   "cell_type": "code",
   "execution_count": 3,
   "metadata": {},
   "outputs": [
    {
     "output_type": "stream",
     "name": "stdout",
     "text": [
      "factorial of 7 is 5040\n"
     ]
    }
   ],
   "source": [
    "n = 7\n",
    "print(\"factorial of\",n ,\"is\",factorial_iterative(n))\n"
   ]
  },
  {
   "cell_type": "code",
   "execution_count": 4,
   "metadata": {},
   "outputs": [],
   "source": [
    "factorial_of_n , factorial_list = factorial_recursion(n)"
   ]
  },
  {
   "cell_type": "code",
   "execution_count": 5,
   "metadata": {},
   "outputs": [
    {
     "output_type": "stream",
     "name": "stdout",
     "text": [
      "Ascending order 1 to N\nfactorial of 0 is 1\nfactorial of 1 is 1\nfactorial of 2 is 2\nfactorial of 3 is 6\nfactorial of 4 is 24\nfactorial of 5 is 120\nfactorial of 6 is 720\n"
     ]
    }
   ],
   "source": [
    "print(\"Ascending order 1 to N\")\n",
    "for i in range(n):\n",
    "    print(\"factorial of\",i ,\"is\", factorial_list[i])"
   ]
  },
  {
   "cell_type": "code",
   "execution_count": 6,
   "metadata": {},
   "outputs": [
    {
     "output_type": "stream",
     "name": "stdout",
     "text": [
      "Descending order N to 1\nfactorial of 7 is 5040\nfactorial of 6 is 720\nfactorial of 5 is 120\nfactorial of 4 is 24\nfactorial of 3 is 6\nfactorial of 2 is 2\nfactorial of 1 is 1\nfactorial of 0 is 1\n"
     ]
    }
   ],
   "source": [
    "print(\"Descending order N to 1\")\n",
    "for i in range(n,-1,-1):\n",
    "    print(\"factorial of\",i ,\"is\", factorial_list[i])"
   ]
  }
 ]
}