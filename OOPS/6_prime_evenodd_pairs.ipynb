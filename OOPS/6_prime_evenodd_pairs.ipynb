{
 "metadata": {
  "language_info": {
   "codemirror_mode": {
    "name": "ipython",
    "version": 3
   },
   "file_extension": ".py",
   "mimetype": "text/x-python",
   "name": "python",
   "nbconvert_exporter": "python",
   "pygments_lexer": "ipython3",
   "version": "3.8.1-final"
  },
  "orig_nbformat": 2,
  "kernelspec": {
   "name": "python38132bitvenvvenv91270e11641b484ca834f7666afa2651",
   "display_name": "Python 3.8.1 32-bit ('venv': venv)",
   "language": "python"
  }
 },
 "nbformat": 4,
 "nbformat_minor": 2,
 "cells": [
  {
   "source": [
    "# MENU\n",
    "1. Given a list of 'n' numbers i.e. 1 to n, print prime numbers and total numbers of prime number\n",
    "\n",
    "    e.g. I/p: n = 10\n",
    "\n",
    "    o/p: 2, 3, 5, 7\n",
    "    \n",
    "    Total Prime numbers from 1 to 10 are 4\n",
    "\n",
    "2. Given a list of 'n' numbers i.e. 1 to n, print even and odd numbers.\n",
    " \n",
    "3. Take 'n' numbers from the user and a number 'm'. Find all possible pairs of numbers form inputted 'n' numbers that sum up to m\n",
    "\n",
    "    e.g. I/p: n = 5\n",
    "\n",
    "    5 Numbers are: 10, 30, 8, 23, 1\n",
    "\n",
    "    m = 31\n",
    "\n",
    "    o/p: ```[30, 1]``` and ```[8, 23]```"
   ],
   "cell_type": "markdown",
   "metadata": {}
  },
  {
   "source": [
    "# Functions"
   ],
   "cell_type": "markdown",
   "metadata": {}
  },
  {
   "source": [
    "## 1. Prime Numbers"
   ],
   "cell_type": "markdown",
   "metadata": {}
  },
  {
   "cell_type": "code",
   "execution_count": 1,
   "metadata": {},
   "outputs": [],
   "source": [
    "from math import sqrt   # importing square root function from math library\n",
    "def isPrime(num):\n",
    "    '''\n",
    "    Check if the number is prime or not.\n",
    "\n",
    "    Parameters:\n",
    "    num:    <int>, required\n",
    "            number you want to check prime or not\n",
    "\n",
    "    Returns:\n",
    "        <bool> returns if number is prime or not\n",
    "    '''\n",
    "    if not isinstance(num,int) :    # check if passed number is integer\n",
    "        raise Exception(\"Enter only integer values\")\n",
    "\n",
    "    is_prime = True                 # initialising the is_prime flag as True\n",
    "    if num <= 1:                    # if number is less than or equal to 1\n",
    "        is_prime = False            \n",
    "    elif num <= 3:                  # if number is 2 or 3\n",
    "        is_prime = True\n",
    "    elif (num % 2 == 0 or num % 3 == 0):    # checking if number is divided by 2 or 3 so that we can skip middle numbers later on \n",
    "        is_prime = False\n",
    "    for i in range(5, int(sqrt(num)) + 1, 6):   # starting from 5 upto square root of passed number becuase no number is divisible by any number greater then its squareroot check if number is divisible and using step as 6 because we don't need to check numbers divisible from 2, 3 ,4, 5, 6 as we have already checked\n",
    "        if (num % i == 0 or num % (i + 2) == 0): # checking if number is divisible by 5, 11, 17... and 7, 13, 19...\n",
    "            is_prime = False\n",
    "            break\n",
    "    return is_prime             # returning the flag"
   ]
  },
  {
   "cell_type": "code",
   "execution_count": 2,
   "metadata": {},
   "outputs": [],
   "source": [
    "def printPrime(n):\n",
    "    '''\n",
    "    Prints prime numbers starting from 1 to n.\n",
    "\n",
    "    Parameters:\n",
    "    n:  <int>, required\n",
    "\n",
    "    Returns:\n",
    "        none\n",
    "    '''\n",
    "    if not isinstance(n,int) :      # check if entered number is integer\n",
    "        raise Exception(\"Enter only integer values\")\n",
    "\n",
    "    total = 0;                      # container for total prime number count\n",
    "    for i in range(n):              # loop starting from 0 to n \n",
    "        if isPrime(i):              # checking if current number is prime\n",
    "            total+=1                # increment total prime if current number is prime\n",
    "            print(i,end=\" \")        # prints current number if it is is prime\n",
    "    print(\"\\n\\nThere are total\",total,\"prime numbers from 1 to\",n)  "
   ]
  },
  {
   "cell_type": "code",
   "execution_count": 3,
   "metadata": {},
   "outputs": [
    {
     "output_type": "stream",
     "name": "stdout",
     "text": [
      "2 3 5 7 11 13 17 19 23 29 31 37 41 43 47 53 59 61 67 71 73 79 83 89 97 \n\nThere are total 25 prime numbers from 1 to 100\n"
     ]
    }
   ],
   "source": [
    "printPrime(100)"
   ]
  },
  {
   "source": [
    "## 2. Print Even Odd"
   ],
   "cell_type": "markdown",
   "metadata": {}
  },
  {
   "cell_type": "code",
   "execution_count": 4,
   "metadata": {},
   "outputs": [],
   "source": [
    "def print_even_odd(n):\n",
    "    \"\"\"\n",
    "    Prints Odd and Even Numbers from 1 to n\n",
    "    \n",
    "    Parameters:\n",
    "    n:  <int>, required\n",
    "\n",
    "    Returns:\n",
    "        none\n",
    "    \"\"\"\n",
    "    if not isinstance(n,int) :      # checking if passed number is integer\n",
    "        raise Exception(\"Enter only integer values\")\n",
    "\n",
    "    print(\"Odd numbers    : \", end = \" \")   \n",
    "    for i in range(1,n,2):          # loop for printing odd numbers\n",
    "            print(i, end= \" \")\n",
    "            \n",
    "    print(\"\\nEven numbers   : \", end = \" \")\n",
    "    for i in range(2,n+1,2):         # loop for printing even numbers\n",
    "            print(i, end= \" \")"
   ]
  },
  {
   "cell_type": "code",
   "execution_count": 5,
   "metadata": {},
   "outputs": [
    {
     "output_type": "stream",
     "name": "stdout",
     "text": [
      "Odd numbers    :  1 3 5 7 9 11 13 15 17 19 \nEven numbers   :  2 4 6 8 10 12 14 16 18 20 "
     ]
    }
   ],
   "source": [
    "print_even_odd(20)"
   ]
  },
  {
   "source": [
    "## 3. Find Pairs that adds upto an entered value"
   ],
   "cell_type": "markdown",
   "metadata": {}
  },
  {
   "cell_type": "code",
   "execution_count": 6,
   "metadata": {},
   "outputs": [],
   "source": [
    "def find_pairs(list,m):\n",
    "    \"\"\"\n",
    "    Find pairs that add up to a number in a list\n",
    "    \n",
    "    Parameters:\n",
    "    list:   <int>, required\n",
    "            list in which you want to find pairs\n",
    "    m:      <int>, required\n",
    "            sum for which you want to find pairs\n",
    "\n",
    "\n",
    "    Returns:\n",
    "        <list> A list of pairs adding upto m\n",
    "    \"\"\"\n",
    "    list.sort()     # sorting the epassed list\n",
    "    list_up = [list[x] for x in range(len(list)) if list[x] <= m-list[0]]   # removing the elements greater than the m minus smallest number from the list because they will never form a pair adding upto m\n",
    "    pairs = []      # container list for the pairs\n",
    "\n",
    "    for i in range(len(list_up)):   # looping through updated list \n",
    "        pairs += [ [list_up[i], list_up[j]] for j in range(i+1,len(list_up)) if list_up[i] + list_up[j] == m]   # using list comprehension to find pairs adding upto m and appending them to the pairs lisr\n",
    "\n",
    "    return pairs    # returning nested pairs list"
   ]
  },
  {
   "source": [
    "# RUN"
   ],
   "cell_type": "markdown",
   "metadata": {}
  },
  {
   "cell_type": "code",
   "execution_count": 7,
   "metadata": {},
   "outputs": [
    {
     "output_type": "stream",
     "name": "stdout",
     "text": [
      "Prime Numbers from 1 upto 100 :\n\n2 3 5 7 11 13 17 19 23 29 31 37 41 43 47 53 59 61 67 71 73 79 83 89 97 \n\nThere are total 25 prime numbers from 1 to 100\n\nEven and Odd Numbers from 1 upto 100 :\nOdd numbers    :  1 3 5 7 9 11 13 15 17 19 21 23 25 27 29 31 33 35 37 39 41 43 45 47 49 51 53 55 57 59 61 63 65 67 69 71 73 75 77 79 81 83 85 87 89 91 93 95 97 99 \nEven numbers   :  2 4 6 8 10 12 14 16 18 20 22 24 26 28 30 32 34 36 38 40 42 44 46 48 50 52 54 56 58 60 62 64 66 68 70 72 74 76 78 80 82 84 86 88 90 92 94 96 98 100 "
     ]
    }
   ],
   "source": [
    "# Prints prime and odd even numbers upto entered number\n",
    "x = int(input(\"Enter n: \")) # input n from user to print prime, odd and even numbers upto n\n",
    "print(\"Prime Numbers from 1 upto\",x,\":\\n\")\n",
    "printPrime(x)       # calling printPrime function to print prime numbers upto n\n",
    "print(\"\\nEven and Odd Numbers from 1 upto\",x,\":\")\n",
    "print_even_odd(x)   # calling print_even_odd function to print even and odd numbers upto n"
   ]
  },
  {
   "cell_type": "code",
   "execution_count": 8,
   "metadata": {},
   "outputs": [
    {
     "output_type": "stream",
     "name": "stdout",
     "text": [
      "The pairs that adds up to 7 in the given list are [[1, 6], [2, 5], [3, 4]]\n"
     ]
    }
   ],
   "source": [
    "# Finds the pairs in a list that adds up to a number\n",
    "x = input(\"Enter n numbers (Delimiter '\\b') :\") # taking a list input from user as a string in which elements are distinguished by a blank space for the easiness of the user\n",
    "m = int(input(\"Enter m: \")) # taking input m\n",
    "\n",
    "l = [int(i) for i in x.strip().split(' ')]  # creating list from entered string using list comprehension \n",
    "\n",
    "print(\"The pairs that adds up to\",m ,\"in the given list are\",find_pairs(l,m))"
   ]
  }
 ]
}