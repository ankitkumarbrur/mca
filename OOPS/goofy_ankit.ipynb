{
 "metadata": {
  "language_info": {
   "codemirror_mode": {
    "name": "ipython",
    "version": 3
   },
   "file_extension": ".py",
   "mimetype": "text/x-python",
   "name": "python",
   "nbconvert_exporter": "python",
   "pygments_lexer": "ipython3",
   "version": "3.8.1-final"
  },
  "orig_nbformat": 2,
  "kernelspec": {
   "name": "python38132bitvenvvenv91270e11641b484ca834f7666afa2651",
   "display_name": "Python 3.8.1 32-bit ('venv': venv)",
   "language": "python"
  }
 },
 "nbformat": 4,
 "nbformat_minor": 2,
 "cells": [
  {
   "source": [
    "# MENU\n",
    "Today Ms. GOOFY has to send a message to her friend but in a secure manner. She designed her own way of encoding and decoding messaging. \n",
    "\n",
    "For encoding, she assumed the following:\n",
    "\n",
    "Given any number, she returns the corresponding text in words but in reverse order.\n",
    "\n",
    "If it is a character, then take its ASCII value and reversed it.\n",
    "\n",
    "Also, inserted a space between each encoded o/p.\n",
    "\n",
    "For any special character, take it as it is\n",
    "\n",
    "```e.g. if input is : 3AD$2a```\n",
    "\n",
    "```output:  eerht 56  86 $ owt 79```\n",
    "\n",
    "For decoding, the reverse of above is conducted.\n",
    "\n",
    "```e.g. if input is : eerht 56  86 $ owt 79```\n",
    "\n",
    "```output: 3AD$2a```\n",
    "\n",
    "You have to help Ms Goofy to design a program for the same. "
   ],
   "cell_type": "markdown",
   "metadata": {}
  },
  {
   "source": [
    "# Functions"
   ],
   "cell_type": "markdown",
   "metadata": {}
  },
  {
   "cell_type": "code",
   "execution_count": 2,
   "metadata": {},
   "outputs": [],
   "source": [
    "def dig_str(num):\n",
    "    '''\n",
    "    returns reversed word for a number\n",
    "    '''\n",
    "    num_arr = [\"orez\", \"eno\", \"owt\", \"eerht\", \"rouf\", \"evif\", \"xis\", \"neves\", \"thgie\", \"enin\"] # List with reverse of words for each number fromm 0-9\n",
    "    if not isinstance(num,int): # if passed argument is not int convert it to integer\n",
    "        num = int(num)\n",
    "    return num_arr[num] # return the reversed word for a number"
   ]
  },
  {
   "cell_type": "code",
   "execution_count": 41,
   "metadata": {},
   "outputs": [],
   "source": [
    "def str_dig(string):\n",
    "    '''\n",
    "    returns number for a reversed word of number\n",
    "    '''\n",
    "    num_arr = [\"orez\", \"eno\", \"owt\", \"eerht\", \"rouf\", \"evif\", \"xis\", \"neves\", \"thgie\", \"enin\"] # List with reverse of words for each number fromm 0-9\n",
    "    if string not in str_dig:\n",
    "        raise Exception(\"String is already Decoded\")\n",
    "    return str(num_arr.index(string)) # return the index for the reversed word"
   ]
  },
  {
   "cell_type": "code",
   "execution_count": 4,
   "metadata": {},
   "outputs": [],
   "source": [
    "def reverse_integer(num):\n",
    "    '''\n",
    "    returns reversed integer\n",
    "    '''\n",
    "    return str(num)[::-1] # return reverse of a number"
   ]
  },
  {
   "cell_type": "code",
   "execution_count": 5,
   "metadata": {},
   "outputs": [],
   "source": [
    "def encode(string):\n",
    "    '''\n",
    "    function for encoding the string based on the given encoding scheme.\n",
    "    '''\n",
    "    encoded_string = ''\n",
    "    for i in string: # traversing on each character of string for encoding it\n",
    "        if i.isdigit(): # if current character is digit\n",
    "            encoded_string += dig_str(i)+ ' '# calling digit to string conversion function for current digit\n",
    "        elif i.isalpha() or i is ' ': # if current character is a alphabet or space\n",
    "            encoded_string += reverse_integer(ord(i))+ ' ' # calling reverse number function with the ascii value of this alphabet\n",
    "        else:\n",
    "            encoded_string += i + ' ' # printing remaining special characters as it is\n",
    "    return encoded_string[:-1]"
   ]
  },
  {
   "cell_type": "code",
   "execution_count": 6,
   "metadata": {},
   "outputs": [],
   "source": [
    "def decode(string):\n",
    "    '''\n",
    "    function for decoding the string based on the given encoding scheme.\n",
    "    '''\n",
    "    decoded_string = ''\n",
    "    for i in string.strip().split(' '): # splitting the inputted string\n",
    "        if i.isdigit(): # if current word is digit\n",
    "            decoded_string += chr(int(reverse_integer(i)))# reverse the number and get the ascii character for it\n",
    "        elif i.isalnum(): # if current word is alphabet\n",
    "            decoded_string += str_dig(i)# convert the string to digit\n",
    "        else:\n",
    "            decoded_string += i # printing remaining special characters as it is\n",
    "    return decoded_string"
   ]
  },
  {
   "source": [
    "# RUN"
   ],
   "cell_type": "markdown",
   "metadata": {}
  },
  {
   "source": [
    "## using input"
   ],
   "cell_type": "markdown",
   "metadata": {}
  },
  {
   "source": [
    "### encode"
   ],
   "cell_type": "markdown",
   "metadata": {}
  },
  {
   "cell_type": "code",
   "execution_count": 18,
   "metadata": {},
   "outputs": [
    {
     "output_type": "stream",
     "name": "stdout",
     "text": [
      "Encoded String is : \n"
     ]
    }
   ],
   "source": [
    "input_str = input(\"Enter a string for encoding\")    # input string for encoding\n",
    "print(\"Encoded String is :\",encode(input_str))      # calling the function for encoding"
   ]
  },
  {
   "source": [
    "### decode"
   ],
   "cell_type": "markdown",
   "metadata": {}
  },
  {
   "cell_type": "code",
   "execution_count": 8,
   "metadata": {},
   "outputs": [
    {
     "output_type": "stream",
     "name": "stdout",
     "text": [
      "decoded String is : AD$2a\n"
     ]
    }
   ],
   "source": [
    "input_str = input(\"Enter a string for decoding\")    # input string for decoding\n",
    "print(\"decoded String is :\",decode(input_str))      # calling the function for dencoding"
   ]
  },
  {
   "source": [
    "## using files"
   ],
   "cell_type": "markdown",
   "metadata": {}
  },
  {
   "source": [
    "### encode"
   ],
   "cell_type": "markdown",
   "metadata": {}
  },
  {
   "cell_type": "code",
   "execution_count": 44,
   "metadata": {},
   "outputs": [],
   "source": [
    "decoded_file = open(\"decoded\")\n",
    "encoded_file = open(\"encoded\",'w')\n",
    "encoded_file.write(encode(decoded_file.read()))\n",
    "encoded_file.close()\n",
    "decoded_file.close()"
   ]
  },
  {
   "source": [
    "### decode"
   ],
   "cell_type": "markdown",
   "metadata": {}
  },
  {
   "cell_type": "code",
   "execution_count": 45,
   "metadata": {},
   "outputs": [],
   "source": [
    "encoded_file = open(\"encoded\")\n",
    "decoded_file = open(\"decoded\",'w')\n",
    "decoded_file.write(decode(encoded_file.read()))\n",
    "encoded_file.close()\n",
    "decoded_file.close()"
   ]
  }
 ]
}