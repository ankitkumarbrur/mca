{
 "metadata": {
  "language_info": {
   "codemirror_mode": {
    "name": "ipython",
    "version": 3
   },
   "file_extension": ".py",
   "mimetype": "text/x-python",
   "name": "python",
   "nbconvert_exporter": "python",
   "pygments_lexer": "ipython3",
   "version": "3.9.2-final"
  },
  "orig_nbformat": 2,
  "kernelspec": {
   "name": "python3",
   "display_name": "Python 3.9.2 64-bit",
   "metadata": {
    "interpreter": {
     "hash": "9552b8190f63102abce783a036fdab59c8fbd44b305ff071c472b263e7af8b3a"
    }
   }
  }
 },
 "nbformat": 4,
 "nbformat_minor": 2,
 "cells": [
  {
   "source": [
    "# Patterns"
   ],
   "cell_type": "markdown",
   "metadata": {}
  },
  {
   "cell_type": "code",
   "execution_count": 1,
   "metadata": {},
   "outputs": [],
   "source": [
    "m = int(input(\"Enter n:\")) # taking input from user for number of rows"
   ]
  },
  {
   "cell_type": "code",
   "execution_count": 2,
   "metadata": {},
   "outputs": [
    {
     "output_type": "stream",
     "name": "stdout",
     "text": [
      "\n1 \n1 2 \n1 2 3 \n1 2 3 4 \n1 2 3 4 5 \n"
     ]
    }
   ],
   "source": [
    "def pattern_a(n):\n",
    "    '''\n",
    "Prints pattern :\n",
    "1 \n",
    "1 2 \n",
    "1 2 3 \n",
    "1 2 3 4 \n",
    "1 2 3 4 5 \n",
    "\n",
    "Parameters:\n",
    "    n: <int>, required number of rows\n",
    "\n",
    "Returns:\n",
    "    <none>\n",
    "    '''\n",
    "    for i in range(n+1):    # loop for number of rows \n",
    "        for j in range(i):  # loop for printing the rows\n",
    "            print(j+1, end=\" \") \n",
    "        print()             # for next line\n",
    "\n",
    "pattern_a(m)                # calling function to print pattern"
   ]
  },
  {
   "cell_type": "code",
   "execution_count": 3,
   "metadata": {},
   "outputs": [
    {
     "output_type": "stream",
     "name": "stdout",
     "text": [
      "          \n        1 \n      2 1 2 \n    3 2 1 2 3 \n  4 3 2 1 2 3 4 \n5 4 3 2 1 2 3 4 5 \n"
     ]
    }
   ],
   "source": [
    "def pattern_b(n):\n",
    "  '''\n",
    "Prints pattern :\n",
    "        1 \n",
    "      2 1 2 \n",
    "    3 2 1 2 3 \n",
    "  4 3 2 1 2 3 4 \n",
    "5 4 3 2 1 2 3 4 5 \n",
    "  \n",
    "Parameters:\n",
    "    n: <int>, required number of rows\n",
    "\n",
    "Returns:\n",
    "    <none>\n",
    "  '''    \n",
    "  for i in range(n+1):  # loop for number of rows \n",
    "      print(\" \"*(2*(n-i)), end = '')  # printing spaces\n",
    "      for j in range(i, 1, -1):       # loop for left half triangle\n",
    "          print(j, end = \" \")\n",
    "      for j in range(1, i+1):         # loop for right half triangle\n",
    "          print(j, end =\" \")\n",
    "      print()                         # for next line\n",
    "\n",
    "pattern_b(m)              # calling function to print pattern\n"
   ]
  },
  {
   "cell_type": "code",
   "execution_count": 4,
   "metadata": {},
   "outputs": [
    {
     "output_type": "stream",
     "name": "stdout",
     "text": [
      "5 4 3 2 1 \n4 3 2 1 \n3 2 1 \n2 1 \n1 \n"
     ]
    }
   ],
   "source": [
    "def pattern_c(n):\n",
    "    '''\n",
    "Prints pattern :\n",
    "5 4 3 2 1 \n",
    "4 3 2 1 \n",
    "3 2 1 \n",
    "2 1 \n",
    "1 \n",
    "\n",
    "Parameters:\n",
    "    n: <int>, required number of rows\n",
    "\n",
    "Returns:\n",
    "    <none>\n",
    "    '''        \n",
    "    for i in range(n,0,-1):         # loop for number of rows \n",
    "        for j in range(i,0,-1):     # loop for printing the rows\n",
    "            print(j, end=\" \")\n",
    "        print()                     # for next line\n",
    "\n",
    "pattern_c(m)                        # calling function to print pattern\n"
   ]
  },
  {
   "cell_type": "code",
   "execution_count": 5,
   "metadata": {},
   "outputs": [
    {
     "output_type": "stream",
     "name": "stdout",
     "text": [
      "\n1 \n2 2 \n3 3 3 \n4 4 4 4 \n5 5 5 5 5 \n"
     ]
    }
   ],
   "source": [
    "def pattern_d(n):\n",
    "    '''\n",
    "Prints pattern :\n",
    "1 \n",
    "2 2 \n",
    "3 3 3 \n",
    "4 4 4 4 \n",
    "5 5 5 5 5 \n",
    "\n",
    "Parameters:\n",
    "    n: <int>, required number of rows\n",
    "\n",
    "Returns:\n",
    "    <none>\n",
    "    '''        \n",
    "    for i in range(n+1):        # loop for number of rows \n",
    "        print((str(i)+' ')*i)   # printing the rows\n",
    "\n",
    "pattern_d(m)                    # calling function to print pattern"
   ]
  },
  {
   "cell_type": "code",
   "execution_count": 6,
   "metadata": {},
   "outputs": [
    {
     "output_type": "stream",
     "name": "stdout",
     "text": [
      " 1 2 3 4 5 \n   2 3 4 5 \n     3 4 5 \n       4 5 \n         5 \n"
     ]
    }
   ],
   "source": [
    "def pattern_e(n):\n",
    "  '''\n",
    "Prints pattern :\n",
    " 1 2 3 4 5 \n",
    "   2 3 4 5 \n",
    "     3 4 5 \n",
    "       4 5 \n",
    "         5 \n",
    "\n",
    "Parameters:\n",
    "    n: <int>, required number of rows\n",
    "\n",
    "Returns:\n",
    "    <none>\n",
    "  ''' \n",
    "  for i in range(1,n+1):            # loop for number of rows \n",
    "      print(\" \"*(2*i-1), end='')    # printing the spaces\n",
    "      for j in range(i, n+1):       # loop for printing the rows\n",
    "          print(j, end=\" \") \n",
    "      print()                       # for next line\n",
    "\n",
    "pattern_e(m)                          # calling function to print pattern"
   ]
  },
  {
   "cell_type": "code",
   "execution_count": 7,
   "metadata": {},
   "outputs": [
    {
     "output_type": "stream",
     "name": "stdout",
     "text": [
      "* * * * * \n*       * \n*       * \n*       * \n* * * * * \n"
     ]
    }
   ],
   "source": [
    "def pattern_f(n):\n",
    "    '''\n",
    "Prints pattern :\n",
    "\n",
    "* * * * * \n",
    "*       * \n",
    "*       * \n",
    "*       * \n",
    "* * * * * \n",
    "\n",
    "Parameters:\n",
    "    n: <int>, required number of rows\n",
    "\n",
    "Returns:\n",
    "    <none>\n",
    "    '''      \n",
    "    for i in range(n):      # loop for number of rows      \n",
    "        for j in range(n):  # loop for printing the rows\n",
    "            print('*',end = ' ') if (i == 0 or i == n-1 or j == 0 or j == n-1) else print(' ',end = ' ')\n",
    "            \n",
    "        print()             # for next line\n",
    "\n",
    "pattern_f(m)                # calling function to print pattern\n"
   ]
  },
  {
   "cell_type": "code",
   "execution_count": 8,
   "metadata": {},
   "outputs": [
    {
     "output_type": "stream",
     "name": "stdout",
     "text": [
      "* * * * * \n* * * * * \n* * * * * \n* * * * * \n* * * * * \n"
     ]
    }
   ],
   "source": [
    "def pattern_g(n):\n",
    "    '''\n",
    "Prints pattern :\n",
    "\n",
    "* * * * * \n",
    "* * * * * \n",
    "* * * * * \n",
    "* * * * * \n",
    "* * * * * \n",
    "\n",
    "Parameters:\n",
    "    n: <int>, required number of rows\n",
    "\n",
    "Returns:\n",
    "    <none>\n",
    "    '''     \n",
    "    for i in range(n):      # loop for number of rows \n",
    "        print('* '*n)       # printing the rows\n",
    "\n",
    "pattern_g(m)              # calling function to print pattern\n"
   ]
  },
  {
   "cell_type": "code",
   "execution_count": 9,
   "metadata": {},
   "outputs": [
    {
     "output_type": "stream",
     "name": "stdout",
     "text": [
      "          \n        * \n      * * * \n    * * * * * \n  * * * * * * * \n* * * * * * * * * \n"
     ]
    }
   ],
   "source": [
    "def pattern_h(n):\n",
    "  '''\n",
    "Prints pattern :\n",
    "\n",
    "        * \n",
    "      * * * \n",
    "    * * * * * \n",
    "  * * * * * * * \n",
    "* * * * * * * * * \n",
    "\n",
    "Parameters:\n",
    "    n: <int>, required number of rows\n",
    "\n",
    "Returns:\n",
    "    <none>\n",
    "  '''   \n",
    "  for i in range(n+1):    # loop for number of rows \n",
    "      print(\" \"*(2*(n-i)),'* '*(2*i-1), sep = '') # printing the rows\n",
    "\n",
    "pattern_h(m)              # calling function to print pattern"
   ]
  },
  {
   "cell_type": "code",
   "execution_count": 10,
   "metadata": {},
   "outputs": [
    {
     "output_type": "stream",
     "name": "stdout",
     "text": [
      " * * * * * * * * * \n   *           * \n     *       * \n       *   * \n         * \n"
     ]
    }
   ],
   "source": [
    "def pattern_i(n):\n",
    "  '''\n",
    "Prints pattern :\n",
    "\n",
    " * * * * * * * * * \n",
    "   *           * \n",
    "     *       * \n",
    "       *   * \n",
    "         * \n",
    "\n",
    "Parameters:\n",
    "    n: <int>, required number of rows\n",
    "\n",
    "Returns:\n",
    "    <none>\n",
    "  '''   \n",
    "  for i in range(1, n+1):       # loop for number of rows \n",
    "      print(\" \"*(2*i-1), end='')# printing the spaces\n",
    "      for j in range(i, n+1):   # loop for printing left half triangle the rows\n",
    "          print('*', end=\" \") if (i == 1 or j == i) else print(' ', end=\" \")\n",
    "          \n",
    "      for j in range(i, n):     # loop for printing right half triangle the rows\n",
    "          print('*', end=\" \") if (i == 1 or j == n-1) else print(' ', end=\" \")\n",
    "              \n",
    "      print()     # for next line\n",
    "\n",
    "pattern_i(m)              # calling function to print pattern"
   ]
  },
  {
   "cell_type": "code",
   "execution_count": 11,
   "metadata": {},
   "outputs": [
    {
     "output_type": "stream",
     "name": "stdout",
     "text": [
      "* * * * * * * * * \n  * * * * * * * \n    * * * * * \n      * * * \n        * \n"
     ]
    }
   ],
   "source": [
    "def pattern_j(n):\n",
    "  '''\n",
    "Prints pattern :\n",
    "\n",
    " * * * * * * * * * \n",
    "   * * * * * * * \n",
    "     * * * * * \n",
    "       * * * \n",
    "         * \n",
    "\n",
    "Parameters:\n",
    "    n: <int>, required number of rows\n",
    "\n",
    "Returns:\n",
    "    <none>\n",
    "  '''   \n",
    "  for i in range(n):              # loop for number of rows \n",
    "      print(\" \"*(2*i), end='')    # printing spaces\n",
    "      print('* '* (2*(n-i)-1))    # printing the rows\n",
    "\n",
    "pattern_j(m)              # calling function to print pattern"
   ]
  },
  {
   "cell_type": "code",
   "execution_count": 12,
   "metadata": {},
   "outputs": [
    {
     "output_type": "stream",
     "name": "stdout",
     "text": [
      "         * \n       *   * \n     *       * \n   *           * \n *               * \n   *           * \n     *       * \n       *   * \n         * \n"
     ]
    }
   ],
   "source": [
    "def pattern_k(n):\n",
    "  '''\n",
    "Prints pattern :\n",
    "\n",
    "         * \n",
    "       *   * \n",
    "     *       * \n",
    "   *           * \n",
    " *               * \n",
    "   *           * \n",
    "     *       * \n",
    "       *   * \n",
    "         * \n",
    "\n",
    "Parameters:\n",
    "    n: <int>, required number of rows\n",
    "\n",
    "Returns:\n",
    "    <none>\n",
    "  '''   \n",
    "  for i in range(1,n):            # loop for number of rows \n",
    "      print(\" \"*(2*(n-i)+1), end = '')  # loop for printing upper half triangle spaces\n",
    "      for j in range(i, 1, -1):   # loop for printing upper left half triangle rows\n",
    "          print('*', end=\" \") if j == i else print(' ', end=\" \")\n",
    "\n",
    "      for j in range(1, i+1):      # loop for printing upper right half triangle rows\n",
    "          print('*', end=\" \") if  j == i else print(' ', end=\" \")\n",
    "\n",
    "      print()     # for next line\n",
    "      \n",
    "  for i in range(1, n+1):         # loop for number of rows \n",
    "      print(\" \"*(2*i-1), end='')  # loop for printing lower half triangle spaces\n",
    "      for j in range(i, n+1):     # loop for printing lower left half triangle rows\n",
    "          print('*', end=\" \") if j == i else print(' ', end=\" \")\n",
    "\n",
    "      for j in range(i, n):       # loop for printing lower right half triangle rows\n",
    "          print('*', end=\" \") if j == n-1 else print(' ', end=\" \")\n",
    "              \n",
    "      print()     # for next line\n",
    "          \n",
    "\n",
    "pattern_k(m)              # calling function to print pattern"
   ]
  },
  {
   "cell_type": "code",
   "execution_count": 13,
   "metadata": {},
   "outputs": [
    {
     "output_type": "stream",
     "name": "stdout",
     "text": [
      "         * \n       * * * \n     * * * * * \n   * * * * * * * \n * * * * * * * * * \n   * * * * * * * \n     * * * * * \n       * * * \n         * \n"
     ]
    }
   ],
   "source": [
    "def pattern_l(n):\n",
    "  '''\n",
    "Prints pattern :\n",
    "\n",
    "         * \n",
    "       * * * \n",
    "     * * * * * \n",
    "   * * * * * * * \n",
    " * * * * * * * * * \n",
    "   * * * * * * * \n",
    "     * * * * * \n",
    "       * * * \n",
    "         * \n",
    "\n",
    "Parameters:\n",
    "    n: <int>, required number of rows\n",
    "\n",
    "Returns:\n",
    "    <none>\n",
    "  '''   \n",
    "  for i in range(1,n,1):        # loop for number of rows \n",
    "      print(\" \"*(2*(n-i)+1),'* '*(2*i-1), sep = '') # loop for printing upper half triangle rows\n",
    "  for i in range(1, n+1):       # loop for number of rows \n",
    "      print(\" \"*(2*i-1), '* '*(2*(n-i) +1), sep='') # loop for printing lower half triangle rows\n",
    "\n",
    "pattern_l(m)              # calling function to print pattern"
   ]
  },
  {
   "cell_type": "code",
   "execution_count": 14,
   "metadata": {},
   "outputs": [
    {
     "output_type": "stream",
     "name": "stdout",
     "text": [
      "$ $ $ $ $ \n  $ $ $ $ \n    $ $ $ \n      $ $ \n        $ \n"
     ]
    }
   ],
   "source": [
    "def pattern_m(n):\n",
    "  '''\n",
    "Prints pattern :\n",
    " $ $ $ $ $ \n",
    "   $ $ $ $ \n",
    "     $ $ $ \n",
    "       $ $ \n",
    "         $ \n",
    "\n",
    "Parameters:\n",
    "    n: <int>, required number of rows\n",
    "\n",
    "Returns:\n",
    "    <none>\n",
    "  '''   \n",
    "  for i in range(n):      # loop for number of rows \n",
    "      print(\" \"*(2*i),'$ '*(n-i) ,sep='') # loop for printing the rows\n",
    "\n",
    "pattern_m(m)              # calling function to print pattern"
   ]
  },
  {
   "cell_type": "code",
   "execution_count": 15,
   "metadata": {},
   "outputs": [
    {
     "output_type": "stream",
     "name": "stdout",
     "text": [
      "          # \n        # # \n      # # # \n    # # # # \n  # # # # # \n"
     ]
    }
   ],
   "source": [
    "\n",
    "def pattern_n(n):\n",
    "  '''\n",
    "Prints pattern :\n",
    "\n",
    "          #\n",
    "        # #\n",
    "      # # #\n",
    "    # # # #\n",
    "  # # # # #\n",
    "\n",
    "Parameters:\n",
    "    n: <int>, required number of rows\n",
    "\n",
    "Returns:\n",
    "    <none>\n",
    "  '''     \n",
    "  for i in range(n):    # loop for number of rows \n",
    "      print(\" \" * (2*(n-i)),'# ' * (i+1), sep = '') # printing the spaces and pattern\n",
    "\n",
    "pattern_n(m)              # calling function to print pattern"
   ]
  }
 ]
}