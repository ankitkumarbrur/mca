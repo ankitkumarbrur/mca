{
 "cells": [
  {
   "source": [
    "# Menu\n",
    "1. Quadratic Roots\n",
    "2. Greatest of three numbers\n",
    "3. Find Grades"
   ],
   "cell_type": "markdown",
   "metadata": {}
  },
  {
   "source": [
    "# Functions"
   ],
   "cell_type": "markdown",
   "metadata": {}
  },
  {
   "cell_type": "markdown",
   "metadata": {},
   "source": [
    "## Quadratic roots"
   ]
  },
  {
   "cell_type": "code",
   "execution_count": 1,
   "metadata": {},
   "outputs": [],
   "source": [
    "from math import sqrt           # square root function from math library\n",
    "def quadratic_roots(a, b, c):\n",
    "    '''\n",
    "    Finds roots of a Quadratic Equation (ax^2 + bx + c) and prints them.\n",
    "\n",
    "    Parameters:\n",
    "        a: <int>, required\n",
    "        b: <int>, required\n",
    "        c: <int>, required\n",
    "\n",
    "    Returns: <none>\n",
    "    '''\n",
    "    # checking if the arguments entered are valid\n",
    "    if(not isinstance(a,int) or not isinstance(b,int) or not isinstance(c,int)): \n",
    "        raise Exception(\"Enter only integer values\")\n",
    "\n",
    "    d = b*b - 4*a*c             # discriminant\n",
    "    sqrt_d = sqrt(abs(d))       # square root of discriminant                                                          \n",
    "\n",
    "    # when discriminant>0 roots are real and different\n",
    "    if d > 0:\n",
    "        print('Roots are real and different\\n')\n",
    "        print('X1 = ', (-b + sqrt_d)/2*a)\n",
    "        print('X2 = ', (-b + sqrt_d)/2*a)\n",
    "    \n",
    "    # when discriminant=0 roots are real and identical\n",
    "    elif d == 0:                \n",
    "        print('Roots are real and identical\\n')\n",
    "        print('X1 = ', -b/2*a)\n",
    "        print('X2 = ', -b/2*a)\n",
    "\n",
    "    # when discriminant<0 roots are imaginary\n",
    "    else:                       \n",
    "        print('Roots are imaginary\\n')\n",
    "        print('X1 = ', -b / 2*a, '+i ', sqrt_d/2*a)\n",
    "        print('X2 = ', -b / 2*a, '-i ', sqrt_d/2*a)"
   ]
  },
  {
   "cell_type": "code",
   "execution_count": 2,
   "metadata": {},
   "outputs": [
    {
     "output_type": "stream",
     "name": "stdout",
     "text": [
      "Roots are imaginary\n\nX1 =  -3.0 +i  4.0\nX2 =  -3.0 -i  4.0\n"
     ]
    }
   ],
   "source": [
    "quadratic_roots(1,6,25)     # finding out roots for x^2 + 6x + 25"
   ]
  },
  {
   "cell_type": "markdown",
   "metadata": {},
   "source": [
    "## Greatest of three numbers"
   ]
  },
  {
   "cell_type": "code",
   "execution_count": 3,
   "metadata": {},
   "outputs": [],
   "source": [
    "def greatest(a,b,c):\n",
    "    '''\n",
    "    Finds greatest out of three numbers and prints it.\n",
    "    \n",
    "    Parameters:\n",
    "    a: <int>, required\n",
    "    b: <int>, required\n",
    "    c: <int>, required\n",
    "\n",
    "    Returns:\n",
    "        None\n",
    "    '''\n",
    "    if(not isinstance(a,(int,float)) or not isinstance(b,(int,float)) or not isinstance(c,(int,float))):\n",
    "        raise Exception(\"Enter only integer or float values\")\n",
    "\n",
    "    if(a == b == c):\n",
    "        print(\"Numbers are identical\")\n",
    "    elif (a >= b) and (a >= c):\n",
    "        print(\"The greatest number is\", a)\n",
    "    elif (b >= c):\n",
    "        print(\"The greatest number is\", b)\n",
    "    else:\n",
    "        print(\"The greatest number is\", c)\n"
   ]
  },
  {
   "cell_type": "code",
   "execution_count": 4,
   "metadata": {},
   "outputs": [
    {
     "output_type": "stream",
     "name": "stdout",
     "text": [
      "The greatest number is 3\n"
     ]
    }
   ],
   "source": [
    "greatest(1,1,3)"
   ]
  },
  {
   "cell_type": "markdown",
   "metadata": {},
   "source": [
    "## Find Grades"
   ]
  },
  {
   "cell_type": "code",
   "execution_count": 5,
   "metadata": {},
   "outputs": [],
   "source": [
    "def findGrade(num):\n",
    "    '''\n",
    "    Calculates Grade and prints it.\n",
    "\n",
    "    Parameters:\n",
    "    num:    <int>, required\n",
    "            numbers corresponding to which you need grades\n",
    "\n",
    "    Returns:\n",
    "        None\n",
    "    '''\n",
    "    if(not isinstance(num,(int,float))):\n",
    "        raise Exception(\"Enter only integer or float value\")\n",
    "\n",
    "    if(num >= 90):\n",
    "        print(\"A\")\n",
    "\n",
    "    elif( num >= 80):\n",
    "        print(\"A-\")\n",
    "\n",
    "    elif( num >= 70):\n",
    "        print(\"B\")\n",
    "\n",
    "    elif( num >= 60):\n",
    "        print(\"B-\")\n",
    "\n",
    "    elif( num >= 50):\n",
    "        print(\"C\")\n",
    "\n",
    "    elif( num >= 40):\n",
    "        print(\"C-\")\n",
    "\n",
    "    else:\n",
    "        print(\"FAIL\")"
   ]
  },
  {
   "cell_type": "code",
   "execution_count": 6,
   "metadata": {},
   "outputs": [
    {
     "output_type": "stream",
     "name": "stdout",
     "text": [
      "A\n"
     ]
    }
   ],
   "source": [
    "findGrade(97)"
   ]
  }
 ],
 "metadata": {
  "kernelspec": {
   "display_name": "Python 3.8.1 32-bit ('venv': venv)",
   "language": "python",
   "name": "python38132bitvenvvenv91270e11641b484ca834f7666afa2651"
  },
  "language_info": {
   "codemirror_mode": {
    "name": "ipython",
    "version": 3
   },
   "file_extension": ".py",
   "mimetype": "text/x-python",
   "name": "python",
   "nbconvert_exporter": "python",
   "pygments_lexer": "ipython3",
   "version": "3.8.1-final"
  }
 },
 "nbformat": 4,
 "nbformat_minor": 2
}